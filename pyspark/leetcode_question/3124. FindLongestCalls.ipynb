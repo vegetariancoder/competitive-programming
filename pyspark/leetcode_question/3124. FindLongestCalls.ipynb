{
 "cells": [
  {
   "cell_type": "code",
   "id": "initial_id",
   "metadata": {
    "collapsed": true,
    "ExecuteTime": {
     "end_time": "2024-05-04T23:38:15.377538Z",
     "start_time": "2024-05-04T23:38:10.317609Z"
    }
   },
   "source": [
    "from pyspark.sql.session import SparkSession\n",
    "from pyspark.sql.functions import col\n",
    "\n",
    "\n",
    "spark = SparkSession \\\n",
    "        .builder \\\n",
    "        .config(\"spark.jars\",\n",
    "                \"/Users/sahilnagpal/Downloads/mysql-connector-java-8.0.29.jar\") \\\n",
    "        .master(\"local[*]\") \\\n",
    "        .appName(\"leetcode-problems\") \\\n",
    "        .getOrCreate()\n"
   ],
   "outputs": [
    {
     "name": "stderr",
     "output_type": "stream",
     "text": [
      "24/05/04 19:38:12 WARN NativeCodeLoader: Unable to load native-hadoop library for your platform... using builtin-java classes where applicable\n",
      "Setting default log level to \"WARN\".\n",
      "To adjust logging level use sc.setLogLevel(newLevel). For SparkR, use setLogLevel(newLevel).\n",
      "24/05/04 19:38:14 WARN Utils: Service 'SparkUI' could not bind on port 4040. Attempting port 4041.\n"
     ]
    }
   ],
   "execution_count": 1
  },
  {
   "metadata": {
    "ExecuteTime": {
     "end_time": "2024-05-04T23:40:15.127515Z",
     "start_time": "2024-05-04T23:40:12.240490Z"
    }
   },
   "cell_type": "code",
   "source": [
    "Calls = spark.read.format(\"jdbc\"). \\\n",
    "    option(\"url\", \"jdbc:mysql://localhost:3306/online\") \\\n",
    "    .option(\"driver\", \"com.mysql.cj.jdbc.Driver\") \\\n",
    "    .option(\"dbtable\", \"Calls\") \\\n",
    "    .option(\"user\", \"root\") \\\n",
    "    .option(\"password\", \"password\") \\\n",
    "    .load()\n",
    "\n",
    "Contacts = spark.read.format(\"jdbc\"). \\\n",
    "    option(\"url\", \"jdbc:mysql://localhost:3306/online\") \\\n",
    "    .option(\"driver\", \"com.mysql.cj.jdbc.Driver\") \\\n",
    "    .option(\"dbtable\", \"Contacts\") \\\n",
    "    .option(\"user\", \"root\") \\\n",
    "    .option(\"password\", \"password\") \\\n",
    "    .load()"
   ],
   "id": "497cb904870dbce0",
   "outputs": [],
   "execution_count": 3
  },
  {
   "metadata": {
    "ExecuteTime": {
     "end_time": "2024-05-04T23:48:36.239639Z",
     "start_time": "2024-05-04T23:48:35.882746Z"
    }
   },
   "cell_type": "code",
   "source": [
    "from pyspark.sql.functions import dense_rank, concat, format_string, lit\n",
    "from pyspark.sql.window import Window\n",
    "Calls\\\n",
    "    .join(Contacts, Calls.contact_id == Contacts.id,\"inner\")\\\n",
    "    .select(\"contact_id\",\"first_name\",\"type\",\"duration\")\\\n",
    "    .withColumn(\"rnk\",dense_rank().over(Window.partitionBy(\"type\").orderBy(col(\"duration\").desc())))\\\n",
    "    .filter(col(\"rnk\")<=3)\\\n",
    "    .withColumn(\"hours\",(col(\"duration\")/3600).cast(\"int\"))\\\n",
    "    .withColumn(\"minutes\",((col(\"duration\")%3600)/60).cast(\"int\"))\\\n",
    "    .withColumn(\"seconds\",(col(\"duration\")%60).cast(\"int\"))\\\n",
    "    .withColumn(\"time_format\",concat(format_string(\"%02d\", col(\"hours\")),lit(\":\"),\n",
    "                                     format_string(\"%02d\", col(\"minutes\")),lit(\":\"),\n",
    "                                     format_string(\"%02d\", col(\"seconds\"))))\\\n",
    "    .select(\"first_name\",\"type\",\"time_format\")\\\n",
    "    .show()"
   ],
   "id": "96a60ef7db022796",
   "outputs": [
    {
     "name": "stdout",
     "output_type": "stream",
     "text": [
      "+----------+--------+-----------+\n",
      "|first_name|    type|time_format|\n",
      "+----------+--------+-----------+\n",
      "|   Michael|incoming|   00:07:00|\n",
      "|      Jane|incoming|   00:05:00|\n",
      "|     Emily|incoming|   00:03:00|\n",
      "|     Alice|outgoing|   00:06:00|\n",
      "|     Emily|outgoing|   00:04:40|\n",
      "|      Jane|outgoing|   00:04:00|\n",
      "+----------+--------+-----------+\n",
      "\n"
     ]
    }
   ],
   "execution_count": 18
  },
  {
   "metadata": {},
   "cell_type": "code",
   "outputs": [],
   "execution_count": null,
   "source": "",
   "id": "f02c82f49c679b58"
  }
 ],
 "metadata": {
  "kernelspec": {
   "display_name": "Python 3",
   "language": "python",
   "name": "python3"
  },
  "language_info": {
   "codemirror_mode": {
    "name": "ipython",
    "version": 2
   },
   "file_extension": ".py",
   "mimetype": "text/x-python",
   "name": "python",
   "nbconvert_exporter": "python",
   "pygments_lexer": "ipython2",
   "version": "2.7.6"
  }
 },
 "nbformat": 4,
 "nbformat_minor": 5
}
