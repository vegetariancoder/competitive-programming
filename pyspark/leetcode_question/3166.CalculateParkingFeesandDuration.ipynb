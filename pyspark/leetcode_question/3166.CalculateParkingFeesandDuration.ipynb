{
 "cells": [
  {
   "cell_type": "code",
   "id": "initial_id",
   "metadata": {
    "collapsed": true,
    "ExecuteTime": {
     "end_time": "2024-06-19T23:24:21.421307Z",
     "start_time": "2024-06-19T23:24:21.407973Z"
    }
   },
   "source": [
    "from pyspark.sql.session import SparkSession\n",
    "from pyspark.sql.functions import col,sum,round,dense_rank\n",
    "from pyspark.sql.window import Window\n",
    "\n",
    "\n",
    "spark = SparkSession \\\n",
    "        .builder \\\n",
    "        .config(\"spark.jars\",\n",
    "                \"/Users/sahilnagpal/Downloads/mysql-connector-java-8.0.29.jar\") \\\n",
    "        .master(\"local[*]\") \\\n",
    "        .appName(\"leetcode-problems\") \\\n",
    "        .getOrCreate()"
   ],
   "outputs": [],
   "execution_count": 19
  },
  {
   "metadata": {
    "ExecuteTime": {
     "end_time": "2024-06-19T23:14:43.176027Z",
     "start_time": "2024-06-19T23:14:40.172445Z"
    }
   },
   "cell_type": "code",
   "source": [
    "ParkingTransactions = spark.read.format(\"jdbc\"). \\\n",
    "    option(\"url\", \"jdbc:mysql://localhost:3306/leetcode\") \\\n",
    "    .option(\"driver\", \"com.mysql.cj.jdbc.Driver\") \\\n",
    "    .option(\"dbtable\", \"ParkingTransactions\") \\\n",
    "    .option(\"user\", \"root\") \\\n",
    "    .option(\"password\", \"password\") \\\n",
    "    .load()"
   ],
   "id": "bd5646f19c36ef79",
   "outputs": [],
   "execution_count": 2
  },
  {
   "metadata": {
    "ExecuteTime": {
     "end_time": "2024-06-19T23:16:36.872788Z",
     "start_time": "2024-06-19T23:16:23.707829Z"
    }
   },
   "cell_type": "code",
   "source": "ParkingTransactions.show()",
   "id": "23bc2ffb0c754399",
   "outputs": [
    {
     "name": "stderr",
     "output_type": "stream",
     "text": [
      "                                                                                \r"
     ]
    },
    {
     "name": "stdout",
     "output_type": "stream",
     "text": [
      "+------+------+-------------------+-------------------+--------+\n",
      "|lot_id|car_id|         entry_time|          exit_time|fee_paid|\n",
      "+------+------+-------------------+-------------------+--------+\n",
      "|     1|  1001|2023-06-01 08:00:00|2023-06-01 10:30:00|    5.00|\n",
      "|     1|  1001|2023-06-02 11:00:00|2023-06-02 12:45:00|    3.00|\n",
      "|     2|  1001|2023-06-01 10:45:00|2023-06-01 12:00:00|    6.00|\n",
      "|     2|  1002|2023-06-01 09:00:00|2023-06-01 11:30:00|    4.00|\n",
      "|     3|  1001|2023-06-03 07:00:00|2023-06-03 09:00:00|    4.00|\n",
      "|     3|  1002|2023-06-02 12:00:00|2023-06-02 14:00:00|    2.00|\n",
      "+------+------+-------------------+-------------------+--------+\n",
      "\n"
     ]
    }
   ],
   "execution_count": 3
  },
  {
   "metadata": {
    "ExecuteTime": {
     "end_time": "2024-06-19T23:28:14.214696Z",
     "start_time": "2024-06-19T23:28:12.488034Z"
    }
   },
   "cell_type": "code",
   "source": [
    "pk_acg_df = ParkingTransactions\\\n",
    "    .withColumn(\"time_diff\",(col(\"exit_time\").cast(\"long\")-col(\"entry_time\").cast(\"long\"))/3600)\\\n",
    "    .groupby(col(\"car_id\"))\\\n",
    "    .agg(sum(\"fee_paid\").alias(\"total_fee_paid\"),\n",
    "         sum(\"time_diff\").alias(\"total_time_diff\"))\\\n",
    "    .withColumn(\"avg_hourly_fee\",round(col(\"total_fee_paid\")/col(\"total_time_diff\"),2))\\\n",
    "    .drop(\"total_time_diff\")\n",
    "\n",
    "\n",
    "most_pk_df = ParkingTransactions\\\n",
    "    .withColumn(\"time_diff\",(col(\"exit_time\").cast(\"long\")-col(\"entry_time\").cast(\"long\"))/3600)\\\n",
    "    .groupby(col(\"car_id\"),col(\"lot_id\"))\\\n",
    "    .agg(sum(\"time_diff\").alias(\"total_time_diff\"))\\\n",
    "    .withColumn(\"rnk\",dense_rank().over(Window.partitionBy(\"car_id\").orderBy(col(\"total_time_diff\").desc())))\\\n",
    "    .filter(col(\"rnk\")==1)\\\n",
    "    .select(\"car_id\",\"lot_id\")\\\n",
    "    .withColumnRenamed(\"car_id\",\"c_id\")\n",
    "\n",
    "pk_acg_df\\\n",
    "    .join(most_pk_df,pk_acg_df.car_id == most_pk_df.c_id,\"inner\")\\\n",
    "    .select(\"car_id\",\"total_fee_paid\",\"avg_hourly_fee\",\"lot_id\")\\\n",
    "    .show()\n",
    "\n"
   ],
   "id": "222206fc4d108d36",
   "outputs": [
    {
     "name": "stdout",
     "output_type": "stream",
     "text": [
      "+------+--------------+--------------+------+\n",
      "|car_id|total_fee_paid|avg_hourly_fee|lot_id|\n",
      "+------+--------------+--------------+------+\n",
      "|  1001|         18.00|           2.4|     1|\n",
      "|  1002|          6.00|          1.33|     2|\n",
      "+------+--------------+--------------+------+\n",
      "\n"
     ]
    }
   ],
   "execution_count": 28
  },
  {
   "metadata": {},
   "cell_type": "code",
   "outputs": [],
   "execution_count": null,
   "source": "",
   "id": "20959fb7b39998a5"
  }
 ],
 "metadata": {
  "kernelspec": {
   "display_name": "Python 3",
   "language": "python",
   "name": "python3"
  },
  "language_info": {
   "codemirror_mode": {
    "name": "ipython",
    "version": 2
   },
   "file_extension": ".py",
   "mimetype": "text/x-python",
   "name": "python",
   "nbconvert_exporter": "python",
   "pygments_lexer": "ipython2",
   "version": "2.7.6"
  }
 },
 "nbformat": 4,
 "nbformat_minor": 5
}
