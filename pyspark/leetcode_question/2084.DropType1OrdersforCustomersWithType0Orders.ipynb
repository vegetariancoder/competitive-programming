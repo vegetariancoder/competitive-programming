{
 "cells": [
  {
   "cell_type": "code",
   "id": "initial_id",
   "metadata": {
    "collapsed": true,
    "ExecuteTime": {
     "end_time": "2024-05-30T22:50:55.585404Z",
     "start_time": "2024-05-30T22:50:48.060467Z"
    }
   },
   "source": [
    "from pyspark.sql.session import SparkSession\n",
    "from pyspark.sql.functions import col,max,min\n",
    "\n",
    "\n",
    "spark = SparkSession \\\n",
    "        .builder \\\n",
    "        .config(\"spark.jars\",\n",
    "                \"/Users/sahilnagpal/Downloads/mysql-connector-java-8.0.29.jar\") \\\n",
    "        .master(\"local[*]\") \\\n",
    "        .appName(\"leetcode-problems\") \\\n",
    "        .getOrCreate()"
   ],
   "outputs": [
    {
     "name": "stderr",
     "output_type": "stream",
     "text": [
      "24/05/30 18:50:52 WARN NativeCodeLoader: Unable to load native-hadoop library for your platform... using builtin-java classes where applicable\n",
      "Setting default log level to \"WARN\".\n",
      "To adjust logging level use sc.setLogLevel(newLevel). For SparkR, use setLogLevel(newLevel).\n"
     ]
    }
   ],
   "execution_count": 1
  },
  {
   "metadata": {
    "ExecuteTime": {
     "end_time": "2024-05-30T22:51:14.856509Z",
     "start_time": "2024-05-30T22:51:06.800249Z"
    }
   },
   "cell_type": "code",
   "source": [
    "OrdersLeetCode = spark.read.format(\"jdbc\"). \\\n",
    "    option(\"url\", \"jdbc:mysql://localhost:3306/leetcode\") \\\n",
    "    .option(\"driver\", \"com.mysql.cj.jdbc.Driver\") \\\n",
    "    .option(\"dbtable\", \"OrdersLeetCode\") \\\n",
    "    .option(\"user\", \"root\") \\\n",
    "    .option(\"password\", \"password\") \\\n",
    "    .load()\n",
    "\n",
    "OrdersLeetCode.show()"
   ],
   "id": "c49f6f3348c2acf0",
   "outputs": [
    {
     "name": "stderr",
     "output_type": "stream",
     "text": [
      "                                                                                \r"
     ]
    },
    {
     "name": "stdout",
     "output_type": "stream",
     "text": [
      "+--------+-----------+----------+\n",
      "|order_id|customer_id|order_type|\n",
      "+--------+-----------+----------+\n",
      "|       1|          1|         0|\n",
      "|       2|          1|         0|\n",
      "|      11|          2|         0|\n",
      "|      12|          2|         1|\n",
      "|      21|          3|         1|\n",
      "|      22|          3|         0|\n",
      "|      31|          4|         1|\n",
      "|      32|          4|         1|\n",
      "+--------+-----------+----------+\n",
      "\n"
     ]
    }
   ],
   "execution_count": 2
  },
  {
   "metadata": {
    "ExecuteTime": {
     "end_time": "2024-05-30T22:53:29.956450Z",
     "start_time": "2024-05-30T22:53:29.707029Z"
    }
   },
   "cell_type": "code",
   "source": [
    "filtered_df = OrdersLeetCode\\\n",
    "    .filter(col(\"order_type\") == 0)\\\n",
    "    .select(\"customer_id\")\n",
    "\n",
    "\n",
    "customer_id_list = [row.customer_id for row in filtered_df.collect()]\n",
    "print(customer_id_list)"
   ],
   "id": "b58a0ff96f017b6e",
   "outputs": [
    {
     "name": "stdout",
     "output_type": "stream",
     "text": [
      "[1, 1, 2, 3]\n"
     ]
    }
   ],
   "execution_count": 4
  },
  {
   "metadata": {
    "ExecuteTime": {
     "end_time": "2024-05-30T22:55:51.029471Z",
     "start_time": "2024-05-30T22:55:50.716794Z"
    }
   },
   "cell_type": "code",
   "source": [
    "type_1_df = OrdersLeetCode\\\n",
    "    .filter(~col(\"customer_id\").isin(customer_id_list))\n",
    "\n",
    "type_0_df = filtered_df = OrdersLeetCode\\\n",
    "    .filter(col(\"order_type\") == 0)\n",
    "\n",
    "type_0_df.unionAll(type_1_df).show()\n"
   ],
   "id": "d3950da7fe3d1b9b",
   "outputs": [
    {
     "name": "stdout",
     "output_type": "stream",
     "text": [
      "+--------+-----------+----------+\n",
      "|order_id|customer_id|order_type|\n",
      "+--------+-----------+----------+\n",
      "|       1|          1|         0|\n",
      "|       2|          1|         0|\n",
      "|      11|          2|         0|\n",
      "|      22|          3|         0|\n",
      "|      31|          4|         1|\n",
      "|      32|          4|         1|\n",
      "+--------+-----------+----------+\n",
      "\n"
     ]
    }
   ],
   "execution_count": 7
  },
  {
   "metadata": {},
   "cell_type": "code",
   "outputs": [],
   "execution_count": null,
   "source": "",
   "id": "f8c7fa3f171c6acc"
  }
 ],
 "metadata": {
  "kernelspec": {
   "display_name": "Python 3",
   "language": "python",
   "name": "python3"
  },
  "language_info": {
   "codemirror_mode": {
    "name": "ipython",
    "version": 2
   },
   "file_extension": ".py",
   "mimetype": "text/x-python",
   "name": "python",
   "nbconvert_exporter": "python",
   "pygments_lexer": "ipython2",
   "version": "2.7.6"
  }
 },
 "nbformat": 4,
 "nbformat_minor": 5
}
