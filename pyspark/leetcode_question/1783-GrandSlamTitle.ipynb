{
 "cells": [
  {
   "cell_type": "code",
   "id": "initial_id",
   "metadata": {
    "collapsed": true,
    "ExecuteTime": {
     "end_time": "2024-06-26T23:30:54.050146Z",
     "start_time": "2024-06-26T23:30:47.651817Z"
    }
   },
   "source": [
    "from pyspark.sql.session import SparkSession\n",
    "from pyspark.sql.functions import col\n",
    "\n",
    "\n",
    "spark = SparkSession \\\n",
    "        .builder \\\n",
    "        .config(\"spark.jars\",\n",
    "                \"/Users/sahilnagpal/Downloads/mysql-connector-java-8.0.29.jar\") \\\n",
    "        .master(\"local[*]\") \\\n",
    "        .appName(\"leetcode-problems\") \\\n",
    "        .getOrCreate()"
   ],
   "outputs": [
    {
     "name": "stderr",
     "output_type": "stream",
     "text": [
      "24/06/26 19:30:51 WARN NativeCodeLoader: Unable to load native-hadoop library for your platform... using builtin-java classes where applicable\n",
      "Setting default log level to \"WARN\".\n",
      "To adjust logging level use sc.setLogLevel(newLevel). For SparkR, use setLogLevel(newLevel).\n"
     ]
    }
   ],
   "execution_count": 1
  },
  {
   "metadata": {
    "ExecuteTime": {
     "end_time": "2024-06-26T23:30:57.282427Z",
     "start_time": "2024-06-26T23:30:54.053475Z"
    }
   },
   "cell_type": "code",
   "source": [
    "Players = spark.read.format(\"jdbc\"). \\\n",
    "    option(\"url\", \"jdbc:mysql://localhost:3306/leetcode\") \\\n",
    "    .option(\"driver\", \"com.mysql.cj.jdbc.Driver\") \\\n",
    "    .option(\"dbtable\", \"Players\") \\\n",
    "    .option(\"user\", \"root\") \\\n",
    "    .option(\"password\", \"password\") \\\n",
    "    .load()\n",
    "\n",
    "Championships = spark.read.format(\"jdbc\"). \\\n",
    "    option(\"url\", \"jdbc:mysql://localhost:3306/leetcode\") \\\n",
    "    .option(\"driver\", \"com.mysql.cj.jdbc.Driver\") \\\n",
    "    .option(\"dbtable\", \"Championships\") \\\n",
    "    .option(\"user\", \"root\") \\\n",
    "    .option(\"password\", \"password\") \\\n",
    "    .load()"
   ],
   "id": "cfddba7aaa2cd007",
   "outputs": [],
   "execution_count": 2
  },
  {
   "metadata": {
    "ExecuteTime": {
     "end_time": "2024-06-26T23:36:47.901485Z",
     "start_time": "2024-06-26T23:36:47.399258Z"
    }
   },
   "cell_type": "code",
   "source": [
    "Wimbledon=Championships\\\n",
    "    .select(col(\"Wimbledon\").alias(\"pid\"))\n",
    "Fr_open=Championships\\\n",
    "    .select(\"Fr_open\")\n",
    "US_open=Championships\\\n",
    "    .select(\"US_open\")\n",
    "Au_open=Championships\\\n",
    "    .select(\"Au_open\")\n",
    "\n",
    "final_df = Wimbledon\\\n",
    "    .unionAll(Fr_open)\\\n",
    "    .unionAll(US_open)\\\n",
    "    .unionAll(Au_open)\\\n",
    "    .groupby(\"pid\")\\\n",
    "    .count()\n",
    "\n",
    "\n",
    "\n",
    "final_df\\\n",
    "    .join(Players,on=final_df.pid == Players.player_id,how=\"left\")\\\n",
    "    .select(\"pid\",\"player_name\",\"count\")\\\n",
    "    .show()\n"
   ],
   "id": "f9d309d498c8546c",
   "outputs": [
    {
     "name": "stdout",
     "output_type": "stream",
     "text": [
      "+---+-----------+-----+\n",
      "|pid|player_name|count|\n",
      "+---+-----------+-----+\n",
      "|  1|      Nadal|    7|\n",
      "|  2|    Federer|    5|\n",
      "+---+-----------+-----+\n",
      "\n"
     ]
    }
   ],
   "execution_count": 12
  },
  {
   "metadata": {},
   "cell_type": "code",
   "outputs": [],
   "execution_count": null,
   "source": "",
   "id": "a407018fd5301958"
  }
 ],
 "metadata": {
  "kernelspec": {
   "display_name": "Python 3",
   "language": "python",
   "name": "python3"
  },
  "language_info": {
   "codemirror_mode": {
    "name": "ipython",
    "version": 2
   },
   "file_extension": ".py",
   "mimetype": "text/x-python",
   "name": "python",
   "nbconvert_exporter": "python",
   "pygments_lexer": "ipython2",
   "version": "2.7.6"
  }
 },
 "nbformat": 4,
 "nbformat_minor": 5
}
