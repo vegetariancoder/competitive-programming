{
 "cells": [
  {
   "cell_type": "code",
   "id": "initial_id",
   "metadata": {
    "collapsed": true,
    "ExecuteTime": {
     "end_time": "2024-09-06T23:36:40.728241Z",
     "start_time": "2024-09-06T23:36:40.718308Z"
    }
   },
   "source": [
    "from pyspark.sql.session import SparkSession\n",
    "from pyspark.sql.functions import col,dense_rank,when,sum\n",
    "from pyspark.sql.window import Window\n",
    "\n",
    "\n",
    "spark = SparkSession \\\n",
    "        .builder \\\n",
    "        .config(\"spark.jars\",\n",
    "                \"/Users/sahilnagpal/Downloads/mysql-connector-java-8.0.29.jar\") \\\n",
    "        .master(\"local[*]\") \\\n",
    "        .appName(\"leetcode-problems\") \\\n",
    "        .getOrCreate()"
   ],
   "outputs": [],
   "execution_count": 6
  },
  {
   "metadata": {
    "ExecuteTime": {
     "end_time": "2024-09-06T23:31:44.593954Z",
     "start_time": "2024-09-06T23:31:41.886941Z"
    }
   },
   "cell_type": "code",
   "source": [
    "Projects = spark.read.format(\"jdbc\"). \\\n",
    "    option(\"url\", \"jdbc:mysql://localhost:3306/leetcode\") \\\n",
    "    .option(\"driver\", \"com.mysql.cj.jdbc.Driver\") \\\n",
    "    .option(\"dbtable\", \"Projects\") \\\n",
    "    .option(\"user\", \"root\") \\\n",
    "    .option(\"password\", \"password\") \\\n",
    "    .load()\n",
    "\n",
    "Candidates = spark.read.format(\"jdbc\"). \\\n",
    "    option(\"url\", \"jdbc:mysql://localhost:3306/leetcode\") \\\n",
    "    .option(\"driver\", \"com.mysql.cj.jdbc.Driver\") \\\n",
    "    .option(\"dbtable\", \"Candidates\") \\\n",
    "    .option(\"user\", \"root\") \\\n",
    "    .option(\"password\", \"password\") \\\n",
    "    .load()"
   ],
   "id": "d16dea178ace13aa",
   "outputs": [],
   "execution_count": 2
  },
  {
   "metadata": {
    "ExecuteTime": {
     "end_time": "2024-09-06T23:40:52.015742Z",
     "start_time": "2024-09-06T23:40:51.466852Z"
    }
   },
   "cell_type": "code",
   "source": [
    "Projects\\\n",
    "    .join(Candidates,Projects.skill == Candidates.skill,\"inner\")\\\n",
    "    .select(\"candidate_id\",Candidates.skill,\"proficiency\",\"project_id\",\"importance\")\\\n",
    "    .withColumn(\"score\",when(col(\"proficiency\")>col(\"importance\"),10)\\\n",
    "    .when(col(\"proficiency\")==col(\"importance\"),0).otherwise(-5))\\\n",
    "    .groupby(col(\"project_id\"),col(\"candidate_id\"))\\\n",
    "    .agg((sum(\"score\")+100).alias(\"score\"))\\\n",
    "    .withColumn(\"drnk\",dense_rank().over(Window.partitionBy(\"project_id\").orderBy(col(\"score\").desc(),\"candidate_id\")))\\\n",
    "    .filter(\"drnk==1\")\\\n",
    "    .drop(\"drnk\")\\\n",
    "    .show()"
   ],
   "id": "2ddff4c988e74026",
   "outputs": [
    {
     "name": "stdout",
     "output_type": "stream",
     "text": [
      "+----------+------------+-----+\n",
      "|project_id|candidate_id|score|\n",
      "+----------+------------+-----+\n",
      "|       501|         101|  105|\n",
      "|       502|         102|  130|\n",
      "+----------+------------+-----+\n",
      "\n"
     ]
    }
   ],
   "execution_count": 16
  },
  {
   "metadata": {},
   "cell_type": "code",
   "outputs": [],
   "execution_count": null,
   "source": "",
   "id": "4524e2485658ecd3"
  }
 ],
 "metadata": {
  "kernelspec": {
   "display_name": "Python 3",
   "language": "python",
   "name": "python3"
  },
  "language_info": {
   "codemirror_mode": {
    "name": "ipython",
    "version": 2
   },
   "file_extension": ".py",
   "mimetype": "text/x-python",
   "name": "python",
   "nbconvert_exporter": "python",
   "pygments_lexer": "ipython2",
   "version": "2.7.6"
  }
 },
 "nbformat": 4,
 "nbformat_minor": 5
}
