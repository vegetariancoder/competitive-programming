{
 "cells": [
  {
   "cell_type": "code",
   "id": "initial_id",
   "metadata": {
    "collapsed": true,
    "ExecuteTime": {
     "end_time": "2024-08-30T23:15:11.259666Z",
     "start_time": "2024-08-30T23:15:11.247872Z"
    }
   },
   "source": [
    "from pyspark.sql.session import SparkSession\n",
    "from pyspark.sql.functions import col,count,hour,lead,when\n",
    "from pyspark.sql.window import Window\n",
    "\n",
    "\n",
    "spark = SparkSession \\\n",
    "        .builder \\\n",
    "        .config(\"spark.jars\",\n",
    "                \"/Users/sahilnagpal/Downloads/mysql-connector-java-8.0.29.jar\") \\\n",
    "        .master(\"local[*]\") \\\n",
    "        .appName(\"leetcode-problems\") \\\n",
    "        .getOrCreate()"
   ],
   "outputs": [],
   "execution_count": 13
  },
  {
   "metadata": {
    "ExecuteTime": {
     "end_time": "2024-08-30T22:58:38.130824Z",
     "start_time": "2024-08-30T22:58:32.433546Z"
    }
   },
   "cell_type": "code",
   "source": [
    "EmployeeShifts = spark.read.format(\"jdbc\"). \\\n",
    "    option(\"url\", \"jdbc:mysql://localhost:3306/credit_card\") \\\n",
    "    .option(\"driver\", \"com.mysql.cj.jdbc.Driver\") \\\n",
    "    .option(\"dbtable\", \"EmployeeShifts\") \\\n",
    "    .option(\"user\", \"root\") \\\n",
    "    .option(\"password\", \"password\") \\\n",
    "    .load()\n",
    "\n",
    "EmployeeShifts.show()"
   ],
   "id": "8166792bf4437fb9",
   "outputs": [
    {
     "name": "stderr",
     "output_type": "stream",
     "text": [
      "                                                                                \r"
     ]
    },
    {
     "name": "stdout",
     "output_type": "stream",
     "text": [
      "+-----------+-------------------+-------------------+\n",
      "|employee_id|         start_time|           end_time|\n",
      "+-----------+-------------------+-------------------+\n",
      "|          1|1970-01-01 08:00:00|1970-01-01 12:00:00|\n",
      "|          1|1970-01-01 11:00:00|1970-01-01 15:00:00|\n",
      "|          1|1970-01-01 14:00:00|1970-01-01 18:00:00|\n",
      "|          2|1970-01-01 09:00:00|1970-01-01 17:00:00|\n",
      "|          2|1970-01-01 16:00:00|1970-01-01 20:00:00|\n",
      "|          3|1970-01-01 10:00:00|1970-01-01 12:00:00|\n",
      "|          3|1970-01-01 13:00:00|1970-01-01 15:00:00|\n",
      "|          3|1970-01-01 16:00:00|1970-01-01 18:00:00|\n",
      "|          4|1970-01-01 08:00:00|1970-01-01 10:00:00|\n",
      "|          4|1970-01-01 09:00:00|1970-01-01 11:00:00|\n",
      "+-----------+-------------------+-------------------+\n",
      "\n"
     ]
    }
   ],
   "execution_count": 3
  },
  {
   "metadata": {
    "ExecuteTime": {
     "end_time": "2024-08-30T23:17:53.039925Z",
     "start_time": "2024-08-30T23:17:52.206456Z"
    }
   },
   "cell_type": "code",
   "source": [
    "EmployeeShifts\\\n",
    "        .withColumn(\"start_hour\",hour(col(\"start_time\")))\\\n",
    "        .withColumn(\"end_hour\",hour(col(\"end_time\")))\\\n",
    "        .withColumn(\"next_start_hour\",lead(\"start_hour\").over(Window.partitionBy(col(\"employee_id\")).orderBy(\"start_time\")))\\\n",
    "        .withColumn(\"fall_back\",when(col(\"next_start_hour\").between(col(\"start_hour\"),col(\"end_hour\")),'Yes').otherwise('No'))\\\n",
    "        .filter(col(\"fall_back\")=='Yes')\\\n",
    "        .groupby(col(\"employee_id\"))\\\n",
    "        .count()\\\n",
    "        .show()"
   ],
   "id": "b8a36f59ba0fe95c",
   "outputs": [
    {
     "name": "stdout",
     "output_type": "stream",
     "text": [
      "+-----------+-----+\n",
      "|employee_id|count|\n",
      "+-----------+-----+\n",
      "|          1|    2|\n",
      "|          2|    1|\n",
      "|          4|    1|\n",
      "+-----------+-----+\n",
      "\n"
     ]
    }
   ],
   "execution_count": 15
  },
  {
   "metadata": {},
   "cell_type": "code",
   "outputs": [],
   "execution_count": null,
   "source": "",
   "id": "262497378f3c91bf"
  }
 ],
 "metadata": {
  "kernelspec": {
   "display_name": "Python 3",
   "language": "python",
   "name": "python3"
  },
  "language_info": {
   "codemirror_mode": {
    "name": "ipython",
    "version": 2
   },
   "file_extension": ".py",
   "mimetype": "text/x-python",
   "name": "python",
   "nbconvert_exporter": "python",
   "pygments_lexer": "ipython2",
   "version": "2.7.6"
  }
 },
 "nbformat": 4,
 "nbformat_minor": 5
}
