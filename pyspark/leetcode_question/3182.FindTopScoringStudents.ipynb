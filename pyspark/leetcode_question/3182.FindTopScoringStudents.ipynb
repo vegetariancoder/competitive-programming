{
 "cells": [
  {
   "cell_type": "code",
   "id": "initial_id",
   "metadata": {
    "collapsed": true,
    "ExecuteTime": {
     "end_time": "2024-06-17T00:35:58.654944Z",
     "start_time": "2024-06-17T00:35:52.042286Z"
    }
   },
   "source": [
    "from pyspark.sql.session import SparkSession\n",
    "from pyspark.sql.functions import col,count\n",
    "from pyspark.sql.window import Window\n",
    "\n",
    "\n",
    "spark = SparkSession \\\n",
    "        .builder \\\n",
    "        .config(\"spark.jars\",\n",
    "                \"/Users/sahilnagpal/Downloads/mysql-connector-java-8.0.29.jar\") \\\n",
    "        .master(\"local[*]\") \\\n",
    "        .appName(\"leetcode-problems\") \\\n",
    "        .getOrCreate()"
   ],
   "outputs": [
    {
     "name": "stderr",
     "output_type": "stream",
     "text": [
      "24/06/16 20:35:56 WARN NativeCodeLoader: Unable to load native-hadoop library for your platform... using builtin-java classes where applicable\n",
      "Setting default log level to \"WARN\".\n",
      "To adjust logging level use sc.setLogLevel(newLevel). For SparkR, use setLogLevel(newLevel).\n"
     ]
    }
   ],
   "execution_count": 2
  },
  {
   "metadata": {
    "ExecuteTime": {
     "end_time": "2024-06-17T00:40:43.955076Z",
     "start_time": "2024-06-17T00:40:43.844792Z"
    }
   },
   "cell_type": "code",
   "source": [
    "students = spark.read.format(\"jdbc\"). \\\n",
    "    option(\"url\", \"jdbc:mysql://localhost:3306/leetcode\") \\\n",
    "    .option(\"driver\", \"com.mysql.cj.jdbc.Driver\") \\\n",
    "    .option(\"dbtable\", \"students\") \\\n",
    "    .option(\"user\", \"root\") \\\n",
    "    .option(\"password\", \"password\") \\\n",
    "    .load()\n",
    "\n",
    "\n",
    "courses = spark.read.format(\"jdbc\"). \\\n",
    "    option(\"url\", \"jdbc:mysql://localhost:3306/leetcode\") \\\n",
    "    .option(\"driver\", \"com.mysql.cj.jdbc.Driver\") \\\n",
    "    .option(\"dbtable\", \"courses\") \\\n",
    "    .option(\"user\", \"root\") \\\n",
    "    .option(\"password\", \"password\") \\\n",
    "    .load()\n",
    "\n",
    "\n",
    "\n",
    "enrollments = spark.read.format(\"jdbc\"). \\\n",
    "    option(\"url\", \"jdbc:mysql://localhost:3306/leetcode\") \\\n",
    "    .option(\"driver\", \"com.mysql.cj.jdbc.Driver\") \\\n",
    "    .option(\"dbtable\", \"enrollments\") \\\n",
    "    .option(\"user\", \"root\") \\\n",
    "    .option(\"password\", \"password\") \\\n",
    "    .load()\n",
    "\n"
   ],
   "id": "a9c1f61c9b6e4f2a",
   "outputs": [],
   "execution_count": 9
  },
  {
   "metadata": {
    "ExecuteTime": {
     "end_time": "2024-06-17T00:40:45.508488Z",
     "start_time": "2024-06-17T00:40:45.443305Z"
    }
   },
   "cell_type": "code",
   "source": [
    "enrollments = enrollments\\\n",
    "        .withColumn(\"enr_cnt\",count(\"student_id\").over(Window.partitionBy(col(\"student_id\"))))\n",
    "\n",
    "courses = courses\\\n",
    "        .withColumn(\"major_cnt\",count(\"major\").over(Window.partitionBy(col(\"major\"))))"
   ],
   "id": "eb9161b11ef1784a",
   "outputs": [],
   "execution_count": 10
  },
  {
   "metadata": {
    "ExecuteTime": {
     "end_time": "2024-06-17T00:42:41.553718Z",
     "start_time": "2024-06-17T00:42:40.599244Z"
    }
   },
   "cell_type": "code",
   "source": [
    "enrollments\\\n",
    "        .join(courses,on=enrollments.course_id == courses.course_id)\\\n",
    "        .filter((col(\"grade\") == 'A') & (col(\"enr_cnt\") == col(\"major_cnt\")))\\\n",
    "        .withColumn(\"final_std_cnt\",count(\"student_id\").over(Window.partitionBy(col(\"student_id\"))))\\\n",
    "        .filter(col(\"major_cnt\")==col(\"final_std_cnt\"))\\\n",
    "        .select(\"student_id\").distinct()\\\n",
    "        .show()"
   ],
   "id": "700bd2ab10b956c1",
   "outputs": [
    {
     "name": "stdout",
     "output_type": "stream",
     "text": [
      "+----------+\n",
      "|student_id|\n",
      "+----------+\n",
      "|         1|\n",
      "|         3|\n",
      "+----------+\n",
      "\n"
     ]
    }
   ],
   "execution_count": 14
  },
  {
   "metadata": {},
   "cell_type": "code",
   "outputs": [],
   "execution_count": null,
   "source": "",
   "id": "dd2ebf65470dc790"
  }
 ],
 "metadata": {
  "kernelspec": {
   "display_name": "Python 3",
   "language": "python",
   "name": "python3"
  },
  "language_info": {
   "codemirror_mode": {
    "name": "ipython",
    "version": 2
   },
   "file_extension": ".py",
   "mimetype": "text/x-python",
   "name": "python",
   "nbconvert_exporter": "python",
   "pygments_lexer": "ipython2",
   "version": "2.7.6"
  }
 },
 "nbformat": 4,
 "nbformat_minor": 5
}
