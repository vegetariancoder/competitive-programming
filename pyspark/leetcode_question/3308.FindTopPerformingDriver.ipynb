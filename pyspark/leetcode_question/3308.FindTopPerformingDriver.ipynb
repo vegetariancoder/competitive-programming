{
 "cells": [
  {
   "cell_type": "code",
   "id": "initial_id",
   "metadata": {
    "collapsed": true,
    "ExecuteTime": {
     "end_time": "2024-10-18T02:50:43.727124Z",
     "start_time": "2024-10-18T02:50:36.255662Z"
    }
   },
   "source": [
    "from pyspark.sql.session import SparkSession\n",
    "from pyspark.sql.functions import col,dense_rank,sum,avg\n",
    "from pyspark.sql.window import Window\n",
    "\n",
    "\n",
    "spark = SparkSession \\\n",
    "        .builder \\\n",
    "        .config(\"spark.jars\",\n",
    "                \"/Users/sahilnagpal/Downloads/mysql-connector-java-8.0.29.jar\") \\\n",
    "        .master(\"local[*]\") \\\n",
    "        .appName(\"leetcode-problems\") \\\n",
    "        .getOrCreate()"
   ],
   "outputs": [
    {
     "name": "stderr",
     "output_type": "stream",
     "text": [
      "24/10/17 22:50:41 WARN NativeCodeLoader: Unable to load native-hadoop library for your platform... using builtin-java classes where applicable\n",
      "Setting default log level to \"WARN\".\n",
      "To adjust logging level use sc.setLogLevel(newLevel). For SparkR, use setLogLevel(newLevel).\n"
     ]
    }
   ],
   "execution_count": 1
  },
  {
   "metadata": {
    "ExecuteTime": {
     "end_time": "2024-10-18T02:50:47.073071Z",
     "start_time": "2024-10-18T02:50:43.734410Z"
    }
   },
   "cell_type": "code",
   "source": [
    "Drivers = spark.read.format(\"jdbc\"). \\\n",
    "    option(\"url\", \"jdbc:mysql://localhost:3306/leetcode\") \\\n",
    "    .option(\"driver\", \"com.mysql.cj.jdbc.Driver\") \\\n",
    "    .option(\"dbtable\", \"Drivers\") \\\n",
    "    .option(\"user\", \"root\") \\\n",
    "    .option(\"password\", \"password\") \\\n",
    "    .load()\n",
    "\n",
    "Vehicles = spark.read.format(\"jdbc\"). \\\n",
    "    option(\"url\", \"jdbc:mysql://localhost:3306/leetcode\") \\\n",
    "    .option(\"driver\", \"com.mysql.cj.jdbc.Driver\") \\\n",
    "    .option(\"dbtable\", \"Vehicles\") \\\n",
    "    .option(\"user\", \"root\") \\\n",
    "    .option(\"password\", \"password\") \\\n",
    "    .load()\n",
    "\n",
    "\n",
    "Trips = spark.read.format(\"jdbc\"). \\\n",
    "    option(\"url\", \"jdbc:mysql://localhost:3306/leetcode\") \\\n",
    "    .option(\"driver\", \"com.mysql.cj.jdbc.Driver\") \\\n",
    "    .option(\"dbtable\", \"Trips\") \\\n",
    "    .option(\"user\", \"root\") \\\n",
    "    .option(\"password\", \"password\") \\\n",
    "    .load()"
   ],
   "id": "3e251777ec26a373",
   "outputs": [],
   "execution_count": 2
  },
  {
   "metadata": {
    "ExecuteTime": {
     "end_time": "2024-10-18T03:01:39.924628Z",
     "start_time": "2024-10-18T03:01:39.203940Z"
    }
   },
   "cell_type": "code",
   "source": [
    "Trips\\\n",
    "    .join(Vehicles,on=Trips.vehicle_id==Vehicles.vehicle_id,how=\"inner\")\\\n",
    "    .join(Drivers,on=Vehicles.driver_id==Drivers.driver_id,how=\"inner\")\\\n",
    "    .groupBy(Drivers.driver_id,col(\"fuel_type\"))\\\n",
    "    .agg(avg(\"rating\").alias(\"rating\"),\n",
    "         sum(\"distance\").alias(\"distance\"),\n",
    "         sum(\"accidents\").alias(\"total_accidents\"))\\\n",
    "    .withColumn(\"drnk\",dense_rank()\\\n",
    "                .over(Window\\\n",
    "                      .partitionBy(\"fuel_type\")\\\n",
    "                      .orderBy(col(\"rating\").desc(),col(\"distance\").desc(),col(\"total_accidents\"))))\\\n",
    "    .filter(col(\"drnk\")==1)\\\n",
    "    .drop(\"drnk\",\"total_accidents\")\\\n",
    "    .show()"
   ],
   "id": "4153488698322456",
   "outputs": [
    {
     "name": "stdout",
     "output_type": "stream",
     "text": [
      "+---------+---------+------+--------+\n",
      "|driver_id|fuel_type|rating|distance|\n",
      "+---------+---------+------+--------+\n",
      "|        2| Electric|   4.5|     180|\n",
      "|        3| Gasoline|   5.0|     100|\n",
      "+---------+---------+------+--------+\n",
      "\n"
     ]
    }
   ],
   "execution_count": 15
  },
  {
   "metadata": {},
   "cell_type": "code",
   "outputs": [],
   "execution_count": null,
   "source": "",
   "id": "b821751ed5c38b1c"
  }
 ],
 "metadata": {
  "kernelspec": {
   "display_name": "Python 3",
   "language": "python",
   "name": "python3"
  },
  "language_info": {
   "codemirror_mode": {
    "name": "ipython",
    "version": 2
   },
   "file_extension": ".py",
   "mimetype": "text/x-python",
   "name": "python",
   "nbconvert_exporter": "python",
   "pygments_lexer": "ipython2",
   "version": "2.7.6"
  }
 },
 "nbformat": 4,
 "nbformat_minor": 5
}
