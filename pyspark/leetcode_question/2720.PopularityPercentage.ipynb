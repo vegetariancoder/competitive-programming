{
 "cells": [
  {
   "cell_type": "code",
   "id": "initial_id",
   "metadata": {
    "collapsed": true,
    "ExecuteTime": {
     "end_time": "2024-10-11T15:05:48.272376Z",
     "start_time": "2024-10-11T15:05:48.100736Z"
    }
   },
   "source": [
    "from pyspark.sql.session import SparkSession\n",
    "from pyspark.sql.functions import col, sum, countDistinct\n",
    "\n",
    "spark = SparkSession \\\n",
    "        .builder \\\n",
    "        .config(\"spark.jars\",\n",
    "                \"/Users/sahilnagpal/Downloads/mysql-connector-java-8.0.29.jar\") \\\n",
    "        .master(\"local[*]\") \\\n",
    "        .appName(\"leetcode-problems\") \\\n",
    "        .getOrCreate()\n",
    "\n",
    "Friends = spark.read.format(\"jdbc\"). \\\n",
    "    option(\"url\", \"jdbc:mysql://localhost:3306/leetcode\") \\\n",
    "    .option(\"driver\", \"com.mysql.cj.jdbc.Driver\") \\\n",
    "    .option(\"dbtable\", \"Friends\") \\\n",
    "    .option(\"user\", \"root\") \\\n",
    "    .option(\"password\", \"password\") \\\n",
    "    .load()\n",
    "\n",
    "Friends.show()"
   ],
   "outputs": [
    {
     "name": "stdout",
     "output_type": "stream",
     "text": [
      "+-----+-----+\n",
      "|user1|user2|\n",
      "+-----+-----+\n",
      "|    2|    1|\n",
      "|    1|    3|\n",
      "|    4|    1|\n",
      "|    1|    5|\n",
      "|    1|    6|\n",
      "|    2|    6|\n",
      "|    7|    2|\n",
      "|    8|    3|\n",
      "|    3|    9|\n",
      "+-----+-----+\n",
      "\n"
     ]
    }
   ],
   "execution_count": 7
  },
  {
   "metadata": {
    "ExecuteTime": {
     "end_time": "2024-10-11T15:12:11.207289Z",
     "start_time": "2024-10-11T15:12:10.796267Z"
    }
   },
   "cell_type": "code",
   "source": [
    "\n",
    "\n",
    "Friends\\\n",
    "    .groupBy(col(\"user1\").alias(\"user\"))\\\n",
    "    .count()\\\n",
    "    .union(\n",
    "    Friends\\\n",
    "    .groupBy(col(\"user2\").alias(\"user\"))\\\n",
    "    .count()\n",
    ")\\\n",
    "    .groupBy(col(\"user\"))\\\n",
    "    .agg((sum(\"count\")/9*100).alias(\"percentage\"))\\\n",
    "    .show()"
   ],
   "id": "9ff7b58e4c9b9c18",
   "outputs": [
    {
     "name": "stdout",
     "output_type": "stream",
     "text": [
      "+----+-----------------+\n",
      "|user|       percentage|\n",
      "+----+-----------------+\n",
      "|   1|55.55555555555556|\n",
      "|   3|33.33333333333333|\n",
      "|   4|11.11111111111111|\n",
      "|   8|11.11111111111111|\n",
      "|   7|11.11111111111111|\n",
      "|   2|33.33333333333333|\n",
      "|   6|22.22222222222222|\n",
      "|   5|11.11111111111111|\n",
      "|   9|11.11111111111111|\n",
      "+----+-----------------+\n",
      "\n"
     ]
    }
   ],
   "execution_count": 13
  },
  {
   "metadata": {},
   "cell_type": "code",
   "outputs": [],
   "execution_count": null,
   "source": "",
   "id": "25bbdf0284623a46"
  }
 ],
 "metadata": {
  "kernelspec": {
   "display_name": "Python 3",
   "language": "python",
   "name": "python3"
  },
  "language_info": {
   "codemirror_mode": {
    "name": "ipython",
    "version": 2
   },
   "file_extension": ".py",
   "mimetype": "text/x-python",
   "name": "python",
   "nbconvert_exporter": "python",
   "pygments_lexer": "ipython2",
   "version": "2.7.6"
  }
 },
 "nbformat": 4,
 "nbformat_minor": 5
}
