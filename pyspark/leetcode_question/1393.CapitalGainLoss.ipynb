{
 "cells": [
  {
   "cell_type": "code",
   "id": "initial_id",
   "metadata": {
    "collapsed": true,
    "ExecuteTime": {
     "end_time": "2024-06-05T23:51:27.484432Z",
     "start_time": "2024-06-05T23:51:27.470707Z"
    }
   },
   "source": [
    "from pyspark.sql.session import SparkSession\n",
    "from pyspark.sql.functions import col,sum,when\n",
    "\n",
    "\n",
    "spark = SparkSession \\\n",
    "        .builder \\\n",
    "        .config(\"spark.jars\",\n",
    "                \"/Users/sahilnagpal/Downloads/mysql-connector-java-8.0.29.jar\") \\\n",
    "        .master(\"local[*]\") \\\n",
    "        .appName(\"leetcode-problems\") \\\n",
    "        .getOrCreate()"
   ],
   "outputs": [],
   "execution_count": 4
  },
  {
   "metadata": {
    "ExecuteTime": {
     "end_time": "2024-06-05T23:50:49.801284Z",
     "start_time": "2024-06-05T23:50:42.688581Z"
    }
   },
   "cell_type": "code",
   "source": [
    "Stocks = spark.read.format(\"jdbc\"). \\\n",
    "    option(\"url\", \"jdbc:mysql://localhost:3306/leetcode\") \\\n",
    "    .option(\"driver\", \"com.mysql.cj.jdbc.Driver\") \\\n",
    "    .option(\"dbtable\", \"Stocks\") \\\n",
    "    .option(\"user\", \"root\") \\\n",
    "    .option(\"password\", \"password\") \\\n",
    "    .load()\n",
    "\n",
    "Stocks.show()"
   ],
   "id": "6dfd2af53091bb5b",
   "outputs": [
    {
     "name": "stderr",
     "output_type": "stream",
     "text": [
      "                                                                                \r"
     ]
    },
    {
     "name": "stdout",
     "output_type": "stream",
     "text": [
      "+------------+---------+-------------+-----+\n",
      "|  stock_name|operation|operation_day|price|\n",
      "+------------+---------+-------------+-----+\n",
      "|    Leetcode|     Buy |            1| 1000|\n",
      "|Corona Masks|     Buy |            2|   10|\n",
      "|    Leetcode|     Sell|            5| 9000|\n",
      "|    Handbags|     Buy |           17|30000|\n",
      "|Corona Masks|     Sell|            3| 1010|\n",
      "|Corona Masks|     Buy |            4| 1000|\n",
      "|Corona Masks|     Sell|            5|  500|\n",
      "|Corona Masks|     Buy |            6| 1000|\n",
      "|    Handbags|     Sell|           29| 7000|\n",
      "|Corona Masks|     Sell|           10|10000|\n",
      "+------------+---------+-------------+-----+\n",
      "\n"
     ]
    }
   ],
   "execution_count": 3
  },
  {
   "metadata": {
    "ExecuteTime": {
     "end_time": "2024-06-05T23:57:25.989585Z",
     "start_time": "2024-06-05T23:57:25.503260Z"
    }
   },
   "cell_type": "code",
   "source": [
    "Stocks\\\n",
    "    .withColumn(\"buy_price\",when(col(\"operation\")=='Buy',col(\"price\")))\\\n",
    "    .withColumn(\"sell_price\",when(col(\"operation\")=='Sell',col(\"price\")))\\\n",
    "    .groupBy(col(\"stock_name\"))\\\n",
    "    .agg(sum(\"buy_price\").alias(\"buy_price\"),\n",
    "         sum(\"sell_price\").alias(\"sell_price\"))\\\n",
    "    .withColumn(\"capital_gain_loss\",col(\"sell_price\")-col(\"buy_price\"))\\\n",
    "    .drop(\"buy_price\",\"sell_price\")\\\n",
    "    .show()"
   ],
   "id": "58cb24e38f5d7c6f",
   "outputs": [
    {
     "name": "stdout",
     "output_type": "stream",
     "text": [
      "+------------+-----------------+\n",
      "|  stock_name|capital_gain_loss|\n",
      "+------------+-----------------+\n",
      "|    Handbags|           -23000|\n",
      "|Corona Masks|             9500|\n",
      "|    Leetcode|             8000|\n",
      "+------------+-----------------+\n",
      "\n"
     ]
    }
   ],
   "execution_count": 8
  },
  {
   "metadata": {},
   "cell_type": "code",
   "outputs": [],
   "execution_count": null,
   "source": "",
   "id": "b65c10cfe8061b78"
  }
 ],
 "metadata": {
  "kernelspec": {
   "display_name": "Python 3",
   "language": "python",
   "name": "python3"
  },
  "language_info": {
   "codemirror_mode": {
    "name": "ipython",
    "version": 2
   },
   "file_extension": ".py",
   "mimetype": "text/x-python",
   "name": "python",
   "nbconvert_exporter": "python",
   "pygments_lexer": "ipython2",
   "version": "2.7.6"
  }
 },
 "nbformat": 4,
 "nbformat_minor": 5
}
