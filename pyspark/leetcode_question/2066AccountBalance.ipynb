{
 "cells": [
  {
   "cell_type": "code",
   "id": "initial_id",
   "metadata": {
    "collapsed": true,
    "ExecuteTime": {
     "end_time": "2024-08-02T19:15:06.296211Z",
     "start_time": "2024-08-02T19:15:06.287176Z"
    }
   },
   "source": [
    "from pyspark.sql.session import SparkSession\n",
    "from pyspark.sql.functions import col,lag,when\n",
    "from pyspark.sql.window import Window\n",
    "\n",
    "\n",
    "spark = SparkSession \\\n",
    "        .builder \\\n",
    "        .config(\"spark.jars\",\n",
    "                \"/Users/sahilnagpal/Downloads/mysql-connector-java-8.0.29.jar\") \\\n",
    "        .master(\"local[*]\") \\\n",
    "        .appName(\"leetcode-problems\") \\\n",
    "        .getOrCreate()"
   ],
   "outputs": [],
   "execution_count": 8
  },
  {
   "metadata": {
    "ExecuteTime": {
     "end_time": "2024-08-02T18:55:57.527708Z",
     "start_time": "2024-08-02T18:55:51.677370Z"
    }
   },
   "cell_type": "code",
   "source": [
    "Transactions = spark.read.format(\"jdbc\"). \\\n",
    "    option(\"url\", \"jdbc:mysql://localhost:3306/leetcode\") \\\n",
    "    .option(\"driver\", \"com.mysql.cj.jdbc.Driver\") \\\n",
    "    .option(\"dbtable\", \"Transactions\") \\\n",
    "    .option(\"user\", \"root\") \\\n",
    "    .option(\"password\", \"password\") \\\n",
    "    .load()\n",
    "\n",
    "Transactions.show()"
   ],
   "id": "fcda2f867bba7bc1",
   "outputs": [
    {
     "name": "stderr",
     "output_type": "stream",
     "text": [
      "                                                                                \r"
     ]
    },
    {
     "name": "stdout",
     "output_type": "stream",
     "text": [
      "+----------+----------+--------+------+\n",
      "|account_id|  dayvalue|    type|amount|\n",
      "+----------+----------+--------+------+\n",
      "|         1|2021-11-07| Deposit|  2000|\n",
      "|         1|2021-11-09|Withdraw|  1000|\n",
      "|         1|2021-11-11| Deposit|  3000|\n",
      "|         2|2021-11-07| Deposit|  7000|\n",
      "|         2|2021-11-12|Withdraw|  7000|\n",
      "+----------+----------+--------+------+\n",
      "\n"
     ]
    }
   ],
   "execution_count": 3
  },
  {
   "metadata": {
    "ExecuteTime": {
     "end_time": "2024-08-02T19:19:29.111866Z",
     "start_time": "2024-08-02T19:19:28.574279Z"
    }
   },
   "cell_type": "code",
   "source": [
    "Transactions\\\n",
    "    .withColumn(\"prev_val\",lag(\"amount\").over(Window.partitionBy(col(\"account_id\")).orderBy(col(\"dayvalue\"))))\\\n",
    "    .withColumn(\"prev_val\",when(col(\"prev_val\").isNull(),0).otherwise(col(\"prev_val\")))\\\n",
    "    .withColumn(\"result\",when(col(\"type\")=='Deposit',col(\"amount\")+col(\"prev_val\")).otherwise(col(\"prev_val\")-col(\"amount\")))\\\n",
    "    .select(\"account_id\",\"dayvalue\",\"result\")\\\n",
    "    .show()"
   ],
   "id": "585d0723a6b646a5",
   "outputs": [
    {
     "name": "stdout",
     "output_type": "stream",
     "text": [
      "+----------+----------+------+\n",
      "|account_id|  dayvalue|result|\n",
      "+----------+----------+------+\n",
      "|         1|2021-11-07|  2000|\n",
      "|         1|2021-11-09|  1000|\n",
      "|         1|2021-11-11|  4000|\n",
      "|         2|2021-11-07|  7000|\n",
      "|         2|2021-11-12|     0|\n",
      "+----------+----------+------+\n",
      "\n"
     ]
    }
   ],
   "execution_count": 12
  },
  {
   "metadata": {},
   "cell_type": "code",
   "outputs": [],
   "execution_count": null,
   "source": "",
   "id": "7dad858b405ff3fa"
  }
 ],
 "metadata": {
  "kernelspec": {
   "display_name": "Python 3",
   "language": "python",
   "name": "python3"
  },
  "language_info": {
   "codemirror_mode": {
    "name": "ipython",
    "version": 2
   },
   "file_extension": ".py",
   "mimetype": "text/x-python",
   "name": "python",
   "nbconvert_exporter": "python",
   "pygments_lexer": "ipython2",
   "version": "2.7.6"
  }
 },
 "nbformat": 4,
 "nbformat_minor": 5
}
