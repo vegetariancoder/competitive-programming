{
 "cells": [
  {
   "cell_type": "code",
   "id": "initial_id",
   "metadata": {
    "collapsed": true,
    "ExecuteTime": {
     "end_time": "2024-11-05T01:16:51.293813Z",
     "start_time": "2024-11-05T01:16:51.130248Z"
    }
   },
   "source": [
    "from pyspark.sql import SparkSession\n",
    "from pyspark.sql.functions import when,col,sum\n",
    "\n",
    "spark = SparkSession \\\n",
    "        .builder \\\n",
    "        .config(\"spark.jars\",\n",
    "                \"/Users/sahilnagpal/Downloads/mysql-connector-java-8.0.29.jar\") \\\n",
    "        .master(\"local[*]\") \\\n",
    "        .appName(\"leetcode-problems\") \\\n",
    "        .getOrCreate()\n",
    "\n",
    "transactions = spark.read.format(\"jdbc\"). \\\n",
    "    option(\"url\", \"jdbc:mysql://localhost:3306/leetcode\") \\\n",
    "    .option(\"driver\", \"com.mysql.jdbc.Driver\") \\\n",
    "    .option(\"dbtable\", \"transactions\") \\\n",
    "    .option(\"user\", \"root\") \\\n",
    "    .option(\"password\", \"password\") \\\n",
    "    .load()\n",
    "\n",
    "transactions.show()"
   ],
   "outputs": [
    {
     "name": "stdout",
     "output_type": "stream",
     "text": [
      "+--------------+------+----------------+\n",
      "|transaction_id|amount|transaction_date|\n",
      "+--------------+------+----------------+\n",
      "|             1|   150|      2024-07-01|\n",
      "|             2|   200|      2024-07-01|\n",
      "|             3|    75|      2024-07-01|\n",
      "|             4|   300|      2024-07-02|\n",
      "|             5|    50|      2024-07-02|\n",
      "|             6|   120|      2024-07-03|\n",
      "+--------------+------+----------------+\n",
      "\n"
     ]
    }
   ],
   "execution_count": 4
  },
  {
   "metadata": {
    "ExecuteTime": {
     "end_time": "2024-11-05T01:17:24.602816Z",
     "start_time": "2024-11-05T01:17:23.518249Z"
    }
   },
   "cell_type": "code",
   "source": [
    "transactions\\\n",
    "    .withColumn(\"even_amount\",when(col(\"amount\")%2==0,col(\"amount\")))\\\n",
    "    .withColumn(\"odd_amount\",when(col(\"amount\")%2!=0,col(\"amount\")))\\\n",
    "    .groupBy(col(\"transaction_date\"))\\\n",
    "    .agg(sum(\"odd_amount\").alias(\"odd_sum\"),\n",
    "         sum(\"even_amount\").alias(\"even_sum\"))\\\n",
    "    .show()"
   ],
   "id": "d34a5b741cc6ab29",
   "outputs": [
    {
     "name": "stdout",
     "output_type": "stream",
     "text": [
      "+----------------+-------+--------+\n",
      "|transaction_date|odd_sum|even_sum|\n",
      "+----------------+-------+--------+\n",
      "|      2024-07-02|   NULL|     350|\n",
      "|      2024-07-03|   NULL|     120|\n",
      "|      2024-07-01|     75|     350|\n",
      "+----------------+-------+--------+\n",
      "\n"
     ]
    }
   ],
   "execution_count": 5
  },
  {
   "metadata": {},
   "cell_type": "code",
   "outputs": [],
   "execution_count": null,
   "source": "",
   "id": "b44a5e089a5f3c6c"
  }
 ],
 "metadata": {
  "kernelspec": {
   "display_name": "Python 3",
   "language": "python",
   "name": "python3"
  },
  "language_info": {
   "codemirror_mode": {
    "name": "ipython",
    "version": 2
   },
   "file_extension": ".py",
   "mimetype": "text/x-python",
   "name": "python",
   "nbconvert_exporter": "python",
   "pygments_lexer": "ipython2",
   "version": "2.7.6"
  }
 },
 "nbformat": 4,
 "nbformat_minor": 5
}
