{
 "cells": [
  {
   "cell_type": "code",
   "id": "initial_id",
   "metadata": {
    "collapsed": true,
    "ExecuteTime": {
     "end_time": "2024-06-02T19:55:47.334407Z",
     "start_time": "2024-06-02T19:55:41.081754Z"
    }
   },
   "source": [
    "from pyspark.sql.session import SparkSession\n",
    "from pyspark.sql.functions import col,max,min\n",
    "\n",
    "\n",
    "spark = SparkSession \\\n",
    "        .builder \\\n",
    "        .config(\"spark.jars\",\n",
    "                \"/Users/sahilnagpal/Downloads/mysql-connector-java-8.0.29.jar\") \\\n",
    "        .master(\"local[*]\") \\\n",
    "        .appName(\"leetcode-problems\") \\\n",
    "        .getOrCreate()"
   ],
   "outputs": [
    {
     "name": "stderr",
     "output_type": "stream",
     "text": [
      "24/06/02 15:55:44 WARN NativeCodeLoader: Unable to load native-hadoop library for your platform... using builtin-java classes where applicable\n",
      "Setting default log level to \"WARN\".\n",
      "To adjust logging level use sc.setLogLevel(newLevel). For SparkR, use setLogLevel(newLevel).\n"
     ]
    }
   ],
   "execution_count": 1
  },
  {
   "metadata": {
    "ExecuteTime": {
     "end_time": "2024-06-02T19:55:55.196451Z",
     "start_time": "2024-06-02T19:55:47.337213Z"
    }
   },
   "cell_type": "code",
   "source": [
    "Scores = spark.read.format(\"jdbc\"). \\\n",
    "    option(\"url\", \"jdbc:mysql://localhost:3306/leetcode\") \\\n",
    "    .option(\"driver\", \"com.mysql.cj.jdbc.Driver\") \\\n",
    "    .option(\"dbtable\", \"Scores\") \\\n",
    "    .option(\"user\", \"root\") \\\n",
    "    .option(\"password\", \"password\") \\\n",
    "    .load()\n",
    "\n",
    "Scores.show()"
   ],
   "id": "680b509a7e682f9a",
   "outputs": [
    {
     "name": "stderr",
     "output_type": "stream",
     "text": [
      "                                                                                \r"
     ]
    },
    {
     "name": "stdout",
     "output_type": "stream",
     "text": [
      "+-----------+------+----------+------------+\n",
      "|player_name|gender| day_value|score_points|\n",
      "+-----------+------+----------+------------+\n",
      "|       Aron|     F|2020-01-01|          17|\n",
      "|      Alice|     F|2020-01-07|          23|\n",
      "|    Bajrang|     M|2020-01-07|           7|\n",
      "|      Khali|     M|2019-12-25|          11|\n",
      "|     Slaman|     M|2019-12-30|          13|\n",
      "|        Joe|     M|2019-12-31|           3|\n",
      "|       Jose|     M|2019-12-18|           2|\n",
      "|      Priya|     F|2019-12-31|          23|\n",
      "|   Priyanka|     F|2019-12-30|          17|\n",
      "+-----------+------+----------+------------+\n",
      "\n"
     ]
    }
   ],
   "execution_count": 2
  },
  {
   "metadata": {
    "ExecuteTime": {
     "end_time": "2024-06-02T20:00:24.557588Z",
     "start_time": "2024-06-02T20:00:24.005526Z"
    }
   },
   "cell_type": "code",
   "source": [
    "from pyspark.sql.functions import sum, col\n",
    "from pyspark.sql.window import Window\n",
    "\n",
    "Scores\\\n",
    "    .withColumn(\"sm\",sum(col(\"score_points\")).over(Window.partitionBy(col(\"gender\")).orderBy(col(\"day_value\"))))\\\n",
    "    .select(\"gender\", \"day_value\",\"sm\")\\\n",
    "    .show()"
   ],
   "id": "359a5ce84d281779",
   "outputs": [
    {
     "name": "stdout",
     "output_type": "stream",
     "text": [
      "+------+----------+---+\n",
      "|gender| day_value| sm|\n",
      "+------+----------+---+\n",
      "|     F|2019-12-30| 17|\n",
      "|     F|2019-12-31| 40|\n",
      "|     F|2020-01-01| 57|\n",
      "|     F|2020-01-07| 80|\n",
      "|     M|2019-12-18|  2|\n",
      "|     M|2019-12-25| 13|\n",
      "|     M|2019-12-30| 26|\n",
      "|     M|2019-12-31| 29|\n",
      "|     M|2020-01-07| 36|\n",
      "+------+----------+---+\n",
      "\n"
     ]
    }
   ],
   "execution_count": 6
  },
  {
   "metadata": {},
   "cell_type": "code",
   "outputs": [],
   "execution_count": null,
   "source": "",
   "id": "f9934c67c14b610d"
  }
 ],
 "metadata": {
  "kernelspec": {
   "display_name": "Python 3",
   "language": "python",
   "name": "python3"
  },
  "language_info": {
   "codemirror_mode": {
    "name": "ipython",
    "version": 2
   },
   "file_extension": ".py",
   "mimetype": "text/x-python",
   "name": "python",
   "nbconvert_exporter": "python",
   "pygments_lexer": "ipython2",
   "version": "2.7.6"
  }
 },
 "nbformat": 4,
 "nbformat_minor": 5
}
