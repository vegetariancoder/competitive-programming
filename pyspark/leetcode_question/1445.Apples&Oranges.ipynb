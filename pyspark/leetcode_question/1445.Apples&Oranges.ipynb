{
 "cells": [
  {
   "cell_type": "code",
   "id": "initial_id",
   "metadata": {
    "collapsed": true,
    "ExecuteTime": {
     "end_time": "2024-05-28T23:12:00.622137Z",
     "start_time": "2024-05-28T23:12:00.609638Z"
    }
   },
   "source": [
    "from pyspark.sql.session import SparkSession\n",
    "from pyspark.sql.functions import col,sum\n",
    "\n",
    "\n",
    "spark = SparkSession \\\n",
    "        .builder \\\n",
    "        .config(\"spark.jars\",\n",
    "                \"/Users/sahilnagpal/Downloads/mysql-connector-java-8.0.29.jar\") \\\n",
    "        .master(\"local[*]\") \\\n",
    "        .appName(\"leetcode-problems\") \\\n",
    "        .getOrCreate()"
   ],
   "outputs": [],
   "execution_count": 5
  },
  {
   "metadata": {
    "ExecuteTime": {
     "end_time": "2024-05-28T23:10:35.804063Z",
     "start_time": "2024-05-28T23:10:32.000547Z"
    }
   },
   "cell_type": "code",
   "source": [
    "Sales = spark.read.format(\"jdbc\"). \\\n",
    "    option(\"url\", \"jdbc:mysql://localhost:3306/leetcode\") \\\n",
    "    .option(\"driver\", \"com.mysql.cj.jdbc.Driver\") \\\n",
    "    .option(\"dbtable\", \"Sales\") \\\n",
    "    .option(\"user\", \"root\") \\\n",
    "    .option(\"password\", \"password\") \\\n",
    "    .load()"
   ],
   "id": "b54a967df9c39ef1",
   "outputs": [],
   "execution_count": 2
  },
  {
   "metadata": {
    "ExecuteTime": {
     "end_time": "2024-05-28T23:10:40.305382Z",
     "start_time": "2024-05-28T23:10:35.806591Z"
    }
   },
   "cell_type": "code",
   "source": "Sales.show()",
   "id": "64c80cd7be0a38ac",
   "outputs": [
    {
     "name": "stderr",
     "output_type": "stream",
     "text": [
      "                                                                                \r"
     ]
    },
    {
     "name": "stdout",
     "output_type": "stream",
     "text": [
      "+----------+-------+--------+\n",
      "| sale_date|  fruit|sold_num|\n",
      "+----------+-------+--------+\n",
      "|2020-05-01| apples|      10|\n",
      "|2020-05-01|oranges|       8|\n",
      "|2020-05-02| apples|      15|\n",
      "|2020-05-02|oranges|      15|\n",
      "|2020-05-03| apples|      20|\n",
      "|2020-05-03|oranges|       0|\n",
      "|2020-05-04| apples|      15|\n",
      "|2020-05-04|oranges|      16|\n",
      "+----------+-------+--------+\n",
      "\n"
     ]
    }
   ],
   "execution_count": 3
  },
  {
   "metadata": {
    "ExecuteTime": {
     "end_time": "2024-05-28T23:16:07.004335Z",
     "start_time": "2024-05-28T23:16:06.517427Z"
    }
   },
   "cell_type": "code",
   "source": [
    "apple_sale_df = Sales\\\n",
    "    .filter(col(\"fruit\")=='apples')\\\n",
    "    .groupBy(col(\"sale_date\"))\\\n",
    "    .agg(sum(\"sold_num\").alias(\"apple_sale\"))\n",
    "\n",
    "orange_sale_df = Sales\\\n",
    "    .filter(col(\"fruit\")=='oranges')\\\n",
    "    .groupBy(col(\"sale_date\"))\\\n",
    "    .agg(sum(\"sold_num\").alias(\"orange_sale\"))\n",
    "\n",
    "\n",
    "apple_sale_df = apple_sale_df.withColumnRenamed(\"sale_date\", \"sale_dt\")\n",
    "apple_sale_df\\\n",
    "    .join(orange_sale_df, on=apple_sale_df.sale_dt == orange_sale_df.sale_date,how=\"inner\")\\\n",
    "    .withColumn(\"diff\",col(\"apple_sale\")-col(\"orange_sale\"))\\\n",
    "    .select(\"sale_dt\",\"diff\")\\\n",
    "    .show()"
   ],
   "id": "ef0d7fb338c09444",
   "outputs": [
    {
     "name": "stdout",
     "output_type": "stream",
     "text": [
      "+----------+----+\n",
      "|   sale_dt|diff|\n",
      "+----------+----+\n",
      "|2020-05-04|  -1|\n",
      "|2020-05-02|   0|\n",
      "|2020-05-03|  20|\n",
      "|2020-05-01|   2|\n",
      "+----------+----+\n",
      "\n"
     ]
    }
   ],
   "execution_count": 11
  },
  {
   "metadata": {},
   "cell_type": "code",
   "outputs": [],
   "execution_count": null,
   "source": "",
   "id": "d3bc9a53fab067b1"
  }
 ],
 "metadata": {
  "kernelspec": {
   "display_name": "Python 3",
   "language": "python",
   "name": "python3"
  },
  "language_info": {
   "codemirror_mode": {
    "name": "ipython",
    "version": 2
   },
   "file_extension": ".py",
   "mimetype": "text/x-python",
   "name": "python",
   "nbconvert_exporter": "python",
   "pygments_lexer": "ipython2",
   "version": "2.7.6"
  }
 },
 "nbformat": 4,
 "nbformat_minor": 5
}
