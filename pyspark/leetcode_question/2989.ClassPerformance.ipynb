{
 "cells": [
  {
   "cell_type": "code",
   "id": "initial_id",
   "metadata": {
    "collapsed": true,
    "ExecuteTime": {
     "end_time": "2024-05-26T21:40:01.594278Z",
     "start_time": "2024-05-26T21:40:01.581201Z"
    }
   },
   "source": [
    "from pyspark.sql.session import SparkSession\n",
    "from pyspark.sql.functions import col,max,min\n",
    "\n",
    "\n",
    "spark = SparkSession \\\n",
    "        .builder \\\n",
    "        .config(\"spark.jars\",\n",
    "                \"/Users/sahilnagpal/Downloads/mysql-connector-java-8.0.29.jar\") \\\n",
    "        .master(\"local[*]\") \\\n",
    "        .appName(\"leetcode-problems\") \\\n",
    "        .getOrCreate()"
   ],
   "outputs": [],
   "execution_count": 5
  },
  {
   "metadata": {
    "ExecuteTime": {
     "end_time": "2024-05-26T21:37:51.313962Z",
     "start_time": "2024-05-26T21:37:47.785386Z"
    }
   },
   "cell_type": "code",
   "source": [
    "Scores = spark.read.format(\"jdbc\"). \\\n",
    "    option(\"url\", \"jdbc:mysql://localhost:3306/leetcode\") \\\n",
    "    .option(\"driver\", \"com.mysql.cj.jdbc.Driver\") \\\n",
    "    .option(\"dbtable\", \"Scores\") \\\n",
    "    .option(\"user\", \"root\") \\\n",
    "    .option(\"password\", \"password\") \\\n",
    "    .load()"
   ],
   "id": "34b3341e72fd1c68",
   "outputs": [],
   "execution_count": 2
  },
  {
   "metadata": {
    "ExecuteTime": {
     "end_time": "2024-05-26T21:38:05.335390Z",
     "start_time": "2024-05-26T21:38:01.125750Z"
    }
   },
   "cell_type": "code",
   "source": "Scores.show(5)",
   "id": "711b54c4e53c4549",
   "outputs": [
    {
     "name": "stderr",
     "output_type": "stream",
     "text": [
      "                                                                                \r"
     ]
    },
    {
     "name": "stdout",
     "output_type": "stream",
     "text": [
      "+----------+------------+-----------+-----------+-----------+\n",
      "|student_id|student_name|assignment1|assignment2|assignment3|\n",
      "+----------+------------+-----------+-----------+-----------+\n",
      "|       309|        Owen|         88|         47|         87|\n",
      "|       321|      Claire|         98|         95|         37|\n",
      "|       338|      Julian|        100|         64|         43|\n",
      "|       423|      Peyton|         60|         44|         47|\n",
      "|       896|       David|         32|         37|         50|\n",
      "+----------+------------+-----------+-----------+-----------+\n",
      "only showing top 5 rows\n",
      "\n"
     ]
    }
   ],
   "execution_count": 3
  },
  {
   "metadata": {
    "ExecuteTime": {
     "end_time": "2024-05-26T21:43:20.718479Z",
     "start_time": "2024-05-26T21:43:20.480960Z"
    }
   },
   "cell_type": "code",
   "source": [
    "Scores\\\n",
    "        .withColumn(\"total\",Scores.assignment1+Scores.assignment2+Scores.assignment3)\\\n",
    "        .agg(max(\"total\").alias(\"max_value\"),\n",
    "             min(\"total\").alias(\"min_value\"))\\\n",
    "        .withColumn(\"answer\",col(\"max_value\")-col(\"min_value\"))\\\n",
    "        .select(\"answer\")\\\n",
    "        .show()"
   ],
   "id": "540fd25cd1c63a1c",
   "outputs": [
    {
     "name": "stdout",
     "output_type": "stream",
     "text": [
      "+------+\n",
      "|answer|\n",
      "+------+\n",
      "|   111|\n",
      "+------+\n",
      "\n"
     ]
    }
   ],
   "execution_count": 11
  },
  {
   "metadata": {},
   "cell_type": "code",
   "outputs": [],
   "execution_count": null,
   "source": "",
   "id": "5fde0826e8094e53"
  }
 ],
 "metadata": {
  "kernelspec": {
   "display_name": "Python 3",
   "language": "python",
   "name": "python3"
  },
  "language_info": {
   "codemirror_mode": {
    "name": "ipython",
    "version": 2
   },
   "file_extension": ".py",
   "mimetype": "text/x-python",
   "name": "python",
   "nbconvert_exporter": "python",
   "pygments_lexer": "ipython2",
   "version": "2.7.6"
  }
 },
 "nbformat": 4,
 "nbformat_minor": 5
}
