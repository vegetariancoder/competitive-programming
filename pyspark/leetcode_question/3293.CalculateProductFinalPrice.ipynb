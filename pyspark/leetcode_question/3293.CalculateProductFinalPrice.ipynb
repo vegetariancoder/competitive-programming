{
 "cells": [
  {
   "cell_type": "code",
   "id": "initial_id",
   "metadata": {
    "collapsed": true,
    "ExecuteTime": {
     "end_time": "2024-09-29T00:46:08.365387Z",
     "start_time": "2024-09-29T00:46:08.356234Z"
    }
   },
   "source": [
    "from pyspark.sql.session import SparkSession\n",
    "from pyspark.sql.functions import col,when\n",
    "\n",
    "\n",
    "spark = SparkSession \\\n",
    "        .builder \\\n",
    "        .config(\"spark.jars\",\n",
    "                \"/Users/sahilnagpal/Downloads/mysql-connector-java-8.0.29.jar\") \\\n",
    "        .master(\"local[*]\") \\\n",
    "        .appName(\"leetcode-problems\") \\\n",
    "        .getOrCreate()"
   ],
   "outputs": [],
   "execution_count": 7
  },
  {
   "metadata": {
    "ExecuteTime": {
     "end_time": "2024-09-29T00:41:24.987018Z",
     "start_time": "2024-09-29T00:41:21.149535Z"
    }
   },
   "cell_type": "code",
   "source": [
    "Products = spark.read.format(\"jdbc\"). \\\n",
    "    option(\"url\", \"jdbc:mysql://localhost:3306/leetcode\") \\\n",
    "    .option(\"driver\", \"com.mysql.cj.jdbc.Driver\") \\\n",
    "    .option(\"dbtable\", \"Products\") \\\n",
    "    .option(\"user\", \"root\") \\\n",
    "    .option(\"password\", \"password\") \\\n",
    "    .load()\n",
    "\n",
    "Discounts = spark.read.format(\"jdbc\"). \\\n",
    "    option(\"url\", \"jdbc:mysql://localhost:3306/leetcode\") \\\n",
    "    .option(\"driver\", \"com.mysql.cj.jdbc.Driver\") \\\n",
    "    .option(\"dbtable\", \"Discounts\") \\\n",
    "    .option(\"user\", \"root\") \\\n",
    "    .option(\"password\", \"password\") \\\n",
    "    .load()"
   ],
   "id": "e65dc1eb0a884eca",
   "outputs": [],
   "execution_count": 2
  },
  {
   "metadata": {
    "ExecuteTime": {
     "end_time": "2024-09-29T00:51:31.513795Z",
     "start_time": "2024-09-29T00:51:31.232890Z"
    }
   },
   "cell_type": "code",
   "source": [
    "\n",
    "\n",
    "Products\\\n",
    "    .join(Discounts,Products.category == Discounts.category,\"left\")\\\n",
    "    .withColumn(\"final_price\",when((col(\"price\")-(col(\"discount\")/100*col(\"price\"))).isNull(),Products.price).otherwise((col(\"price\")-(col(\"discount\")/100*col(\"price\")))))\\\n",
    "    .select(\"product_id\",\"final_price\",Products.category)\\\n",
    "    .show()\n",
    "\n",
    "# price - (discount/100)*price)"
   ],
   "id": "b640de6dc7ee83c4",
   "outputs": [
    {
     "name": "stdout",
     "output_type": "stream",
     "text": [
      "+----------+-----------+-----------+\n",
      "|product_id|final_price|   category|\n",
      "+----------+-----------+-----------+\n",
      "|         4|      500.0|       Home|\n",
      "|         1|      900.0|Electronics|\n",
      "|         3|     1080.0|Electronics|\n",
      "|         2|       40.0|   Clothing|\n",
      "+----------+-----------+-----------+\n",
      "\n"
     ]
    }
   ],
   "execution_count": 18
  },
  {
   "metadata": {},
   "cell_type": "code",
   "outputs": [],
   "execution_count": null,
   "source": "",
   "id": "a7e81dccbebdcc60"
  }
 ],
 "metadata": {
  "kernelspec": {
   "display_name": "Python 3",
   "language": "python",
   "name": "python3"
  },
  "language_info": {
   "codemirror_mode": {
    "name": "ipython",
    "version": 2
   },
   "file_extension": ".py",
   "mimetype": "text/x-python",
   "name": "python",
   "nbconvert_exporter": "python",
   "pygments_lexer": "ipython2",
   "version": "2.7.6"
  }
 },
 "nbformat": 4,
 "nbformat_minor": 5
}
