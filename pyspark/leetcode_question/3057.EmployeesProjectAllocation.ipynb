{
 "cells": [
  {
   "cell_type": "code",
   "id": "initial_id",
   "metadata": {
    "collapsed": true,
    "ExecuteTime": {
     "end_time": "2024-06-24T21:20:22.536780Z",
     "start_time": "2024-06-24T21:20:14.849259Z"
    }
   },
   "source": [
    "from pyspark.sql.session import SparkSession\n",
    "from pyspark.sql.functions import col\n",
    "\n",
    "\n",
    "spark = SparkSession \\\n",
    "        .builder \\\n",
    "        .config(\"spark.jars\",\n",
    "                \"/Users/sahilnagpal/Downloads/mysql-connector-java-8.0.29.jar\") \\\n",
    "        .master(\"local[*]\") \\\n",
    "        .appName(\"leetcode-problems\") \\\n",
    "        .getOrCreate()"
   ],
   "outputs": [
    {
     "name": "stderr",
     "output_type": "stream",
     "text": [
      "24/06/24 17:20:19 WARN NativeCodeLoader: Unable to load native-hadoop library for your platform... using builtin-java classes where applicable\n",
      "Setting default log level to \"WARN\".\n",
      "To adjust logging level use sc.setLogLevel(newLevel). For SparkR, use setLogLevel(newLevel).\n"
     ]
    }
   ],
   "execution_count": 1
  },
  {
   "metadata": {
    "ExecuteTime": {
     "end_time": "2024-06-24T21:22:24.701661Z",
     "start_time": "2024-06-24T21:22:23.228166Z"
    }
   },
   "cell_type": "code",
   "source": [
    "Project = spark.read.format(\"jdbc\"). \\\n",
    "    option(\"url\", \"jdbc:mysql://localhost:3306/leetcode\") \\\n",
    "    .option(\"driver\", \"com.mysql.cj.jdbc.Driver\") \\\n",
    "    .option(\"dbtable\", \"Project\") \\\n",
    "    .option(\"user\", \"root\") \\\n",
    "    .option(\"password\", \"password\") \\\n",
    "    .load()\n",
    "\n",
    "Employees = spark.read.format(\"jdbc\"). \\\n",
    "    option(\"url\", \"jdbc:mysql://localhost:3306/leetcode\") \\\n",
    "    .option(\"driver\", \"com.mysql.cj.jdbc.Driver\") \\\n",
    "    .option(\"dbtable\", \"Employees\") \\\n",
    "    .option(\"user\", \"root\") \\\n",
    "    .option(\"password\", \"password\") \\\n",
    "    .load()"
   ],
   "id": "cd64478a1b6bc8ae",
   "outputs": [],
   "execution_count": 3
  },
  {
   "metadata": {
    "ExecuteTime": {
     "end_time": "2024-06-24T21:24:01.130904Z",
     "start_time": "2024-06-24T21:24:01.093453Z"
    }
   },
   "cell_type": "code",
   "source": [
    "Project.createOrReplaceTempView(\"Project\")\n",
    "Employees.createOrReplaceTempView(\"Employees\")"
   ],
   "id": "38854da411e390ef",
   "outputs": [],
   "execution_count": 7
  },
  {
   "metadata": {
    "ExecuteTime": {
     "end_time": "2024-06-24T21:24:15.965564Z",
     "start_time": "2024-06-24T21:24:15.730693Z"
    }
   },
   "cell_type": "code",
   "source": [
    "result = spark.sql('''with avg_wkld as (\n",
    "select\n",
    "    team,\n",
    "    round(avg(workload),2)as avg_workload\n",
    "from\n",
    "    Project\n",
    "inner join\n",
    "    Employees\n",
    "on\n",
    "    Project.employee_id = Employees.employee_id\n",
    "group by team ),\n",
    "main_info as (select\n",
    "    Project.employee_id,\n",
    "    project_id,\n",
    "    name,\n",
    "    workload,\n",
    "    team\n",
    "from\n",
    "    Project\n",
    "inner join\n",
    "    Employees\n",
    "on\n",
    "    Project.employee_id = Employees.employee_id)\n",
    "select\n",
    "    main_info.*\n",
    "from\n",
    "    main_info\n",
    "left join\n",
    "    avg_wkld\n",
    "on\n",
    "    main_info.team = avg_wkld.team\n",
    "where\n",
    "    workload>avg_workload''')"
   ],
   "id": "5ae8f158c3646afb",
   "outputs": [],
   "execution_count": 9
  },
  {
   "metadata": {
    "ExecuteTime": {
     "end_time": "2024-06-24T21:24:26.666959Z",
     "start_time": "2024-06-24T21:24:21.076897Z"
    }
   },
   "cell_type": "code",
   "source": "result.show()",
   "id": "dcf4763637dedd55",
   "outputs": [
    {
     "name": "stderr",
     "output_type": "stream",
     "text": [
      "                                                                                \r"
     ]
    },
    {
     "name": "stdout",
     "output_type": "stream",
     "text": [
      "+-----------+----------+----+--------+----+\n",
      "|employee_id|project_id|name|workload|team|\n",
      "+-----------+----------+----+--------+----+\n",
      "|          2|         1| Ali|      90|   B|\n",
      "|          4|         2| Doe|      68|   A|\n",
      "+-----------+----------+----+--------+----+\n",
      "\n"
     ]
    }
   ],
   "execution_count": 10
  },
  {
   "metadata": {},
   "cell_type": "code",
   "outputs": [],
   "execution_count": null,
   "source": "",
   "id": "e3f9c2dd8f703237"
  }
 ],
 "metadata": {
  "kernelspec": {
   "display_name": "Python 3",
   "language": "python",
   "name": "python3"
  },
  "language_info": {
   "codemirror_mode": {
    "name": "ipython",
    "version": 2
   },
   "file_extension": ".py",
   "mimetype": "text/x-python",
   "name": "python",
   "nbconvert_exporter": "python",
   "pygments_lexer": "ipython2",
   "version": "2.7.6"
  }
 },
 "nbformat": 4,
 "nbformat_minor": 5
}
