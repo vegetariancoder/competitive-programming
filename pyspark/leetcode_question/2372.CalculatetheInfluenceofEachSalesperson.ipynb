{
 "cells": [
  {
   "cell_type": "code",
   "id": "initial_id",
   "metadata": {
    "collapsed": true,
    "ExecuteTime": {
     "end_time": "2024-07-07T16:44:50.233718Z",
     "start_time": "2024-07-07T16:44:50.225003Z"
    }
   },
   "source": [
    "from pyspark.sql.session import SparkSession\n",
    "from pyspark.sql.functions import col,sum,when\n",
    "\n",
    "\n",
    "spark = SparkSession \\\n",
    "        .builder \\\n",
    "        .config(\"spark.jars\",\n",
    "                \"/Users/sahilnagpal/Downloads/mysql-connector-java-8.0.29.jar\") \\\n",
    "        .master(\"local[*]\") \\\n",
    "        .appName(\"leetcode-problems\") \\\n",
    "        .getOrCreate()"
   ],
   "outputs": [],
   "execution_count": 15
  },
  {
   "metadata": {
    "ExecuteTime": {
     "end_time": "2024-07-07T16:33:37.206813Z",
     "start_time": "2024-07-07T16:33:34.079892Z"
    }
   },
   "cell_type": "code",
   "source": [
    "Salesperson = spark.read.format(\"jdbc\"). \\\n",
    "    option(\"url\", \"jdbc:mysql://localhost:3306/leetcode\") \\\n",
    "    .option(\"driver\", \"com.mysql.cj.jdbc.Driver\") \\\n",
    "    .option(\"dbtable\", \"Salesperson\") \\\n",
    "    .option(\"user\", \"root\") \\\n",
    "    .option(\"password\", \"password\") \\\n",
    "    .load()\n",
    "\n",
    "Customer = spark.read.format(\"jdbc\"). \\\n",
    "    option(\"url\", \"jdbc:mysql://localhost:3306/leetcode\") \\\n",
    "    .option(\"driver\", \"com.mysql.cj.jdbc.Driver\") \\\n",
    "    .option(\"dbtable\", \"Customer\") \\\n",
    "    .option(\"user\", \"root\") \\\n",
    "    .option(\"password\", \"password\") \\\n",
    "    .load()\n",
    "\n",
    "Sales = spark.read.format(\"jdbc\"). \\\n",
    "    option(\"url\", \"jdbc:mysql://localhost:3306/leetcode\") \\\n",
    "    .option(\"driver\", \"com.mysql.cj.jdbc.Driver\") \\\n",
    "    .option(\"dbtable\", \"Sales\") \\\n",
    "    .option(\"user\", \"root\") \\\n",
    "    .option(\"password\", \"password\") \\\n",
    "    .load()"
   ],
   "id": "3394d0bf1cc65d49",
   "outputs": [],
   "execution_count": 2
  },
  {
   "metadata": {
    "ExecuteTime": {
     "end_time": "2024-07-07T16:45:22.266789Z",
     "start_time": "2024-07-07T16:45:21.652171Z"
    }
   },
   "cell_type": "code",
   "source": [
    "Sales = Sales.withColumnRenamed(\"customer_id\",\"c_id\")\n",
    "Customer = Customer.withColumnRenamed(\"salesperson_id\",\"s_id\")\n",
    "\n",
    "\n",
    "total_sales_df = Sales\\\n",
    "    .join(Customer,on=Sales.c_id == Customer.customer_id,how=\"inner\")\\\n",
    "    .join(Salesperson,on=Customer.s_id==Salesperson.salesperson_id,how=\"inner\")\\\n",
    "    .select(\"salesperson_id\",\"price\")\\\n",
    "    .groupBy(col(\"salesperson_id\").alias(\"t_s_id\"))\\\n",
    "    .agg(sum(\"price\").alias(\"total\"))\n",
    "\n",
    "total_sales_df\\\n",
    "    .join(Salesperson,on=total_sales_df.t_s_id==Salesperson.salesperson_id,how=\"right\")\\\n",
    "    .withColumn(\"total_sales\",when(col(\"total\").isNull(),0).otherwise(col(\"total\")))\\\n",
    "    .select(\"salesperson_id\",\"name\",\"total_sales\")\\\n",
    "    .show()\n",
    "\n"
   ],
   "id": "711a7dd9596a3e10",
   "outputs": [
    {
     "name": "stdout",
     "output_type": "stream",
     "text": [
      "+--------------+-----+-----------+\n",
      "|salesperson_id| name|total_sales|\n",
      "+--------------+-----+-----------+\n",
      "|             1|Alice|    1246.00|\n",
      "|             2|  Bob|    1844.00|\n",
      "|             3|Jerry|       0.00|\n",
      "+--------------+-----+-----------+\n",
      "\n"
     ]
    }
   ],
   "execution_count": 16
  },
  {
   "metadata": {},
   "cell_type": "code",
   "outputs": [],
   "execution_count": null,
   "source": "",
   "id": "bddbc09ea94fe3a7"
  }
 ],
 "metadata": {
  "kernelspec": {
   "display_name": "Python 3",
   "language": "python",
   "name": "python3"
  },
  "language_info": {
   "codemirror_mode": {
    "name": "ipython",
    "version": 2
   },
   "file_extension": ".py",
   "mimetype": "text/x-python",
   "name": "python",
   "nbconvert_exporter": "python",
   "pygments_lexer": "ipython2",
   "version": "2.7.6"
  }
 },
 "nbformat": 4,
 "nbformat_minor": 5
}
