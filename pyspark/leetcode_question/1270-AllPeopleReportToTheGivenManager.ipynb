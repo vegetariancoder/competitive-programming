{
 "cells": [
  {
   "cell_type": "code",
   "id": "initial_id",
   "metadata": {
    "collapsed": true,
    "ExecuteTime": {
     "end_time": "2024-06-25T23:07:01.969197Z",
     "start_time": "2024-06-25T23:06:53.084158Z"
    }
   },
   "source": [
    "from pyspark.sql.session import SparkSession\n",
    "from pyspark.sql.functions import col\n",
    "\n",
    "\n",
    "spark = SparkSession \\\n",
    "        .builder \\\n",
    "        .config(\"spark.jars\",\n",
    "                \"/Users/sahilnagpal/Downloads/mysql-connector-java-8.0.29.jar\") \\\n",
    "        .master(\"local[*]\") \\\n",
    "        .appName(\"leetcode-problems\") \\\n",
    "        .getOrCreate()"
   ],
   "outputs": [
    {
     "name": "stderr",
     "output_type": "stream",
     "text": [
      "24/06/25 19:06:57 WARN NativeCodeLoader: Unable to load native-hadoop library for your platform... using builtin-java classes where applicable\n",
      "Setting default log level to \"WARN\".\n",
      "To adjust logging level use sc.setLogLevel(newLevel). For SparkR, use setLogLevel(newLevel).\n"
     ]
    }
   ],
   "execution_count": 1
  },
  {
   "metadata": {
    "ExecuteTime": {
     "end_time": "2024-06-25T23:07:05.202513Z",
     "start_time": "2024-06-25T23:07:01.972075Z"
    }
   },
   "cell_type": "code",
   "source": [
    "Employees = spark.read.format(\"jdbc\"). \\\n",
    "    option(\"url\", \"jdbc:mysql://localhost:3306/leetcode\") \\\n",
    "    .option(\"driver\", \"com.mysql.cj.jdbc.Driver\") \\\n",
    "    .option(\"dbtable\", \"Employees\") \\\n",
    "    .option(\"user\", \"root\") \\\n",
    "    .option(\"password\", \"password\") \\\n",
    "    .load()"
   ],
   "id": "114e59a39d3f38b3",
   "outputs": [],
   "execution_count": 2
  },
  {
   "metadata": {},
   "cell_type": "markdown",
   "source": "",
   "id": "e632eabc91c36f1"
  },
  {
   "metadata": {},
   "cell_type": "markdown",
   "source": "### Query -1 ",
   "id": "8d0c78b4b35df58d"
  },
  {
   "metadata": {
    "ExecuteTime": {
     "end_time": "2024-06-25T23:16:14.811159Z",
     "start_time": "2024-06-25T23:16:14.157995Z"
    }
   },
   "cell_type": "code",
   "source": [
    "layer_1_df = Employees\\\n",
    "    .filter((col(\"manager_id\")==1) & (col(\"employee_id\") != col(\"manager_id\")))\\\n",
    "    .select(\"employee_id\")\n",
    "layer_1 = [row.employee_id for row in layer_1_df.collect()]\n",
    "print(layer_1)\n",
    "\n",
    "layer_2_df = Employees\\\n",
    "    .filter(col(\"manager_id\").isin(layer_1))\\\n",
    "    .select(\"employee_id\")\n",
    "layer_2 = [row.employee_id for row in layer_2_df.collect()]\n",
    "print(layer_2)\n",
    "\n",
    "layer_3_df = Employees\\\n",
    "    .filter(col(\"manager_id\").isin(layer_2))\\\n",
    "    .select(\"employee_id\")\n",
    "layer_3 = [row.employee_id for row in layer_3_df.collect()]\n",
    "print(layer_3)\n",
    "\n",
    "layer_1_df\\\n",
    "    .unionAll(layer_2_df)\\\n",
    "    .unionAll(layer_3_df)\\\n",
    "    .show()\n"
   ],
   "id": "a111f337b78bcb6f",
   "outputs": [
    {
     "name": "stdout",
     "output_type": "stream",
     "text": [
      "[2, 77]\n",
      "[4]\n",
      "[7]\n",
      "+-----------+\n",
      "|employee_id|\n",
      "+-----------+\n",
      "|          2|\n",
      "|         77|\n",
      "|          4|\n",
      "|          7|\n",
      "+-----------+\n",
      "\n"
     ]
    }
   ],
   "execution_count": 12
  },
  {
   "metadata": {},
   "cell_type": "code",
   "outputs": [],
   "execution_count": null,
   "source": "",
   "id": "2b39b31c5365acb7"
  }
 ],
 "metadata": {
  "kernelspec": {
   "display_name": "Python 3",
   "language": "python",
   "name": "python3"
  },
  "language_info": {
   "codemirror_mode": {
    "name": "ipython",
    "version": 2
   },
   "file_extension": ".py",
   "mimetype": "text/x-python",
   "name": "python",
   "nbconvert_exporter": "python",
   "pygments_lexer": "ipython2",
   "version": "2.7.6"
  }
 },
 "nbformat": 4,
 "nbformat_minor": 5
}
