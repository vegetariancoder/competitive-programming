{
 "cells": [
  {
   "cell_type": "code",
   "id": "initial_id",
   "metadata": {
    "collapsed": true,
    "ExecuteTime": {
     "end_time": "2025-09-06T23:20:56.439129Z",
     "start_time": "2025-09-06T23:20:38.227165Z"
    }
   },
   "source": [
    "from pyspark.sql.session import SparkSession\n",
    "from pyspark.sql.functions import col, sum, countDistinct\n",
    "\n",
    "spark = SparkSession \\\n",
    "        .builder \\\n",
    "        .config(\"spark.jars\",\n",
    "                \"/Users/sahilnagpal/Downloads/mysql-connector-java-8.0.29.jar\") \\\n",
    "        .master(\"local[*]\") \\\n",
    "        .appName(\"leetcode-problems\") \\\n",
    "        .getOrCreate()\n",
    "\n",
    "employees = spark.read.format(\"jdbc\"). \\\n",
    "    option(\"url\", \"jdbc:mysql://localhost:3306/leetcode\") \\\n",
    "    .option(\"driver\", \"com.mysql.cj.jdbc.Driver\") \\\n",
    "    .option(\"dbtable\", \"employees\") \\\n",
    "    .option(\"user\", \"root\") \\\n",
    "    .option(\"password\", \"password\") \\\n",
    "    .load()\n",
    "\n",
    "\n",
    "performance_reviews = spark.read.format(\"jdbc\"). \\\n",
    "    option(\"url\", \"jdbc:mysql://localhost:3306/leetcode\") \\\n",
    "    .option(\"driver\", \"com.mysql.cj.jdbc.Driver\") \\\n",
    "    .option(\"dbtable\", \"performance_reviews\") \\\n",
    "    .option(\"user\", \"root\") \\\n",
    "    .option(\"password\", \"password\") \\\n",
    "    .load()"
   ],
   "outputs": [
    {
     "name": "stderr",
     "output_type": "stream",
     "text": [
      "25/09/06 19:20:49 WARN NativeCodeLoader: Unable to load native-hadoop library for your platform... using builtin-java classes where applicable\n",
      "Setting default log level to \"WARN\".\n",
      "To adjust logging level use sc.setLogLevel(newLevel). For SparkR, use setLogLevel(newLevel).\n",
      "25/09/06 19:20:51 WARN Utils: Service 'SparkUI' could not bind on port 4040. Attempting port 4041.\n"
     ]
    }
   ],
   "execution_count": 1
  },
  {
   "metadata": {
    "ExecuteTime": {
     "end_time": "2025-09-06T23:21:17.405070Z",
     "start_time": "2025-09-06T23:21:12.667172Z"
    }
   },
   "cell_type": "code",
   "source": "employees.show()",
   "id": "4b61f3dee4e801fc",
   "outputs": [
    {
     "name": "stderr",
     "output_type": "stream",
     "text": [
      "                                                                                \r"
     ]
    },
    {
     "name": "stdout",
     "output_type": "stream",
     "text": [
      "+-----------+-------------+\n",
      "|employee_id|         name|\n",
      "+-----------+-------------+\n",
      "|          1|Alice Johnson|\n",
      "|          2|    Bob Smith|\n",
      "|          3|  Carol Davis|\n",
      "|          4| David Wilson|\n",
      "|          5|   Emma Brown|\n",
      "+-----------+-------------+\n",
      "\n"
     ]
    }
   ],
   "execution_count": 3
  },
  {
   "metadata": {
    "ExecuteTime": {
     "end_time": "2025-09-06T23:21:30.520122Z",
     "start_time": "2025-09-06T23:21:29.939054Z"
    }
   },
   "cell_type": "code",
   "source": "performance_reviews.show()",
   "id": "8f1aaa6f21e847c8",
   "outputs": [
    {
     "name": "stdout",
     "output_type": "stream",
     "text": [
      "+---------+-----------+-----------+------+\n",
      "|review_id|employee_id|review_date|rating|\n",
      "+---------+-----------+-----------+------+\n",
      "|        1|          1| 2023-01-15|     2|\n",
      "|        2|          1| 2023-04-15|     3|\n",
      "|        3|          1| 2023-07-15|     4|\n",
      "|        4|          1| 2023-10-15|     5|\n",
      "|        5|          2| 2023-02-01|     3|\n",
      "|        6|          2| 2023-05-01|     2|\n",
      "|        7|          2| 2023-08-01|     4|\n",
      "|        8|          2| 2023-11-01|     5|\n",
      "|        9|          3| 2023-03-10|     1|\n",
      "|       10|          3| 2023-06-10|     2|\n",
      "|       11|          3| 2023-09-10|     3|\n",
      "|       12|          3| 2023-12-10|     4|\n",
      "|       13|          4| 2023-01-20|     4|\n",
      "|       14|          4| 2023-04-20|     4|\n",
      "|       15|          4| 2023-07-20|     4|\n",
      "|       16|          5| 2023-02-15|     3|\n",
      "|       17|          5| 2023-05-15|     2|\n",
      "+---------+-----------+-----------+------+\n",
      "\n"
     ]
    }
   ],
   "execution_count": 4
  },
  {
   "metadata": {
    "ExecuteTime": {
     "end_time": "2025-09-06T23:38:35.149302Z",
     "start_time": "2025-09-06T23:38:35.144744Z"
    }
   },
   "cell_type": "code",
   "source": [
    "from pyspark.sql.functions import count, dense_rank,lead\n",
    "from pyspark.sql.window import Window"
   ],
   "id": "93e4894a2dd4d9cb",
   "outputs": [],
   "execution_count": 25
  },
  {
   "metadata": {
    "ExecuteTime": {
     "end_time": "2025-09-06T23:46:02.032537Z",
     "start_time": "2025-09-06T23:46:01.153853Z"
    }
   },
   "cell_type": "code",
   "outputs": [
    {
     "name": "stdout",
     "output_type": "stream",
     "text": [
      "+-----------+-------------+-----------------+\n",
      "|employee_id|         name|improvement_score|\n",
      "+-----------+-------------+-----------------+\n",
      "|          2|    Bob Smith|                3|\n",
      "|          1|Alice Johnson|                2|\n",
      "|          3|  Carol Davis|                2|\n",
      "+-----------+-------------+-----------------+\n",
      "\n"
     ]
    }
   ],
   "execution_count": 34,
   "source": [
    "more_than_3reviews_df = performance_reviews \\\n",
    "    .groupBy(col(\"employee_id\")) \\\n",
    "    .agg(count(\"review_id\").alias(\"review_cnt\")) \\\n",
    "    .filter(col(\"review_cnt\") >= 3) \\\n",
    "    .withColumnRenamed(\"employee_id\", \"id\")\n",
    "\n",
    "employee_performance_df = more_than_3reviews_df \\\n",
    "    .join(performance_reviews, on= more_than_3reviews_df.id == performance_reviews.employee_id, how=\"inner\") \\\n",
    "    .select(\"employee_id\", \"review_date\", \"rating\") \\\n",
    "    .withColumn(\"drnk\", dense_rank().over(Window.partitionBy(\"employee_id\").orderBy(col(\"review_date\").desc()))) \\\n",
    "    .filter(col(\"drnk\") <= 3) \\\n",
    "    .withColumn(\"next_rating\",\n",
    "                lead(col(\"rating\")).over(Window.partitionBy(\"employee_id\").orderBy(col(\"review_date\").desc()))) \\\n",
    "    .withColumn(\"next_follow_rating\",\n",
    "                lead(col(\"rating\"), 2).over(Window.partitionBy(\"employee_id\").orderBy(col(\"review_date\").desc()))) \\\n",
    "    .filter(\n",
    "    (col(\"next_follow_rating\").isNotNull())\n",
    "    & (col(\"rating\") > col(\"next_rating\"))\n",
    "    & (col(\"next_rating\") > col(\"next_follow_rating\"))\n",
    ") \\\n",
    "    .withColumn(\"improvement_score\", col(\"rating\") - col(\"next_follow_rating\")) \\\n",
    "    .select(\"employee_id\", \"improvement_score\") \\\n",
    "employees = employees.withColumnRenamed(\"employee_id\", \"emp_id\")\n",
    "\n",
    "result_df = employee_performance_df \\\n",
    "    .join(employees, on=employee_performance_df.employee_id == employees.emp_id, how=\"inner\") \\\n",
    "    .select(\"employee_id\", \"name\", \"improvement_score\") \\\n",
    "    .orderBy(col(\"improvement_score\").desc(), col(\"name\"))\n"
   ],
   "id": "594e0db3f9aa15dc"
  },
  {
   "metadata": {},
   "cell_type": "code",
   "outputs": [],
   "execution_count": null,
   "source": "",
   "id": "cd6fd86c4fab9312"
  }
 ],
 "metadata": {
  "kernelspec": {
   "display_name": "Python 3",
   "language": "python",
   "name": "python3"
  },
  "language_info": {
   "codemirror_mode": {
    "name": "ipython",
    "version": 2
   },
   "file_extension": ".py",
   "mimetype": "text/x-python",
   "name": "python",
   "nbconvert_exporter": "python",
   "pygments_lexer": "ipython2",
   "version": "2.7.6"
  }
 },
 "nbformat": 4,
 "nbformat_minor": 5
}
