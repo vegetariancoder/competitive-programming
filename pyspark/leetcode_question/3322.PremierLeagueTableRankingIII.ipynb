{
 "cells": [
  {
   "cell_type": "code",
   "id": "initial_id",
   "metadata": {
    "collapsed": true,
    "ExecuteTime": {
     "end_time": "2024-10-25T22:29:10.044207Z",
     "start_time": "2024-10-25T22:29:09.799232Z"
    }
   },
   "source": [
    "\n",
    "from pyspark.sql.session import SparkSession\n",
    "from pyspark.sql.functions import col, dense_rank\n",
    "from pyspark.sql.window import Window\n",
    "\n",
    "spark = SparkSession \\\n",
    "        .builder \\\n",
    "        .config(\"spark.jars\",\n",
    "                \"/Users/sahilnagpal/Downloads/mysql-connector-java-8.0.29.jar\") \\\n",
    "        .master(\"local[*]\") \\\n",
    "        .appName(\"leetcode-problems\") \\\n",
    "        .getOrCreate()\n",
    "\n",
    "teams = spark.read.format(\"jdbc\"). \\\n",
    "    option(\"url\", \"jdbc:mysql://localhost:3306/leetcode\") \\\n",
    "    .option(\"driver\", \"com.mysql.cj.jdbc.Driver\") \\\n",
    "    .option(\"dbtable\", \"teams\") \\\n",
    "    .option(\"user\", \"root\") \\\n",
    "    .option(\"password\", \"password\") \\\n",
    "    .load()\n",
    "\n",
    "teams.show()"
   ],
   "outputs": [
    {
     "name": "stdout",
     "output_type": "stream",
     "text": [
      "+---------+-------+-----------------+--------------+----+-----+------+---------+-------------+\n",
      "|season_id|team_id|        team_name|matches_played|wins|draws|losses|goals_for|goals_against|\n",
      "+---------+-------+-----------------+--------------+----+-----+------+---------+-------------+\n",
      "|     2021|      1|  Manchester City|            38|  29|    6|     3|       99|           26|\n",
      "|     2021|      2|        Liverpool|            38|  28|    8|     2|       94|           26|\n",
      "|     2021|      3|          Chelsea|            38|  21|   11|     6|       76|           33|\n",
      "|     2021|      4|        Tottenham|            38|  22|    5|    11|       69|           40|\n",
      "|     2021|      5|          Arsenal|            38|  22|    3|    13|       61|           48|\n",
      "|     2022|      1|  Manchester City|            38|  28|    5|     5|       94|           33|\n",
      "|     2022|      2|          Arsenal|            38|  26|    6|     6|       88|           43|\n",
      "|     2022|      3|Manchester United|            38|  23|    6|     9|       58|           43|\n",
      "|     2022|      4|        Newcastle|            38|  19|   14|     5|       68|           33|\n",
      "|     2022|      5|        Liverpool|            38|  19|   10|     9|       75|           47|\n",
      "+---------+-------+-----------------+--------------+----+-----+------+---------+-------------+\n",
      "\n"
     ]
    }
   ],
   "execution_count": 2
  },
  {
   "metadata": {
    "ExecuteTime": {
     "end_time": "2024-10-25T22:30:57.743839Z",
     "start_time": "2024-10-25T22:30:57.306190Z"
    }
   },
   "cell_type": "code",
   "source": [
    "teams\\\n",
    "    .withColumn(\"points\",col(\"wins\")*3 + col(\"draws\")*1 + col(\"losses\")*0)\\\n",
    "    .withColumn(\"goal_difference\",col(\"goals_for\")-col(\"goals_against\"))\\\n",
    "    .withColumn(\"drnk\",dense_rank().over(Window.partitionBy(col(\"season_id\")).orderBy(col(\"points\").desc())))\\\n",
    "    .drop(\"wins\",\"losses\",\"goals_for\",\"goals_against\",\"matches_played\",\"draws\")\\\n",
    "    .show()"
   ],
   "id": "1a69041826d80adb",
   "outputs": [
    {
     "name": "stdout",
     "output_type": "stream",
     "text": [
      "+---------+-------+-----------------+------+---------------+----+\n",
      "|season_id|team_id|        team_name|points|goal_difference|drnk|\n",
      "+---------+-------+-----------------+------+---------------+----+\n",
      "|     2021|      1|  Manchester City|    93|             73|   1|\n",
      "|     2021|      2|        Liverpool|    92|             68|   2|\n",
      "|     2021|      3|          Chelsea|    74|             43|   3|\n",
      "|     2021|      4|        Tottenham|    71|             29|   4|\n",
      "|     2021|      5|          Arsenal|    69|             13|   5|\n",
      "|     2022|      1|  Manchester City|    89|             61|   1|\n",
      "|     2022|      2|          Arsenal|    84|             45|   2|\n",
      "|     2022|      3|Manchester United|    75|             15|   3|\n",
      "|     2022|      4|        Newcastle|    71|             35|   4|\n",
      "|     2022|      5|        Liverpool|    67|             28|   5|\n",
      "+---------+-------+-----------------+------+---------------+----+\n",
      "\n"
     ]
    }
   ],
   "execution_count": 5
  },
  {
   "metadata": {},
   "cell_type": "code",
   "outputs": [],
   "execution_count": null,
   "source": "",
   "id": "c8325c6c63e04a6b"
  }
 ],
 "metadata": {
  "kernelspec": {
   "display_name": "Python 3",
   "language": "python",
   "name": "python3"
  },
  "language_info": {
   "codemirror_mode": {
    "name": "ipython",
    "version": 2
   },
   "file_extension": ".py",
   "mimetype": "text/x-python",
   "name": "python",
   "nbconvert_exporter": "python",
   "pygments_lexer": "ipython2",
   "version": "2.7.6"
  }
 },
 "nbformat": 4,
 "nbformat_minor": 5
}
