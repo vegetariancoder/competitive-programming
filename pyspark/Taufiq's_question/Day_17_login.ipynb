{
 "cells": [
  {
   "cell_type": "code",
   "id": "initial_id",
   "metadata": {
    "collapsed": true,
    "ExecuteTime": {
     "end_time": "2024-10-11T15:14:42.231271Z",
     "start_time": "2024-10-11T15:14:37.331161Z"
    }
   },
   "source": [
    "from pyspark.sql import SparkSession\n",
    "\n",
    "spark = SparkSession \\\n",
    "        .builder \\\n",
    "        .config(\"spark.jars\",\n",
    "                \"/Users/sahilnagpal/Downloads/mysql-connector-java-8.0.29.jar\") \\\n",
    "        .master(\"local[*]\") \\\n",
    "        .appName(\"leetcode-problems\") \\\n",
    "        .getOrCreate()\n",
    "\n",
    "user_login = spark.read.format(\"jdbc\"). \\\n",
    "    option(\"url\", \"jdbc:mysql://localhost:3306/leetcode\") \\\n",
    "    .option(\"driver\", \"com.mysql.jdbc.Driver\") \\\n",
    "    .option(\"dbtable\", \"user_login\") \\\n",
    "    .option(\"user\", \"root\") \\\n",
    "    .option(\"password\", \"password\") \\\n",
    "    .load()\n",
    "\n",
    "user_login.show()"
   ],
   "outputs": [
    {
     "name": "stderr",
     "output_type": "stream",
     "text": [
      "                                                                                \r"
     ]
    },
    {
     "name": "stdout",
     "output_type": "stream",
     "text": [
      "+-------+----------+\n",
      "|user_id|login_date|\n",
      "+-------+----------+\n",
      "|      1|2024-03-01|\n",
      "|      1|2024-03-02|\n",
      "|      1|2024-03-03|\n",
      "|      1|2024-03-04|\n",
      "|      1|2024-03-06|\n",
      "|      1|2024-03-10|\n",
      "|      1|2024-03-11|\n",
      "|      1|2024-03-12|\n",
      "|      1|2024-03-13|\n",
      "|      1|2024-03-14|\n",
      "|      1|2024-03-20|\n",
      "|      1|2024-03-25|\n",
      "|      1|2024-03-26|\n",
      "|      1|2024-03-27|\n",
      "|      1|2024-03-28|\n",
      "|      1|2024-03-29|\n",
      "|      1|2024-03-30|\n",
      "|      2|2024-03-01|\n",
      "|      2|2024-03-02|\n",
      "|      2|2024-03-03|\n",
      "+-------+----------+\n",
      "only showing top 20 rows\n",
      "\n"
     ]
    }
   ],
   "execution_count": 2
  },
  {
   "metadata": {
    "ExecuteTime": {
     "end_time": "2024-10-11T15:14:44.940316Z",
     "start_time": "2024-10-11T15:14:42.266091Z"
    }
   },
   "cell_type": "code",
   "source": [
    "user_login.createOrReplaceTempView(\"user_login\")\n",
    "\n",
    "spark.sql('''\n",
    "with sample_cte as (\n",
    "select\n",
    "    distinct\n",
    "    user_login.user_id,\n",
    "    user_login.login_date\n",
    "from\n",
    "    user_login),\n",
    "sample_cte2 as (\n",
    "select\n",
    "    *,\n",
    "    day(login_date)-row_number() over (partition by user_id order by login_date) as rn\n",
    "from\n",
    "    sample_cte),\n",
    "sample_cte3 as (\n",
    "select\n",
    "    *,\n",
    "    count(rn) over (partition by rn,user_id) as cnt\n",
    "from\n",
    "    sample_cte2)\n",
    "select\n",
    "    user_id,\n",
    "    min(login_date) as start_date,\n",
    "    max(login_date) as end_date,\n",
    "    cnt\n",
    "from\n",
    "    sample_cte3\n",
    "where\n",
    "    cnt >=5\n",
    "group by user_id,cnt\n",
    "''').show()"
   ],
   "id": "b51d58ffbd1a189",
   "outputs": [
    {
     "name": "stdout",
     "output_type": "stream",
     "text": [
      "+-------+----------+----------+---+\n",
      "|user_id|start_date|  end_date|cnt|\n",
      "+-------+----------+----------+---+\n",
      "|      3|2024-03-01|2024-03-05|  5|\n",
      "|      1|2024-03-10|2024-03-14|  5|\n",
      "|      1|2024-03-25|2024-03-30|  6|\n",
      "+-------+----------+----------+---+\n",
      "\n"
     ]
    }
   ],
   "execution_count": 3
  }
 ],
 "metadata": {
  "kernelspec": {
   "display_name": "Python 3",
   "language": "python",
   "name": "python3"
  },
  "language_info": {
   "codemirror_mode": {
    "name": "ipython",
    "version": 2
   },
   "file_extension": ".py",
   "mimetype": "text/x-python",
   "name": "python",
   "nbconvert_exporter": "python",
   "pygments_lexer": "ipython2",
   "version": "2.7.6"
  }
 },
 "nbformat": 4,
 "nbformat_minor": 5
}
