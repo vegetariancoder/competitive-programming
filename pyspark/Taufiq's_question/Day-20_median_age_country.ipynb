{
 "cells": [
  {
   "cell_type": "code",
   "execution_count": 8,
   "outputs": [],
   "source": [
    "from pyspark.sql import SparkSession\n",
    "from pyspark.sql.functions import col,row_number,count\n",
    "from pyspark.sql.window import Window\n",
    "\n",
    "spark = SparkSession \\\n",
    "        .builder \\\n",
    "        .config(\"spark.jars\",\n",
    "                \"/Users/sahilnagpal/Downloads/mysql-connector-java-8.0.29.jar\") \\\n",
    "        .master(\"local[*]\") \\\n",
    "        .appName(\"leetcode-problems\") \\\n",
    "        .getOrCreate()\n",
    "\n",
    "People = spark.read.format(\"jdbc\"). \\\n",
    "    option(\"url\", \"jdbc:mysql://localhost:3306/online\") \\\n",
    "    .option(\"driver\", \"com.mysql.jdbc.Driver\") \\\n",
    "    .option(\"dbtable\", \"People\") \\\n",
    "    .option(\"user\", \"root\") \\\n",
    "    .option(\"password\", \"password\") \\\n",
    "    .load()"
   ],
   "metadata": {
    "collapsed": false,
    "pycharm": {
     "name": "#%%\n"
    }
   }
  },
  {
   "cell_type": "code",
   "execution_count": 10,
   "outputs": [
    {
     "name": "stdout",
     "output_type": "stream",
     "text": [
      "+--------+---+\n",
      "| country|age|\n",
      "+--------+---+\n",
      "| Germany|  6|\n",
      "| Germany| 54|\n",
      "|   India| 33|\n",
      "|   India| 38|\n",
      "|   Japan| 58|\n",
      "|Malaysia| 44|\n",
      "|  Poland| 34|\n",
      "|  Poland| 45|\n",
      "|     USA| 32|\n",
      "+--------+---+\n",
      "\n"
     ]
    }
   ],
   "source": [
    "People\\\n",
    "    .withColumn(\"rno\",row_number().over(Window.partitionBy(col(\"country\")).orderBy(col(\"age\"))))\\\n",
    "    .withColumn(\"cnt\",count(\"country\").over(Window.partitionBy(col(\"country\"))))\\\n",
    "    .select(\"country\",\"age\")\\\n",
    "    .filter(col(\"rno\").between(col(\"cnt\")/2,col(\"cnt\")/2+1))\\\n",
    "    .show()"
   ],
   "metadata": {
    "collapsed": false,
    "pycharm": {
     "name": "#%%\n"
    }
   }
  },
  {
   "cell_type": "code",
   "execution_count": null,
   "outputs": [],
   "source": [],
   "metadata": {
    "collapsed": false,
    "pycharm": {
     "name": "#%%\n"
    }
   }
  }
 ],
 "metadata": {
  "kernelspec": {
   "display_name": "Python 3",
   "language": "python",
   "name": "python3"
  },
  "language_info": {
   "codemirror_mode": {
    "name": "ipython",
    "version": 2
   },
   "file_extension": ".py",
   "mimetype": "text/x-python",
   "name": "python",
   "nbconvert_exporter": "python",
   "pygments_lexer": "ipython2",
   "version": "2.7.6"
  }
 },
 "nbformat": 4,
 "nbformat_minor": 0
}