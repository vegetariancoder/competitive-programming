{
 "cells": [
  {
   "metadata": {
    "ExecuteTime": {
     "end_time": "2024-10-06T21:44:35.848531Z",
     "start_time": "2024-10-06T21:44:22.946143Z"
    }
   },
   "cell_type": "code",
   "source": [
    "from pyspark.sql import SparkSession\n",
    "from pyspark.sql.functions import col, count, lit, isnull\n",
    "from pyspark.sql.window import Window\n",
    "\n",
    "spark = SparkSession \\\n",
    "        .builder \\\n",
    "        .config(\"spark.jars\",\n",
    "                \"/Users/sahilnagpal/Downloads/mysql-connector-java-8.0.29.jar\") \\\n",
    "        .master(\"local[*]\") \\\n",
    "        .appName(\"leetcode-problems\") \\\n",
    "        .getOrCreate()\n",
    "\n",
    "invoice = spark.read.format(\"jdbc\"). \\\n",
    "    option(\"url\", \"jdbc:mysql://localhost:3306/leetcode\") \\\n",
    "    .option(\"driver\", \"com.mysql.jdbc.Driver\") \\\n",
    "    .option(\"dbtable\", \"invoice\") \\\n",
    "    .option(\"user\", \"root\") \\\n",
    "    .option(\"password\", \"password\") \\\n",
    "    .load()\n",
    "\n",
    "invoice.show()"
   ],
   "id": "9b428fad3f7df783",
   "outputs": [
    {
     "name": "stderr",
     "output_type": "stream",
     "text": [
      "24/10/06 17:44:26 WARN NativeCodeLoader: Unable to load native-hadoop library for your platform... using builtin-java classes where applicable\n",
      "Setting default log level to \"WARN\".\n",
      "To adjust logging level use sc.setLogLevel(newLevel). For SparkR, use setLogLevel(newLevel).\n",
      "Loading class `com.mysql.jdbc.Driver'. This is deprecated. The new driver class is `com.mysql.cj.jdbc.Driver'. The driver is automatically registered via the SPI and manual loading of the driver class is generally unnecessary.\n",
      "                                                                                \r"
     ]
    },
    {
     "name": "stdout",
     "output_type": "stream",
     "text": [
      "+---------+\n",
      "|serial_no|\n",
      "+---------+\n",
      "|   330115|\n",
      "|   330120|\n",
      "|   330121|\n",
      "|   330122|\n",
      "|   330125|\n",
      "+---------+\n",
      "\n"
     ]
    }
   ],
   "execution_count": 1
  },
  {
   "metadata": {
    "ExecuteTime": {
     "end_time": "2024-10-06T21:44:59.342996Z",
     "start_time": "2024-10-06T21:44:58.252353Z"
    }
   },
   "cell_type": "code",
   "source": [
    "min_serial = invoice.agg({\"serial_no\": \"min\"}).collect()[0][0]\n",
    "max_serial = invoice.agg({\"serial_no\": \"max\"}).collect()[0][0]\n",
    "\n",
    "# Generate a DataFrame with the sequence of numbers from min to max\n",
    "full_sequence_df = spark.range(min_serial, max_serial + 1).toDF(\"all_invoice\")\n",
    "full_sequence_df\\\n",
    "    .join(invoice,on=full_sequence_df.all_invoice == invoice.serial_no,how=\"left\")\\\n",
    "    .filter(col(\"serial_no\").isNull())\\\n",
    "    .select(\"all_invoice\")\\\n",
    "    .show()\n"
   ],
   "id": "f85f1cdb6edb8d38",
   "outputs": [
    {
     "name": "stdout",
     "output_type": "stream",
     "text": [
      "+-----------+\n",
      "|all_invoice|\n",
      "+-----------+\n",
      "|     330116|\n",
      "|     330117|\n",
      "|     330118|\n",
      "|     330119|\n",
      "|     330123|\n",
      "|     330124|\n",
      "+-----------+\n",
      "\n"
     ]
    }
   ],
   "execution_count": 3
  },
  {
   "metadata": {
    "ExecuteTime": {
     "end_time": "2024-10-06T21:44:37.926087Z",
     "start_time": "2024-10-06T21:44:37.920504Z"
    }
   },
   "cell_type": "code",
   "source": "",
   "id": "c78e837701b770de",
   "outputs": [],
   "execution_count": null
  },
  {
   "metadata": {
    "ExecuteTime": {
     "end_time": "2024-10-06T21:44:37.955183Z",
     "start_time": "2024-10-06T21:44:37.950106Z"
    }
   },
   "cell_type": "code",
   "source": "",
   "id": "b8e96deeaaf0d983",
   "outputs": [],
   "execution_count": null
  }
 ],
 "metadata": {
  "kernelspec": {
   "display_name": "Python 3",
   "language": "python",
   "name": "python3"
  },
  "language_info": {
   "codemirror_mode": {
    "name": "ipython",
    "version": 2
   },
   "file_extension": ".py",
   "mimetype": "text/x-python",
   "name": "python",
   "nbconvert_exporter": "python",
   "pygments_lexer": "ipython2",
   "version": "2.7.6"
  }
 },
 "nbformat": 4,
 "nbformat_minor": 5
}
