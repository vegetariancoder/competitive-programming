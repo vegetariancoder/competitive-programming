{
 "cells": [
  {
   "cell_type": "code",
   "id": "initial_id",
   "metadata": {
    "collapsed": true,
    "ExecuteTime": {
     "end_time": "2024-10-20T01:00:47.260039Z",
     "start_time": "2024-10-20T01:00:47.165635Z"
    }
   },
   "source": [
    "from pyspark.sql import SparkSession\n",
    "from pyspark.sql.functions import col, sum\n",
    "from pyspark.sql.window import Window\n",
    "\n",
    "spark = SparkSession \\\n",
    "        .builder \\\n",
    "        .config(\"spark.jars\",\n",
    "                \"/Users/sahilnagpal/Downloads/mysql-connector-java-8.0.29.jar\") \\\n",
    "        .master(\"local[*]\") \\\n",
    "        .appName(\"leetcode-problems\") \\\n",
    "        .getOrCreate()\n",
    "\n",
    "user_sessions = spark.read.format(\"jdbc\"). \\\n",
    "    option(\"url\", \"jdbc:mysql://localhost:3306/leetcode\") \\\n",
    "    .option(\"driver\", \"com.mysql.jdbc.Driver\") \\\n",
    "    .option(\"dbtable\", \"user_sessions\") \\\n",
    "    .option(\"user\", \"root\") \\\n",
    "    .option(\"password\", \"password\") \\\n",
    "    .load()\n",
    "\n",
    "post_views = spark.read.format(\"jdbc\"). \\\n",
    "    option(\"url\", \"jdbc:mysql://localhost:3306/leetcode\") \\\n",
    "    .option(\"driver\", \"com.mysql.jdbc.Driver\") \\\n",
    "    .option(\"dbtable\", \"post_views\") \\\n",
    "    .option(\"user\", \"root\") \\\n",
    "    .option(\"password\", \"password\") \\\n",
    "    .load()"
   ],
   "outputs": [],
   "execution_count": 5
  },
  {
   "metadata": {
    "ExecuteTime": {
     "end_time": "2024-10-20T01:03:03.331435Z",
     "start_time": "2024-10-20T01:03:02.601979Z"
    }
   },
   "cell_type": "code",
   "source": [
    "distinct_session = user_sessions\\\n",
    "    .join(post_views,user_sessions.session_id == post_views.session_id,how=\"inner\")\\\n",
    "    .withColumn(\"diff\",col(\"session_endtime\").cast(\"long\")-col(\"session_starttime\").cast(\"long\"))\\\n",
    "    .select(user_sessions.session_id,col(\"diff\"))\\\n",
    "    .distinct()\n",
    "\n",
    "distinct_session\\\n",
    "    .join(post_views,distinct_session.session_id == post_views.session_id,how=\"inner\")\\\n",
    "    .groupBy(col(\"post_id\"))\\\n",
    "    .agg(sum((col(\"perc_viewed\")/100)*col(\"diff\")).alias(\"total_view_time\"))\\\n",
    "    .filter(col(\"total_view_time\")>5)\\\n",
    "    .show()"
   ],
   "id": "e3c7518ef828897a",
   "outputs": [
    {
     "name": "stdout",
     "output_type": "stream",
     "text": [
      "+-------+---------------+\n",
      "|post_id|total_view_time|\n",
      "+-------+---------------+\n",
      "|      4|            5.1|\n",
      "|      2|           24.0|\n",
      "+-------+---------------+\n",
      "\n"
     ]
    }
   ],
   "execution_count": 8
  },
  {
   "metadata": {},
   "cell_type": "code",
   "outputs": [],
   "execution_count": null,
   "source": "",
   "id": "3a117079a3422270"
  }
 ],
 "metadata": {
  "kernelspec": {
   "display_name": "Python 3",
   "language": "python",
   "name": "python3"
  },
  "language_info": {
   "codemirror_mode": {
    "name": "ipython",
    "version": 2
   },
   "file_extension": ".py",
   "mimetype": "text/x-python",
   "name": "python",
   "nbconvert_exporter": "python",
   "pygments_lexer": "ipython2",
   "version": "2.7.6"
  }
 },
 "nbformat": 4,
 "nbformat_minor": 5
}
