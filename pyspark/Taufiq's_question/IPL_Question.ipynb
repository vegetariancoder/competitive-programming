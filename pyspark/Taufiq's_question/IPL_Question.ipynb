{
 "cells": [
  {
   "cell_type": "code",
   "execution_count": null,
   "id": "initial_id",
   "metadata": {
    "collapsed": true
   },
   "outputs": [],
   "source": [
    "from pyspark.sql import SparkSession\n",
    "\n",
    "spark = SparkSession \\\n",
    "        .builder \\\n",
    "        .config(\"spark.jars\",\n",
    "                \"/Users/sahilnagpal/Downloads/mysql-connector-java-8.0.29.jar\") \\\n",
    "        .master(\"local[*]\") \\\n",
    "        .appName(\"leetcode-problems\") \\\n",
    "        .getOrCreate()\n",
    "\n",
    "cricket_match = spark.read.format(\"jdbc\"). \\\n",
    "    option(\"url\", \"jdbc:mysql://localhost:3306/leetcode\") \\\n",
    "    .option(\"driver\", \"com.mysql.jdbc.Driver\") \\\n",
    "    .option(\"dbtable\", \"cricket_match\") \\\n",
    "    .option(\"user\", \"root\") \\\n",
    "    .option(\"password\", \"password\") \\\n",
    "    .load()\n",
    "\n",
    "cricket_match.show()"
   ]
  },
  {
   "metadata": {},
   "cell_type": "code",
   "outputs": [],
   "execution_count": null,
   "source": [
    "spark.sql('''\n",
    "with all_matches as (\n",
    "select\n",
    "    cricket_match.batter as player,\n",
    "    cricket_match.match_id as match_id\n",
    "from\n",
    "    cricket_match\n",
    "union all\n",
    "select\n",
    "    cricket_match.bowler as player,\n",
    "    cricket_match.match_id as match_id\n",
    "from\n",
    "    cricket_match),\n",
    "total_matches as (\n",
    "select\n",
    "    player,\n",
    "    count(distinct match_id) as total_matches\n",
    "from\n",
    "    all_matches\n",
    "group by\n",
    "    player),\n",
    "batting_matches as (\n",
    "select\n",
    "    batter,\n",
    "    count(distinct match_id) as batting_matches\n",
    "from\n",
    "    cricket_match\n",
    "group by batter),\n",
    "bowling_matches as (\n",
    "select\n",
    "    bowler,\n",
    "    count(distinct match_id) as bowling_matches\n",
    "from\n",
    "    cricket_match\n",
    "group by bowler)\n",
    "select\n",
    "    total_matches.player,\n",
    "    total_matches,\n",
    "    ifnull(batting_matches,0) as batting_matches,\n",
    "    ifnull(bowling_matches,0) as bowling_matches\n",
    "from\n",
    "    total_matches\n",
    "left join\n",
    "    batting_matches\n",
    "on\n",
    "    total_matches.player = batting_matches.batter\n",
    "left join\n",
    "    bowling_matches\n",
    "on\n",
    "    total_matches.player = bowling_matches.bowler\n",
    "''').show()"
   ],
   "id": "22cae47c18521a12"
  }
 ],
 "metadata": {
  "kernelspec": {
   "display_name": "Python 3",
   "language": "python",
   "name": "python3"
  },
  "language_info": {
   "codemirror_mode": {
    "name": "ipython",
    "version": 2
   },
   "file_extension": ".py",
   "mimetype": "text/x-python",
   "name": "python",
   "nbconvert_exporter": "python",
   "pygments_lexer": "ipython2",
   "version": "2.7.6"
  }
 },
 "nbformat": 4,
 "nbformat_minor": 5
}
