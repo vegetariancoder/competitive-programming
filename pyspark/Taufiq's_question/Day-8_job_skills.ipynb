{
 "cells": [
  {
   "cell_type": "code",
   "execution_count": 6,
   "outputs": [],
   "source": [
    "from pyspark.sql import SparkSession\n",
    "from pyspark.sql.functions import col,first_value,count\n",
    "from pyspark.sql.window import Window\n",
    "\n",
    "spark = SparkSession \\\n",
    "        .builder \\\n",
    "        .config(\"spark.jars\",\n",
    "                \"/Users/sahilnagpal/Downloads/mysql-connector-java-8.0.29.jar\") \\\n",
    "        .master(\"local[*]\") \\\n",
    "        .appName(\"leetcode-problems\") \\\n",
    "        .getOrCreate()\n",
    "\n",
    "job_skills = spark.read.format(\"jdbc\"). \\\n",
    "    option(\"url\", \"jdbc:mysql://localhost:3306/online\") \\\n",
    "    .option(\"driver\", \"com.mysql.jdbc.Driver\") \\\n",
    "    .option(\"dbtable\", \"job_skills\") \\\n",
    "    .option(\"user\", \"root\") \\\n",
    "    .option(\"password\", \"password\") \\\n",
    "    .load()"
   ],
   "metadata": {
    "collapsed": false,
    "pycharm": {
     "name": "#%%\n"
    }
   }
  },
  {
   "cell_type": "code",
   "execution_count": 7,
   "outputs": [
    {
     "name": "stderr",
     "output_type": "stream",
     "text": [
      "24/03/21 20:28:33 WARN WindowExec: No Partition Defined for Window operation! Moving all data to a single partition, this can cause serious performance degradation.\n",
      "24/03/21 20:28:33 WARN WindowExec: No Partition Defined for Window operation! Moving all data to a single partition, this can cause serious performance degradation.\n",
      "24/03/21 20:28:33 WARN WindowExec: No Partition Defined for Window operation! Moving all data to a single partition, this can cause serious performance degradation.\n",
      "24/03/21 20:28:33 WARN WindowExec: No Partition Defined for Window operation! Moving all data to a single partition, this can cause serious performance degradation.\n"
     ]
    },
    {
     "name": "stdout",
     "output_type": "stream",
     "text": [
      "+------+--------------+----------------+\n",
      "|row_id|      job_role|          skills|\n",
      "+------+--------------+----------------+\n",
      "|     1| Data Engineer|             SQL|\n",
      "|     2| Data Engineer|          Python|\n",
      "|     3| Data Engineer|             AWS|\n",
      "|     4| Data Engineer|       Snowflake|\n",
      "|     5| Data Engineer|    Apache Spark|\n",
      "|     6| Web Developer|            Java|\n",
      "|     7| Web Developer|            HTML|\n",
      "|     8| Web Developer|             CSS|\n",
      "|     9|Data Scientist|          Python|\n",
      "|    10|Data Scientist|Machine Learning|\n",
      "|    11|Data Scientist|   Deep Learning|\n",
      "|    12|Data Scientist|         Tableau|\n",
      "+------+--------------+----------------+\n",
      "\n"
     ]
    }
   ],
   "source": [
    "job_skills\\\n",
    "    .withColumn(\"cnt\",count(\"job_role\").over(Window.orderBy(col(\"row_id\"))))\\\n",
    "    .withColumn(\"job_role_main\",first_value(\"job_role\").over(Window.partitionBy(\"cnt\").orderBy(col(\"cnt\"))))\\\n",
    "    .drop(\"job_role\")\\\n",
    "    .withColumnRenamed(\"job_role_main\",\"job_role\")\\\n",
    "    .select(\"row_id\",\"job_role\",\"skills\")\\\n",
    "    .show()"
   ],
   "metadata": {
    "collapsed": false,
    "pycharm": {
     "name": "#%%\n"
    }
   }
  },
  {
   "cell_type": "code",
   "execution_count": null,
   "outputs": [],
   "source": [],
   "metadata": {
    "collapsed": false,
    "pycharm": {
     "name": "#%%\n"
    }
   }
  }
 ],
 "metadata": {
  "kernelspec": {
   "display_name": "Python 3",
   "language": "python",
   "name": "python3"
  },
  "language_info": {
   "codemirror_mode": {
    "name": "ipython",
    "version": 2
   },
   "file_extension": ".py",
   "mimetype": "text/x-python",
   "name": "python",
   "nbconvert_exporter": "python",
   "pygments_lexer": "ipython2",
   "version": "2.7.6"
  }
 },
 "nbformat": 4,
 "nbformat_minor": 0
}