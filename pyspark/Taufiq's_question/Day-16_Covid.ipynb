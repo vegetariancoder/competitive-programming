{
 "cells": [
  {
   "cell_type": "code",
   "id": "initial_id",
   "metadata": {
    "collapsed": true,
    "ExecuteTime": {
     "end_time": "2024-10-11T15:21:00.401646Z",
     "start_time": "2024-10-11T15:20:48.583661Z"
    }
   },
   "source": [
    "from pyspark.sql import SparkSession\n",
    "\n",
    "spark = SparkSession \\\n",
    "        .builder \\\n",
    "        .config(\"spark.jars\",\n",
    "                \"/Users/sahilnagpal/Downloads/mysql-connector-java-8.0.29.jar\") \\\n",
    "        .master(\"local[*]\") \\\n",
    "        .appName(\"leetcode-problems\") \\\n",
    "        .getOrCreate()\n",
    "\n",
    "covid_cases = spark.read.format(\"jdbc\"). \\\n",
    "    option(\"url\", \"jdbc:mysql://localhost:3306/leetcode\") \\\n",
    "    .option(\"driver\", \"com.mysql.jdbc.Driver\") \\\n",
    "    .option(\"dbtable\", \"covid_cases\") \\\n",
    "    .option(\"user\", \"root\") \\\n",
    "    .option(\"password\", \"password\") \\\n",
    "    .load()\n",
    "\n",
    "covid_cases.show()"
   ],
   "outputs": [
    {
     "name": "stderr",
     "output_type": "stream",
     "text": [
      "24/10/11 11:20:51 WARN NativeCodeLoader: Unable to load native-hadoop library for your platform... using builtin-java classes where applicable\n",
      "Setting default log level to \"WARN\".\n",
      "To adjust logging level use sc.setLogLevel(newLevel). For SparkR, use setLogLevel(newLevel).\n",
      "24/10/11 11:20:52 WARN Utils: Service 'SparkUI' could not bind on port 4040. Attempting port 4041.\n",
      "24/10/11 11:20:52 WARN Utils: Service 'SparkUI' could not bind on port 4041. Attempting port 4042.\n",
      "Loading class `com.mysql.jdbc.Driver'. This is deprecated. The new driver class is `com.mysql.cj.jdbc.Driver'. The driver is automatically registered via the SPI and manual loading of the driver class is generally unnecessary.\n",
      "                                                                                \r"
     ]
    },
    {
     "name": "stdout",
     "output_type": "stream",
     "text": [
      "+--------------+----------+\n",
      "|cases_reported|     dates|\n",
      "+--------------+----------+\n",
      "|         20124|2020-01-10|\n",
      "|         40133|2020-01-15|\n",
      "|         65005|2020-01-20|\n",
      "|         30005|2020-02-08|\n",
      "|         35015|2020-02-19|\n",
      "|         15015|2020-03-03|\n",
      "|         35035|2020-03-10|\n",
      "|         49099|2020-03-14|\n",
      "|         84045|2020-03-20|\n",
      "|        100106|2020-03-31|\n",
      "|         17015|2020-04-04|\n",
      "|         36035|2020-04-11|\n",
      "|         50099|2020-04-13|\n",
      "|         87045|2020-04-22|\n",
      "|        101101|2020-04-30|\n",
      "|         40015|2020-05-01|\n",
      "|         54035|2020-05-09|\n",
      "|         71099|2020-05-14|\n",
      "|         82045|2020-05-21|\n",
      "|         90103|2020-05-25|\n",
      "+--------------+----------+\n",
      "only showing top 20 rows\n",
      "\n"
     ]
    }
   ],
   "execution_count": 1
  },
  {
   "metadata": {
    "ExecuteTime": {
     "end_time": "2024-10-11T15:21:00.489060Z",
     "start_time": "2024-10-11T15:21:00.430006Z"
    }
   },
   "cell_type": "code",
   "source": "covid_cases.createOrReplaceTempView(\"covid_cases\")",
   "id": "efc67a44462ac969",
   "outputs": [],
   "execution_count": 2
  },
  {
   "metadata": {
    "ExecuteTime": {
     "end_time": "2024-10-11T15:21:03.102274Z",
     "start_time": "2024-10-11T15:21:00.845569Z"
    }
   },
   "cell_type": "code",
   "source": [
    "spark.sql('''\n",
    "with cte as (\n",
    "select\n",
    "    month(dates) as monthvalue,\n",
    "    sum(cases_reported) as total_cases\n",
    "from\n",
    "    covid_cases\n",
    "group by monthvalue),\n",
    "cte2 as (\n",
    "select\n",
    "    *,\n",
    "    sum(total_cases) over (order by monthvalue) as sm_over\n",
    "from\n",
    "    cte)\n",
    "select\n",
    "    monthvalue,\n",
    "    round(ifnull(total_cases/lag(sm_over) over (order by monthvalue),'-')*100,1) as percentage_increase\n",
    "from\n",
    "    cte2\n",
    "''').show()"
   ],
   "id": "baa0bdb6344d5a74",
   "outputs": [
    {
     "name": "stderr",
     "output_type": "stream",
     "text": [
      "24/10/11 11:21:01 WARN WindowExec: No Partition Defined for Window operation! Moving all data to a single partition, this can cause serious performance degradation.\n",
      "24/10/11 11:21:01 WARN WindowExec: No Partition Defined for Window operation! Moving all data to a single partition, this can cause serious performance degradation.\n",
      "24/10/11 11:21:01 WARN WindowExec: No Partition Defined for Window operation! Moving all data to a single partition, this can cause serious performance degradation.\n",
      "24/10/11 11:21:01 WARN WindowExec: No Partition Defined for Window operation! Moving all data to a single partition, this can cause serious performance degradation.\n",
      "24/10/11 11:21:01 WARN WindowExec: No Partition Defined for Window operation! Moving all data to a single partition, this can cause serious performance degradation.\n",
      "24/10/11 11:21:02 WARN WindowExec: No Partition Defined for Window operation! Moving all data to a single partition, this can cause serious performance degradation.\n",
      "24/10/11 11:21:02 WARN WindowExec: No Partition Defined for Window operation! Moving all data to a single partition, this can cause serious performance degradation.\n",
      "24/10/11 11:21:02 WARN WindowExec: No Partition Defined for Window operation! Moving all data to a single partition, this can cause serious performance degradation.\n",
      "24/10/11 11:21:02 WARN WindowExec: No Partition Defined for Window operation! Moving all data to a single partition, this can cause serious performance degradation.\n",
      "24/10/11 11:21:02 WARN WindowExec: No Partition Defined for Window operation! Moving all data to a single partition, this can cause serious performance degradation.\n",
      "24/10/11 11:21:02 WARN WindowExec: No Partition Defined for Window operation! Moving all data to a single partition, this can cause serious performance degradation.\n",
      "24/10/11 11:21:02 WARN WindowExec: No Partition Defined for Window operation! Moving all data to a single partition, this can cause serious performance degradation.\n",
      "24/10/11 11:21:02 WARN WindowExec: No Partition Defined for Window operation! Moving all data to a single partition, this can cause serious performance degradation.\n"
     ]
    },
    {
     "name": "stdout",
     "output_type": "stream",
     "text": [
      "+----------+-------------------+\n",
      "|monthvalue|percentage_increase|\n",
      "+----------+-------------------+\n",
      "|         1|               NULL|\n",
      "|         2|               51.9|\n",
      "|         3|              148.9|\n",
      "|         4|               61.5|\n",
      "|         5|               57.1|\n",
      "|         6|               10.2|\n",
      "|         7|                5.7|\n",
      "|         8|                3.9|\n",
      "|         9|                7.9|\n",
      "|        10|                1.7|\n",
      "|        11|                6.4|\n",
      "|        12|                7.4|\n",
      "+----------+-------------------+\n",
      "\n"
     ]
    }
   ],
   "execution_count": 3
  }
 ],
 "metadata": {
  "kernelspec": {
   "display_name": "Python 3",
   "language": "python",
   "name": "python3"
  },
  "language_info": {
   "codemirror_mode": {
    "name": "ipython",
    "version": 2
   },
   "file_extension": ".py",
   "mimetype": "text/x-python",
   "name": "python",
   "nbconvert_exporter": "python",
   "pygments_lexer": "ipython2",
   "version": "2.7.6"
  }
 },
 "nbformat": 4,
 "nbformat_minor": 5
}
