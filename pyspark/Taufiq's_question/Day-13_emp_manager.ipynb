{
 "cells": [
  {
   "cell_type": "code",
   "execution_count": 1,
   "outputs": [
    {
     "name": "stderr",
     "output_type": "stream",
     "text": [
      "24/04/08 20:26:04 WARN NativeCodeLoader: Unable to load native-hadoop library for your platform... using builtin-java classes where applicable\n",
      "Setting default log level to \"WARN\".\n",
      "To adjust logging level use sc.setLogLevel(newLevel). For SparkR, use setLogLevel(newLevel).\n",
      "Loading class `com.mysql.jdbc.Driver'. This is deprecated. The new driver class is `com.mysql.cj.jdbc.Driver'. The driver is automatically registered via the SPI and manual loading of the driver class is generally unnecessary.\n",
      "                                                                                \r"
     ]
    },
    {
     "name": "stdout",
     "output_type": "stream",
     "text": [
      "+---+---------+-------+\n",
      "| id|     name|manager|\n",
      "+---+---------+-------+\n",
      "|  1|   Sundar|   NULL|\n",
      "|  2|     Kent|      1|\n",
      "|  3|     Ruth|      1|\n",
      "|  4|   Alison|      1|\n",
      "|  5|     Clay|      2|\n",
      "|  6|      Ana|      2|\n",
      "|  7|  Philipp|      3|\n",
      "|  8|Prabhakar|      4|\n",
      "|  9|  Hiroshi|      4|\n",
      "| 10|     Jeff|      4|\n",
      "| 11|   Thomas|      1|\n",
      "| 12|     John|     15|\n",
      "| 13|    Susan|     15|\n",
      "| 14| Lorraine|     15|\n",
      "| 15|    Larry|      1|\n",
      "+---+---------+-------+\n",
      "\n"
     ]
    }
   ],
   "source": [
    "from pyspark.sql import SparkSession\n",
    "from pyspark.sql.functions import col,count\n",
    "from pyspark.sql.window import Window\n",
    "\n",
    "spark = SparkSession \\\n",
    "        .builder \\\n",
    "        .config(\"spark.jars\",\n",
    "                \"/Users/sahilnagpal/Downloads/mysql-connector-java-8.0.29.jar\") \\\n",
    "        .master(\"local[*]\") \\\n",
    "        .appName(\"leetcode-problems\") \\\n",
    "        .getOrCreate()\n",
    "\n",
    "employee_managers = spark.read.format(\"jdbc\"). \\\n",
    "    option(\"url\", \"jdbc:mysql://localhost:3306/online\") \\\n",
    "    .option(\"driver\", \"com.mysql.jdbc.Driver\") \\\n",
    "    .option(\"dbtable\", \"employee_managers\") \\\n",
    "    .option(\"user\", \"root\") \\\n",
    "    .option(\"password\", \"password\") \\\n",
    "    .load()\n",
    "\n",
    "employee_managers.show()"
   ],
   "metadata": {
    "collapsed": false,
    "pycharm": {
     "name": "#%%\n"
    }
   }
  },
  {
   "cell_type": "code",
   "execution_count": 5,
   "outputs": [
    {
     "name": "stdout",
     "output_type": "stream",
     "text": [
      "+------+----------------+\n",
      "|  name|num_of_employees|\n",
      "+------+----------------+\n",
      "|Sundar|               5|\n",
      "|  Ruth|               1|\n",
      "| Larry|               3|\n",
      "|Alison|               3|\n",
      "|  Kent|               2|\n",
      "+------+----------------+\n",
      "\n"
     ]
    }
   ],
   "source": [
    "emp_cnt_df = employee_managers\\\n",
    "    .filter(col(\"manager\").isNotNull())\\\n",
    "    .groupby(col(\"manager\").alias(\"man\"))\\\n",
    "    .agg(count(\"id\").alias(\"num_of_employees\"))\n",
    "\n",
    "\n",
    "emp_cnt_df\\\n",
    "    .join(employee_managers,emp_cnt_df.man == employee_managers.id , \"left\")\\\n",
    "    .select(\"name\",\"num_of_employees\")\\\n",
    "    .show()"
   ],
   "metadata": {
    "collapsed": false,
    "pycharm": {
     "name": "#%%\n"
    }
   }
  },
  {
   "cell_type": "code",
   "execution_count": null,
   "outputs": [],
   "source": [],
   "metadata": {
    "collapsed": false,
    "pycharm": {
     "name": "#%%\n"
    }
   }
  }
 ],
 "metadata": {
  "kernelspec": {
   "display_name": "Python 3",
   "language": "python",
   "name": "python3"
  },
  "language_info": {
   "codemirror_mode": {
    "name": "ipython",
    "version": 2
   },
   "file_extension": ".py",
   "mimetype": "text/x-python",
   "name": "python",
   "nbconvert_exporter": "python",
   "pygments_lexer": "ipython2",
   "version": "2.7.6"
  }
 },
 "nbformat": 4,
 "nbformat_minor": 0
}