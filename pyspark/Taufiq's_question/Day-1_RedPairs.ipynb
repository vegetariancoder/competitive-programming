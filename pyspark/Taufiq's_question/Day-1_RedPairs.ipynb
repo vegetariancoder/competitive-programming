{
 "cells": [
  {
   "cell_type": "code",
   "execution_count": 1,
   "outputs": [
    {
     "name": "stderr",
     "output_type": "stream",
     "text": [
      "24/04/09 20:02:31 WARN NativeCodeLoader: Unable to load native-hadoop library for your platform... using builtin-java classes where applicable\n",
      "Setting default log level to \"WARN\".\n",
      "To adjust logging level use sc.setLogLevel(newLevel). For SparkR, use setLogLevel(newLevel).\n",
      "Loading class `com.mysql.jdbc.Driver'. This is deprecated. The new driver class is `com.mysql.cj.jdbc.Driver'. The driver is automatically registered via the SPI and manual loading of the driver class is generally unnecessary.\n",
      "                                                                                \r"
     ]
    },
    {
     "name": "stdout",
     "output_type": "stream",
     "text": [
      "+-------+-------+----+-------+-------+-------+-------+\n",
      "| brand1| brand2|year|custom1|custom2|custom3|custom4|\n",
      "+-------+-------+----+-------+-------+-------+-------+\n",
      "|  apple|samsung|2020|      1|      2|      1|      2|\n",
      "|samsung|  apple|2020|      1|      2|      1|      2|\n",
      "|  apple|samsung|2021|      1|      2|      5|      3|\n",
      "|samsung|  apple|2021|      5|      3|      1|      2|\n",
      "| google|   NULL|2020|      5|      9|   NULL|   NULL|\n",
      "|oneplus|nothing|2020|      5|      9|      6|      3|\n",
      "+-------+-------+----+-------+-------+-------+-------+\n",
      "\n"
     ]
    }
   ],
   "source": [
    "from pyspark.sql import SparkSession\n",
    "from pyspark.sql.functions import col,count\n",
    "from pyspark.sql.window import Window\n",
    "\n",
    "spark = SparkSession \\\n",
    "        .builder \\\n",
    "        .config(\"spark.jars\",\n",
    "                \"/Users/sahilnagpal/Downloads/mysql-connector-java-8.0.29.jar\") \\\n",
    "        .master(\"local[*]\") \\\n",
    "        .appName(\"leetcode-problems\") \\\n",
    "        .getOrCreate()\n",
    "\n",
    "brands = spark.read.format(\"jdbc\"). \\\n",
    "    option(\"url\", \"jdbc:mysql://localhost:3306/online\") \\\n",
    "    .option(\"driver\", \"com.mysql.jdbc.Driver\") \\\n",
    "    .option(\"dbtable\", \"brands\") \\\n",
    "    .option(\"user\", \"root\") \\\n",
    "    .option(\"password\", \"password\") \\\n",
    "    .load()\n",
    "\n",
    "brands.show()"
   ],
   "metadata": {
    "collapsed": false,
    "pycharm": {
     "name": "#%%\n"
    }
   }
  },
  {
   "cell_type": "code",
   "execution_count": 6,
   "outputs": [
    {
     "name": "stdout",
     "output_type": "stream",
     "text": [
      "+-------+-------+----+-------+-------+-------+-------+\n",
      "| brand1| brand2|year|custom1|custom2|custom3|custom4|\n",
      "+-------+-------+----+-------+-------+-------+-------+\n",
      "| google|   NULL|2020|      5|      9|   NULL|   NULL|\n",
      "|oneplus|nothing|2020|      5|      9|      6|      3|\n",
      "|  apple|samsung|2020|      1|      2|      1|      2|\n",
      "|  apple|samsung|2021|      1|      2|      5|      3|\n",
      "|samsung|  apple|2021|      5|      3|      1|      2|\n",
      "+-------+-------+----+-------+-------+-------+-------+\n",
      "\n"
     ]
    }
   ],
   "source": [
    "from pyspark.sql.functions import row_number,when,concat\n",
    "from pyspark.sql.window import Window\n",
    "brands \\\n",
    "    .withColumn(\"rno\", row_number().over(Window.partitionBy(when(col(\"brand1\") > col(\"brand2\"), concat(col(\"brand1\"), col(\"brand2\"), col(\"year\"))).otherwise(concat(col(\"brand2\"), col(\"brand1\"), col(\"year\")))).orderBy(col(\"year\")))) \\\n",
    "    .filter((col(\"rno\") == 1) | ((col(\"custom1\") != col(\"custom3\")) | (col(\"custom2\") != col(\"custom4\")))) \\\n",
    "    .drop(\"rno\")\\\n",
    "    .show()"
   ],
   "metadata": {
    "collapsed": false,
    "pycharm": {
     "name": "#%%\n"
    }
   }
  },
  {
   "cell_type": "code",
   "execution_count": null,
   "outputs": [],
   "source": [],
   "metadata": {
    "collapsed": false,
    "pycharm": {
     "name": "#%%\n"
    }
   }
  }
 ],
 "metadata": {
  "kernelspec": {
   "display_name": "Python 3",
   "language": "python",
   "name": "python3"
  },
  "language_info": {
   "codemirror_mode": {
    "name": "ipython",
    "version": 2
   },
   "file_extension": ".py",
   "mimetype": "text/x-python",
   "name": "python",
   "nbconvert_exporter": "python",
   "pygments_lexer": "ipython2",
   "version": "2.7.6"
  }
 },
 "nbformat": 4,
 "nbformat_minor": 0
}