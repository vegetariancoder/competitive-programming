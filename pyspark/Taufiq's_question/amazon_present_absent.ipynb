{
 "cells": [
  {
   "cell_type": "code",
   "id": "initial_id",
   "metadata": {
    "collapsed": true,
    "ExecuteTime": {
     "end_time": "2024-09-26T16:21:58.997189Z",
     "start_time": "2024-09-26T16:21:58.758683Z"
    }
   },
   "source": [
    "from pyspark.sql import SparkSession\n",
    "from pyspark.sql.functions import col,count,row_number,max,min\n",
    "from pyspark.sql.window import Window\n",
    "\n",
    "spark = SparkSession \\\n",
    "        .builder \\\n",
    "        .config(\"spark.jars\",\n",
    "                \"/Users/sahilnagpal/Downloads/mysql-connector-java-8.0.29.jar\") \\\n",
    "        .master(\"local[*]\") \\\n",
    "        .appName(\"leetcode-problems\") \\\n",
    "        .getOrCreate()\n",
    "\n",
    "emp_attendance = spark.read.format(\"jdbc\"). \\\n",
    "    option(\"url\", \"jdbc:mysql://localhost:3306/leetcode\") \\\n",
    "    .option(\"driver\", \"com.mysql.jdbc.Driver\") \\\n",
    "    .option(\"dbtable\", \"emp_attendance\") \\\n",
    "    .option(\"user\", \"root\") \\\n",
    "    .option(\"password\", \"password\") \\\n",
    "    .load()\n",
    "\n",
    "emp_attendance.show()"
   ],
   "outputs": [
    {
     "name": "stdout",
     "output_type": "stream",
     "text": [
      "+--------+----------+-------+\n",
      "|employee|     dates| status|\n",
      "+--------+----------+-------+\n",
      "|      A1|2024-01-01|PRESENT|\n",
      "|      A1|2024-01-02|PRESENT|\n",
      "|      A1|2024-01-03|PRESENT|\n",
      "|      A1|2024-01-04| ABSENT|\n",
      "|      A1|2024-01-05|PRESENT|\n",
      "|      A1|2024-01-06|PRESENT|\n",
      "|      A1|2024-01-07| ABSENT|\n",
      "|      A1|2024-01-08| ABSENT|\n",
      "|      A1|2024-01-09| ABSENT|\n",
      "|      A1|2024-01-10|PRESENT|\n",
      "|      A2|2024-01-06|PRESENT|\n",
      "|      A2|2024-01-07|PRESENT|\n",
      "|      A2|2024-01-08| ABSENT|\n",
      "|      A2|2024-01-09|PRESENT|\n",
      "|      A2|2024-01-10| ABSENT|\n",
      "+--------+----------+-------+\n",
      "\n"
     ]
    }
   ],
   "execution_count": 3
  },
  {
   "metadata": {
    "ExecuteTime": {
     "end_time": "2024-09-26T16:36:06.998988Z",
     "start_time": "2024-09-26T16:36:06.136963Z"
    }
   },
   "cell_type": "code",
   "source": [
    "emp_attendance\\\n",
    "    .withColumn(\"rn1\",row_number().over(Window.partitionBy(\"employee\",\"status\").orderBy(\"employee\",\"dates\")))\\\n",
    "    .withColumn(\"rn2\",row_number().over(Window.partitionBy(\"employee\").orderBy(\"employee\",\"dates\")))\\\n",
    "    .groupby(col(\"employee\"),col(\"status\"),(col(\"rn2\")-col(\"rn1\")))\\\n",
    "    .agg(min(\"dates\").alias(\"from_dt\"),max(\"dates\").alias(\"to_dt\"))\\\n",
    "    .select(\"employee\",\"status\",\"from_dt\",\"to_dt\")\\\n",
    "    .show()"
   ],
   "id": "c4de1418af8fa924",
   "outputs": [
    {
     "name": "stdout",
     "output_type": "stream",
     "text": [
      "+--------+-------+----------+----------+\n",
      "|employee| status|   from_dt|     to_dt|\n",
      "+--------+-------+----------+----------+\n",
      "|      A1| ABSENT|2024-01-04|2024-01-04|\n",
      "|      A1| ABSENT|2024-01-07|2024-01-09|\n",
      "|      A1|PRESENT|2024-01-01|2024-01-03|\n",
      "|      A1|PRESENT|2024-01-05|2024-01-06|\n",
      "|      A1|PRESENT|2024-01-10|2024-01-10|\n",
      "|      A2| ABSENT|2024-01-08|2024-01-08|\n",
      "|      A2| ABSENT|2024-01-10|2024-01-10|\n",
      "|      A2|PRESENT|2024-01-06|2024-01-07|\n",
      "|      A2|PRESENT|2024-01-09|2024-01-09|\n",
      "+--------+-------+----------+----------+\n",
      "\n"
     ]
    }
   ],
   "execution_count": 7
  },
  {
   "metadata": {},
   "cell_type": "code",
   "outputs": [],
   "execution_count": null,
   "source": "",
   "id": "e52da17c3f312d88"
  }
 ],
 "metadata": {
  "kernelspec": {
   "display_name": "Python 3",
   "language": "python",
   "name": "python3"
  },
  "language_info": {
   "codemirror_mode": {
    "name": "ipython",
    "version": 2
   },
   "file_extension": ".py",
   "mimetype": "text/x-python",
   "name": "python",
   "nbconvert_exporter": "python",
   "pygments_lexer": "ipython2",
   "version": "2.7.6"
  }
 },
 "nbformat": 4,
 "nbformat_minor": 5
}
