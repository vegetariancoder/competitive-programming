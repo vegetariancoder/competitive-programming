{
 "cells": [
  {
   "cell_type": "code",
   "id": "initial_id",
   "metadata": {
    "collapsed": true
   },
   "source": [
    "from pyspark.sql import SparkSession\n",
    "from pyspark.sql.functions import col, count,sum, concat_ws, month,year,unix_timestamp,when\n",
    "from pyspark.sql.window import Window\n",
    "\n",
    "spark = SparkSession \\\n",
    "        .builder \\\n",
    "        .config(\"spark.jars\",\n",
    "                \"/Users/sahilnagpal/Downloads/mysql-connector-java-8.0.29.jar\") \\\n",
    "        .master(\"local[*]\") \\\n",
    "        .appName(\"leetcode-problems\") \\\n",
    "        .getOrCreate()\n",
    "\n",
    "pizza_delivery = spark.read.format(\"jdbc\"). \\\n",
    "    option(\"url\", \"jdbc:mysql://localhost:3306/leetcode\") \\\n",
    "    .option(\"driver\", \"com.mysql.jdbc.Driver\") \\\n",
    "    .option(\"dbtable\", \"pizza_delivery\") \\\n",
    "    .option(\"user\", \"root\") \\\n",
    "    .option(\"password\", \"password\") \\\n",
    "    .load()"
   ],
   "outputs": [],
   "execution_count": null
  },
  {
   "metadata": {
    "ExecuteTime": {
     "end_time": "2024-09-26T19:42:29.380588Z",
     "start_time": "2024-09-26T19:42:28.993765Z"
    }
   },
   "cell_type": "code",
   "source": [
    "pizza_delivery\\\n",
    "    .withColumn(\"period\",concat_ws('-',month(\"order_time\"),year(\"order_time\")))\\\n",
    "    .withColumn(\"order_timestamp\", unix_timestamp(\"order_time\")) \\\n",
    "    .withColumn(\"delivery_timestamp\",unix_timestamp(\"actual_delivery\"))\\\n",
    "    .withColumn(\"time_diff_minutes\", \n",
    "                   (col(\"delivery_timestamp\") - col(\"order_timestamp\")) / 60)\\\n",
    "    .groupby(\"period\")\\\n",
    "    .agg(((sum(when(col(\"time_diff_minutes\")>30,col(\"no_of_pizzas\")))/sum(\"no_of_pizzas\"))*100).alias(\"percentage\"),\n",
    "         (sum(when(col(\"time_diff_minutes\")>30,col(\"no_of_pizzas\")))).alias(\"total_pizzas\"))\\\n",
    "    .show()"
   ],
   "id": "3772b5c99a4ae563",
   "outputs": [
    {
     "name": "stdout",
     "output_type": "stream",
     "text": [
      "+-------+------------------+------------+\n",
      "| period|        percentage|total_pizzas|\n",
      "+-------+------------------+------------+\n",
      "| 1-2023| 8.010335917312661|          31|\n",
      "|12-2023|15.890410958904111|          58|\n",
      "| 9-2023|18.816067653276956|          89|\n",
      "|10-2023|13.274336283185843|          60|\n",
      "| 7-2023|11.466666666666667|          43|\n",
      "| 8-2023|12.450592885375494|          63|\n",
      "| 6-2023| 11.11111111111111|          48|\n",
      "| 4-2023|17.225950782997764|          77|\n",
      "| 3-2023|14.805825242718445|          61|\n",
      "|11-2023|19.553072625698324|         105|\n",
      "| 2-2023| 10.22964509394572|          49|\n",
      "| 5-2023|14.412416851441243|          65|\n",
      "+-------+------------------+------------+\n",
      "\n"
     ]
    }
   ],
   "execution_count": 17
  },
  {
   "metadata": {},
   "cell_type": "code",
   "source": "",
   "id": "ca47b4ec8e5bf525",
   "outputs": [],
   "execution_count": null
  }
 ],
 "metadata": {
  "kernelspec": {
   "display_name": "Python 3",
   "language": "python",
   "name": "python3"
  },
  "language_info": {
   "codemirror_mode": {
    "name": "ipython",
    "version": 2
   },
   "file_extension": ".py",
   "mimetype": "text/x-python",
   "name": "python",
   "nbconvert_exporter": "python",
   "pygments_lexer": "ipython2",
   "version": "2.7.6"
  }
 },
 "nbformat": 4,
 "nbformat_minor": 5
}
