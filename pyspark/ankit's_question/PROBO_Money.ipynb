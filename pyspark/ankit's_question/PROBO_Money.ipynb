{
 "cells": [
  {
   "cell_type": "code",
   "execution_count": null,
   "id": "initial_id",
   "metadata": {
    "collapsed": true
   },
   "outputs": [],
   "source": [
    "from pyspark.sql.session import SparkSession\n",
    "\n",
    "spark = SparkSession \\\n",
    "    .builder \\\n",
    "    .config(\"spark.jars\",\n",
    "            \"/Users/sahilnagpal/Downloads/mysql-connector-java-8.0.29.jar\") \\\n",
    "    .master(\"local[*]\") \\\n",
    "    .appName(\"leetcode-problems\") \\\n",
    "    .getOrCreate()"
   ]
  },
  {
   "metadata": {},
   "cell_type": "code",
   "outputs": [],
   "execution_count": null,
   "source": [
    "spark.sql('''\n",
    "with main_cte as (\n",
    "select\n",
    "    polls.user_id,\n",
    "    polls.poll_id,\n",
    "    polls.poll_option_id,\n",
    "    poll_answers.correct_option_id,\n",
    "    polls.amount,\n",
    "    case\n",
    "        when poll_option_id = correct_option_id then 'Yes'\n",
    "    else 'No' end as correct_or_not\n",
    "from\n",
    "    polls\n",
    "left join\n",
    "    poll_answers\n",
    "on\n",
    "    polls.poll_id = poll_answers.poll_id),\n",
    "total_incorrect_sum as (\n",
    "select\n",
    "    poll_id,\n",
    "    sum(amount) as total_sum\n",
    "from\n",
    "    main_cte\n",
    "where\n",
    "    correct_or_not = 'No'\n",
    "group by poll_id),\n",
    "total_correct_sum as (\n",
    "select\n",
    "    poll_id,\n",
    "    sum(amount) as total_correct_sum\n",
    "from\n",
    "    main_cte\n",
    "where\n",
    "    correct_or_not = 'Yes'\n",
    "group by poll_id)\n",
    "select\n",
    "    main_cte.user_id,\n",
    "    main_cte.poll_id,\n",
    "    round(total_incorrect_sum.total_sum*(amount/total_correct_sum),0) as testing2\n",
    "from\n",
    "    main_cte\n",
    "inner join\n",
    "    total_incorrect_sum\n",
    "on\n",
    "    main_cte.poll_id = total_incorrect_sum.poll_id\n",
    "inner join\n",
    "    total_correct_sum\n",
    "on\n",
    "    main_cte.poll_id = total_correct_sum.poll_id\n",
    "where\n",
    "    correct_or_not = 'Yes';\n",
    "''')"
   ],
   "id": "a8af309a7c0648e8"
  },
  {
   "metadata": {},
   "cell_type": "code",
   "outputs": [],
   "execution_count": null,
   "source": "",
   "id": "5befab5b6a36e553"
  }
 ],
 "metadata": {
  "kernelspec": {
   "display_name": "Python 3",
   "language": "python",
   "name": "python3"
  },
  "language_info": {
   "codemirror_mode": {
    "name": "ipython",
    "version": 2
   },
   "file_extension": ".py",
   "mimetype": "text/x-python",
   "name": "python",
   "nbconvert_exporter": "python",
   "pygments_lexer": "ipython2",
   "version": "2.7.6"
  }
 },
 "nbformat": 4,
 "nbformat_minor": 5
}
