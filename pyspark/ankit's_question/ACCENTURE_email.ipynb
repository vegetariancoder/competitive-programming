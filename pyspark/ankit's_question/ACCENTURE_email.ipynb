{
 "cells": [
  {
   "cell_type": "code",
   "id": "initial_id",
   "metadata": {
    "collapsed": true,
    "ExecuteTime": {
     "end_time": "2024-06-07T00:40:21.428768Z",
     "start_time": "2024-06-07T00:40:15.843874Z"
    }
   },
   "source": [
    "from pyspark.sql.session import SparkSession\n",
    "from pyspark.sql.functions import col\n",
    "\n",
    "\n",
    "spark = SparkSession \\\n",
    "        .builder \\\n",
    "        .config(\"spark.jars\",\n",
    "                \"/Users/sahilnagpal/Downloads/mysql-connector-java-8.0.29.jar\") \\\n",
    "        .master(\"local[*]\") \\\n",
    "        .appName(\"leetcode-problems\") \\\n",
    "        .getOrCreate()\n"
   ],
   "outputs": [
    {
     "name": "stderr",
     "output_type": "stream",
     "text": [
      "24/06/06 20:40:18 WARN NativeCodeLoader: Unable to load native-hadoop library for your platform... using builtin-java classes where applicable\n",
      "Setting default log level to \"WARN\".\n",
      "To adjust logging level use sc.setLogLevel(newLevel). For SparkR, use setLogLevel(newLevel).\n"
     ]
    }
   ],
   "execution_count": 1
  },
  {
   "metadata": {
    "ExecuteTime": {
     "end_time": "2024-06-07T00:40:25.245299Z",
     "start_time": "2024-06-07T00:40:21.431252Z"
    }
   },
   "cell_type": "code",
   "source": [
    "employees = spark.read.format(\"jdbc\"). \\\n",
    "    option(\"url\", \"jdbc:mysql://localhost:3306/credit_card\") \\\n",
    "    .option(\"driver\", \"com.mysql.cj.jdbc.Driver\") \\\n",
    "    .option(\"dbtable\", \"employees\") \\\n",
    "    .option(\"user\", \"root\") \\\n",
    "    .option(\"password\", \"password\") \\\n",
    "    .load()"
   ],
   "id": "b474e65e16ad7712",
   "outputs": [],
   "execution_count": 2
  },
  {
   "metadata": {
    "ExecuteTime": {
     "end_time": "2024-06-07T00:45:20.383690Z",
     "start_time": "2024-06-07T00:45:19.948687Z"
    }
   },
   "cell_type": "code",
   "source": [
    "from pyspark.sql.functions import count,lower,when\n",
    "from pyspark.sql.window import Window\n",
    "\n",
    "employees\\\n",
    "    .withColumn(\"lower_email\",lower(\"email_id\"))\\\n",
    "    .withColumn(\"same\",when(col(\"email_id\") == col(\"lower_email\"),'Yes').otherwise(\"No\"))\\\n",
    "    .withColumn(\"cnt\",count(\"lower_email\").over(Window.partitionBy(col(\"lower_email\"))))\\\n",
    "    .filter((col(\"same\") == \"Yes\") & (col(\"cnt\")>1))\\\n",
    "    .drop(\"same\",\"cnt\",\"lower_email\")\\\n",
    "    .show()"
   ],
   "id": "601df69a1352d6cf",
   "outputs": [
    {
     "name": "stdout",
     "output_type": "stream",
     "text": [
      "+-----------+-------------+-------------+\n",
      "|employee_id|employee_name|     email_id|\n",
      "+-----------+-------------+-------------+\n",
      "|        102|     Josh Day|jo.da@abc.com|\n",
      "|        105|   Toby Scott|jo.da@abc.com|\n",
      "+-----------+-------------+-------------+\n",
      "\n"
     ]
    }
   ],
   "execution_count": 11
  },
  {
   "metadata": {},
   "cell_type": "code",
   "outputs": [],
   "execution_count": null,
   "source": "",
   "id": "2c25d0124c529eab"
  }
 ],
 "metadata": {
  "kernelspec": {
   "display_name": "Python 3",
   "language": "python",
   "name": "python3"
  },
  "language_info": {
   "codemirror_mode": {
    "name": "ipython",
    "version": 2
   },
   "file_extension": ".py",
   "mimetype": "text/x-python",
   "name": "python",
   "nbconvert_exporter": "python",
   "pygments_lexer": "ipython2",
   "version": "2.7.6"
  }
 },
 "nbformat": 4,
 "nbformat_minor": 5
}
