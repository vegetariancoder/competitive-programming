{
 "cells": [
  {
   "cell_type": "code",
   "execution_count": 1,
   "metadata": {
    "collapsed": true
   },
   "outputs": [
    {
     "name": "stderr",
     "output_type": "stream",
     "text": [
      "WARNING: An illegal reflective access operation has occurred\n",
      "WARNING: Illegal reflective access by org.apache.spark.unsafe.Platform (file:/Users/sahiltest/PycharmProjects/testProject/venv/lib/python3.10/site-packages/pyspark/jars/spark-unsafe_2.12-3.2.0.jar) to constructor java.nio.DirectByteBuffer(long,int)\n",
      "WARNING: Please consider reporting this to the maintainers of org.apache.spark.unsafe.Platform\n",
      "WARNING: Use --illegal-access=warn to enable warnings of further illegal reflective access operations\n",
      "WARNING: All illegal access operations will be denied in a future release\n",
      "25/06/09 18:07:23 WARN NativeCodeLoader: Unable to load native-hadoop library for your platform... using builtin-java classes where applicable\n",
      "Using Spark's default log4j profile: org/apache/spark/log4j-defaults.properties\n",
      "Setting default log level to \"WARN\".\n",
      "To adjust logging level use sc.setLogLevel(newLevel). For SparkR, use setLogLevel(newLevel).\n",
      "25/06/09 18:07:25 WARN Utils: Service 'SparkUI' could not bind on port 4040. Attempting port 4041.\n",
      "25/06/09 18:07:25 WARN Utils: Service 'SparkUI' could not bind on port 4041. Attempting port 4042.\n",
      "                                                                                \r"
     ]
    },
    {
     "name": "stdout",
     "output_type": "stream",
     "text": [
      "+-----------+--------+------+--------------------+------+-----+-----+-----+----------------+-----+-----+--------+\n",
      "|passengerid|survived|pclass|                name|   sex|  age|sibsp|parch|          ticket| fare|cabin|embarked|\n",
      "+-----------+--------+------+--------------------+------+-----+-----+-----+----------------+-----+-----+--------+\n",
      "|          1|       0|     3|Braund, Mr. Owen ...|  male|22.00|    1|    0|       A/5 21171| 7.25| null|       S|\n",
      "|          2|       1|     1|Cumings, Mrs. Joh...|female|38.00|    1|    0|        PC 17599|71.28|  C85|       C|\n",
      "|          3|       1|     3|Heikkinen, Miss. ...|female|26.00|    0|    0|STON/O2. 3101282| 7.92| null|       S|\n",
      "|          4|       1|     1|Futrelle, Mrs. Ja...|female|35.00|    1|    0|          113803|53.10| C123|       S|\n",
      "|          5|       0|     3|Allen, Mr. Willia...|  male|35.00|    0|    0|          373450| 8.05| null|       S|\n",
      "|          6|       0|     3|    Moran, Mr. James|  male| null|    0|    0|          330877| 8.46| null|       Q|\n",
      "|          7|       0|     1|McCarthy, Mr. Tim...|  male|54.00|    0|    0|           17463|51.86|  E46|       S|\n",
      "|          8|       0|     3|Palsson, Master. ...|  male| 2.00|    3|    1|          349909|21.07| null|       S|\n",
      "|          9|       1|     3|Johnson, Mrs. Osc...|female|27.00|    0|    2|          347742|11.13| null|       S|\n",
      "|         10|       1|     2|Nasser, Mrs. Nich...|female|14.00|    1|    0|          237736|30.07| null|       C|\n",
      "+-----------+--------+------+--------------------+------+-----+-----+-----+----------------+-----+-----+--------+\n",
      "\n"
     ]
    }
   ],
   "source": [
    "from pyspark.sql import SparkSession\n",
    "from pyspark.sql.functions import col, count, sum,when,round\n",
    "\n",
    "spark = SparkSession \\\n",
    "    .builder \\\n",
    "    .appName(\"leetcode-problems\") \\\n",
    "    .master(\"local[*]\") \\\n",
    "    .config(\"spark.jars\", \"/Users/sahiltest/Downloads/mysql-connector-java-8.0.29.jar\") \\\n",
    "    .getOrCreate()\n",
    "\n",
    "titanic = spark.read.format(\"jdbc\") \\\n",
    "    .option(\"url\", \"jdbc:mysql://localhost:3306/leetcode\") \\\n",
    "    .option(\"driver\", \"com.mysql.cj.jdbc.Driver\") \\\n",
    "    .option(\"dbtable\", \"titanic\") \\\n",
    "    .option(\"user\", \"root\") \\\n",
    "    .option(\"password\", \"password\") \\\n",
    "    .load()\n",
    "\n",
    "titanic.show()"
   ]
  },
  {
   "cell_type": "code",
   "execution_count": 12,
   "outputs": [
    {
     "name": "stdout",
     "output_type": "stream",
     "text": [
      "+--------+-----------+------------+-----------+\n",
      "|survived|first_class|second_class|third_class|\n",
      "+--------+-----------+------------+-----------+\n",
      "|       1|          2|           1|          2|\n",
      "|       0|          1|        null|          4|\n",
      "+--------+-----------+------------+-----------+\n",
      "\n"
     ]
    }
   ],
   "source": [
    "first = titanic\\\n",
    "    .filter(col(\"pclass\")==1)\\\n",
    "    .groupBy(col(\"survived\"))\\\n",
    "    .agg(count(\"passengerid\").alias(\"first_class\"))\n",
    "\n",
    "second = titanic\\\n",
    "    .filter(col(\"pclass\")==2)\\\n",
    "    .groupBy(col(\"survived\"))\\\n",
    "    .agg(count(\"passengerid\").alias(\"second_class\"))\n",
    "\n",
    "third = titanic\\\n",
    "    .filter(col(\"pclass\")==3)\\\n",
    "    .groupBy(col(\"survived\"))\\\n",
    "    .agg(count(\"passengerid\").alias(\"third_class\"))\n",
    "\n",
    "df=first\\\n",
    "    .join(second,first.survived == second.survived,\"left\")\\\n",
    "    .select(first.survived,first.first_class,second.second_class)\n",
    "\n",
    "df\\\n",
    "    .join(third,df.survived == third.survived,\"left\")\\\n",
    "    .select(df.survived,df.first_class,df.second_class,third.third_class)\\\n",
    "    .show()"
   ],
   "metadata": {
    "collapsed": false,
    "pycharm": {
     "name": "#%%\n"
    }
   }
  },
  {
   "cell_type": "code",
   "execution_count": null,
   "outputs": [],
   "source": [],
   "metadata": {
    "collapsed": false,
    "pycharm": {
     "name": "#%%\n"
    }
   }
  }
 ],
 "metadata": {
  "kernelspec": {
   "display_name": "Python 3",
   "language": "python",
   "name": "python3"
  },
  "language_info": {
   "codemirror_mode": {
    "name": "ipython",
    "version": 2
   },
   "file_extension": ".py",
   "mimetype": "text/x-python",
   "name": "python",
   "nbconvert_exporter": "python",
   "pygments_lexer": "ipython2",
   "version": "2.7.6"
  }
 },
 "nbformat": 4,
 "nbformat_minor": 0
}