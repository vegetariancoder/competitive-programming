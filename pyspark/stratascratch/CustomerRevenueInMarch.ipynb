{
 "cells": [
  {
   "cell_type": "code",
   "execution_count": 1,
   "metadata": {
    "collapsed": true
   },
   "outputs": [
    {
     "name": "stderr",
     "output_type": "stream",
     "text": [
      "WARNING: An illegal reflective access operation has occurred\n",
      "WARNING: Illegal reflective access by org.apache.spark.unsafe.Platform (file:/Users/sahiltest/PycharmProjects/testProject/venv/lib/python3.10/site-packages/pyspark/jars/spark-unsafe_2.12-3.2.0.jar) to constructor java.nio.DirectByteBuffer(long,int)\n",
      "WARNING: Please consider reporting this to the maintainers of org.apache.spark.unsafe.Platform\n",
      "WARNING: Use --illegal-access=warn to enable warnings of further illegal reflective access operations\n",
      "WARNING: All illegal access operations will be denied in a future release\n",
      "25/06/09 17:52:24 WARN NativeCodeLoader: Unable to load native-hadoop library for your platform... using builtin-java classes where applicable\n",
      "Using Spark's default log4j profile: org/apache/spark/log4j-defaults.properties\n",
      "Setting default log level to \"WARN\".\n",
      "To adjust logging level use sc.setLogLevel(newLevel). For SparkR, use setLogLevel(newLevel).\n",
      "25/06/09 17:52:25 WARN Utils: Service 'SparkUI' could not bind on port 4040. Attempting port 4041.\n",
      "[Stage 0:>                                                          (0 + 1) / 1]\r"
     ]
    },
    {
     "name": "stdout",
     "output_type": "stream",
     "text": [
      "+---+-------+----------+-------------+----------------+\n",
      "| id|cust_id|order_date|order_details|total_order_cost|\n",
      "+---+-------+----------+-------------+----------------+\n",
      "|  1|      3|2019-03-04|         Coat|             100|\n",
      "|  2|      3|2019-03-01|        Shoes|              80|\n",
      "|  3|      3|2019-03-07|        Skirt|              30|\n",
      "|  4|      7|2019-02-01|         Coat|              25|\n",
      "|  5|      7|2019-03-10|        Shoes|              80|\n",
      "|  6|     15|2019-02-01|        Boats|             100|\n",
      "|  7|     15|2019-01-11|       Shirts|              60|\n",
      "|  8|     15|2019-03-11|      Slipper|              20|\n",
      "|  9|     15|2019-03-01|        Jeans|              80|\n",
      "| 10|     15|2019-03-09|       Shirts|              50|\n",
      "| 11|      5|2019-02-01|        Shoes|              80|\n",
      "| 12|     12|2019-01-11|       Shirts|              60|\n",
      "| 13|     12|2019-03-11|      Slipper|              20|\n",
      "| 14|      4|2019-02-01|        Shoes|              80|\n",
      "| 15|      4|2019-01-11|       Shirts|              60|\n",
      "| 16|      3|2019-04-19|       Shirts|              50|\n",
      "| 17|      7|2019-04-19|         Suit|             150|\n",
      "| 18|     15|2019-04-19|        Skirt|              30|\n",
      "| 19|     15|2019-04-20|      Dresses|             200|\n",
      "| 20|     12|2019-01-11|         Coat|             125|\n",
      "+---+-------+----------+-------------+----------------+\n",
      "only showing top 20 rows\n",
      "\n"
     ]
    },
    {
     "name": "stderr",
     "output_type": "stream",
     "text": [
      "                                                                                \r"
     ]
    }
   ],
   "source": [
    "from pyspark.sql import SparkSession\n",
    "from pyspark.sql.functions import col, count, sum,when,round\n",
    "\n",
    "spark = SparkSession \\\n",
    "    .builder \\\n",
    "    .appName(\"leetcode-problems\") \\\n",
    "    .master(\"local[*]\") \\\n",
    "    .config(\"spark.jars\", \"/Users/sahiltest/Downloads/mysql-connector-java-8.0.29.jar\") \\\n",
    "    .getOrCreate()\n",
    "\n",
    "orders = spark.read.format(\"jdbc\") \\\n",
    "    .option(\"url\", \"jdbc:mysql://localhost:3306/leetcode\") \\\n",
    "    .option(\"driver\", \"com.mysql.cj.jdbc.Driver\") \\\n",
    "    .option(\"dbtable\", \"orders\") \\\n",
    "    .option(\"user\", \"root\") \\\n",
    "    .option(\"password\", \"password\") \\\n",
    "    .load()\n",
    "\n",
    "orders.show()"
   ]
  },
  {
   "cell_type": "code",
   "execution_count": 5,
   "outputs": [
    {
     "name": "stdout",
     "output_type": "stream",
     "text": [
      "+-------+-------------+\n",
      "|cust_id|total_revenue|\n",
      "+-------+-------------+\n",
      "|     12|           20|\n",
      "|      3|          210|\n",
      "|     15|          150|\n",
      "|      7|           80|\n",
      "+-------+-------------+\n",
      "\n"
     ]
    }
   ],
   "source": [
    "from pyspark.sql.functions import month\n",
    "\n",
    "orders\\\n",
    "    .filter(month(col(\"order_date\"))==3)\\\n",
    "    .groupBy(col(\"cust_id\"))\\\n",
    "    .agg(sum(\"total_order_cost\").alias(\"total_revenue\"))\\\n",
    "    .show()"
   ],
   "metadata": {
    "collapsed": false,
    "pycharm": {
     "name": "#%%\n"
    }
   }
  },
  {
   "cell_type": "code",
   "execution_count": null,
   "outputs": [],
   "source": [],
   "metadata": {
    "collapsed": false,
    "pycharm": {
     "name": "#%%\n"
    }
   }
  }
 ],
 "metadata": {
  "kernelspec": {
   "display_name": "Python 3",
   "language": "python",
   "name": "python3"
  },
  "language_info": {
   "codemirror_mode": {
    "name": "ipython",
    "version": 2
   },
   "file_extension": ".py",
   "mimetype": "text/x-python",
   "name": "python",
   "nbconvert_exporter": "python",
   "pygments_lexer": "ipython2",
   "version": "2.7.6"
  }
 },
 "nbformat": 4,
 "nbformat_minor": 0
}