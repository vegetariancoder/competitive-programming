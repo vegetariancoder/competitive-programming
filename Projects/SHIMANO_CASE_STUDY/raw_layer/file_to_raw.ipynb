{
 "cells": [
  {
   "metadata": {},
   "cell_type": "markdown",
   "source": "### Raw Layer Modeling",
   "id": "70ac36dead01b633"
  },
  {
   "metadata": {},
   "cell_type": "markdown",
   "source": "#### import libraries",
   "id": "215591eab301bc62"
  },
  {
   "metadata": {
    "ExecuteTime": {
     "end_time": "2024-07-08T22:36:36.116855Z",
     "start_time": "2024-07-08T22:36:36.112312Z"
    }
   },
   "cell_type": "code",
   "source": [
    "from config import spark_session,read_csv_file\n",
    "import logging\n",
    "from pyspark.sql.functions import col, when, count, isnan\n",
    "import matplotlib.pyplot as plt\n",
    "import pandas as pd"
   ],
   "id": "261856cc489b3e",
   "outputs": [],
   "execution_count": 9
  },
  {
   "metadata": {},
   "cell_type": "markdown",
   "source": "#### setup logger",
   "id": "f7d4be7567fbb3d4"
  },
  {
   "metadata": {
    "ExecuteTime": {
     "end_time": "2024-07-08T22:36:36.137295Z",
     "start_time": "2024-07-08T22:36:36.133738Z"
    }
   },
   "cell_type": "code",
   "source": [
    "logging.basicConfig(\n",
    "    filename='pyspark_app.log',\n",
    "    filemode='a',\n",
    "    format='%(asctime)s - %(name)s - %(levelname)s - %(message)s',\n",
    "    level=logging.INFO\n",
    ")"
   ],
   "id": "48dfadc58f01b2a6",
   "outputs": [],
   "execution_count": 10
  },
  {
   "metadata": {
    "ExecuteTime": {
     "end_time": "2024-07-08T22:36:36.162670Z",
     "start_time": "2024-07-08T22:36:36.158866Z"
    }
   },
   "cell_type": "code",
   "source": "logger = logging.getLogger('PySparkLogger')",
   "id": "6e32fd6b56d360a3",
   "outputs": [],
   "execution_count": 11
  },
  {
   "metadata": {},
   "cell_type": "markdown",
   "source": "#### create spark session",
   "id": "c5e42a51cd96806c"
  },
  {
   "metadata": {
    "ExecuteTime": {
     "end_time": "2024-07-08T22:36:37.672796Z",
     "start_time": "2024-07-08T22:36:36.174968Z"
    }
   },
   "cell_type": "code",
   "source": [
    "try:\n",
    "    spark = spark_session()\n",
    "    logger.info(\"Spark session created successfully\")\n",
    "except Exception as e:\n",
    "    logger.error(f\"Spark session creation failed: {e}\")"
   ],
   "id": "bb1c3841a2b74317",
   "outputs": [],
   "execution_count": 12
  },
  {
   "metadata": {},
   "cell_type": "markdown",
   "source": "#### read raw data",
   "id": "f2bfdf507798703a"
  },
  {
   "metadata": {
    "ExecuteTime": {
     "end_time": "2024-07-08T22:36:37.682309Z",
     "start_time": "2024-07-08T22:36:37.675323Z"
    }
   },
   "cell_type": "code",
   "source": [
    "def read_input_datasets():\n",
    "    try:\n",
    "        logger.info(\"Reading input datasets\")\n",
    "        brands_df = read_csv_file(path=\"/Users/sahilnagpal/Desktop/coding/competitive-programming/Projects/SHIMANO_CASE_STUDY/dataset/brands.csv\")\n",
    "        categories_df = read_csv_file(path=\"/Users/sahilnagpal/Desktop/coding/competitive-programming/Projects/SHIMANO_CASE_STUDY/dataset/categories.csv\")\n",
    "        customer_df = read_csv_file(path=\"/Users/sahilnagpal/Desktop/coding/competitive-programming/Projects/SHIMANO_CASE_STUDY/dataset/customers.csv\")\n",
    "        order_items_df = read_csv_file(path=\"/Users/sahilnagpal/Desktop/coding/competitive-programming/Projects/SHIMANO_CASE_STUDY/dataset/order_items.csv\")\n",
    "        orders_df = read_csv_file(path=\"/Users/sahilnagpal/Desktop/coding/competitive-programming/Projects/SHIMANO_CASE_STUDY/dataset/orders.csv\")\n",
    "        products_df = read_csv_file(path=\"/Users/sahilnagpal/Desktop/coding/competitive-programming/Projects/SHIMANO_CASE_STUDY/dataset/products.csv\")\n",
    "        staffs_df = read_csv_file(path=\"/Users/sahilnagpal/Desktop/coding/competitive-programming/Projects/SHIMANO_CASE_STUDY/dataset/staffs.csv\")\n",
    "        stocks_df = read_csv_file(path=\"/Users/sahilnagpal/Desktop/coding/competitive-programming/Projects/SHIMANO_CASE_STUDY/dataset/stocks.csv\")\n",
    "        stores_df = read_csv_file(path=\"/Users/sahilnagpal/Desktop/coding/competitive-programming/Projects/SHIMANO_CASE_STUDY/dataset/stores.csv\")\n",
    "    return brands_df,categories_df,customer_df,order_items_df,orders_df,products_df,staffs_df,stocks_df,stores_df\n",
    "\n",
    "logger.info(\"Reading input datasets completed\")\n"
   ],
   "id": "ed82e7b85dc8425b",
   "outputs": [],
   "execution_count": 13
  },
  {
   "metadata": {
    "ExecuteTime": {
     "end_time": "2024-07-08T22:36:37.688702Z",
     "start_time": "2024-07-08T22:36:37.686030Z"
    }
   },
   "cell_type": "code",
   "source": "",
   "id": "4e4fa7f64aa176d",
   "outputs": [],
   "execution_count": 13
  }
 ],
 "metadata": {
  "kernelspec": {
   "display_name": "Python 3",
   "language": "python",
   "name": "python3"
  },
  "language_info": {
   "codemirror_mode": {
    "name": "ipython",
    "version": 2
   },
   "file_extension": ".py",
   "mimetype": "text/x-python",
   "name": "python",
   "nbconvert_exporter": "python",
   "pygments_lexer": "ipython2",
   "version": "2.7.6"
  }
 },
 "nbformat": 4,
 "nbformat_minor": 5
}
