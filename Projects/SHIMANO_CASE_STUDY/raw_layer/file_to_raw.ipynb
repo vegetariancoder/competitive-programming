{
 "cells": [
  {
   "metadata": {},
   "cell_type": "markdown",
   "source": "### Raw Layer Modeling",
   "id": "70ac36dead01b633"
  },
  {
   "metadata": {},
   "cell_type": "markdown",
   "source": "#### import libraries",
   "id": "215591eab301bc62"
  },
  {
   "metadata": {
    "ExecuteTime": {
     "end_time": "2024-07-12T00:13:15.872794Z",
     "start_time": "2024-07-12T00:13:15.867782Z"
    }
   },
   "cell_type": "code",
   "source": "from Projects.SHIMANO_CASE_STUDY.common.config import spark_session,read_csv_file,set_logger",
   "id": "261856cc489b3e",
   "outputs": [],
   "execution_count": 5
  },
  {
   "metadata": {},
   "cell_type": "markdown",
   "source": "#### setup logger",
   "id": "f7d4be7567fbb3d4"
  },
  {
   "metadata": {
    "ExecuteTime": {
     "end_time": "2024-07-12T00:13:15.924332Z",
     "start_time": "2024-07-12T00:13:15.919412Z"
    }
   },
   "cell_type": "code",
   "source": "logger = set_logger()",
   "id": "6e32fd6b56d360a3",
   "outputs": [],
   "execution_count": 6
  },
  {
   "metadata": {},
   "cell_type": "markdown",
   "source": "#### create spark session",
   "id": "c5e42a51cd96806c"
  },
  {
   "metadata": {
    "ExecuteTime": {
     "end_time": "2024-07-12T00:13:17.551709Z",
     "start_time": "2024-07-12T00:13:15.927867Z"
    }
   },
   "cell_type": "code",
   "source": [
    "try:\n",
    "    spark = spark_session()\n",
    "    logger.info(\"Spark session created successfully\")\n",
    "except Exception as e:\n",
    "    logger.error(f\"Spark session creation failed: {e}\")"
   ],
   "id": "bb1c3841a2b74317",
   "outputs": [],
   "execution_count": 7
  },
  {
   "metadata": {},
   "cell_type": "markdown",
   "source": "#### read raw data",
   "id": "f2bfdf507798703a"
  },
  {
   "metadata": {
    "ExecuteTime": {
     "end_time": "2024-07-12T00:13:17.561243Z",
     "start_time": "2024-07-12T00:13:17.554347Z"
    }
   },
   "cell_type": "code",
   "source": [
    "def read_input_datasets():\n",
    "    logger.info(\"Reading input datasets\")\n",
    "    brands_df = read_csv_file(path=\"/Users/sahilnagpal/Desktop/coding/competitive-programming/Projects/SHIMANO_CASE_STUDY/dataset/brands.csv\")\n",
    "    categories_df = read_csv_file(path=\"/Users/sahilnagpal/Desktop/coding/competitive-programming/Projects/SHIMANO_CASE_STUDY/dataset/categories.csv\")\n",
    "    customer_df = read_csv_file(path=\"/Users/sahilnagpal/Desktop/coding/competitive-programming/Projects/SHIMANO_CASE_STUDY/dataset/customers.csv\")\n",
    "    order_items_df = read_csv_file(path=\"/Users/sahilnagpal/Desktop/coding/competitive-programming/Projects/SHIMANO_CASE_STUDY/dataset/order_items.csv\")\n",
    "    orders_df = read_csv_file(path=\"/Users/sahilnagpal/Desktop/coding/competitive-programming/Projects/SHIMANO_CASE_STUDY/dataset/orders.csv\")\n",
    "    products_df = read_csv_file(path=\"/Users/sahilnagpal/Desktop/coding/competitive-programming/Projects/SHIMANO_CASE_STUDY/dataset/products.csv\")\n",
    "    staffs_df = read_csv_file(path=\"/Users/sahilnagpal/Desktop/coding/competitive-programming/Projects/SHIMANO_CASE_STUDY/dataset/staffs.csv\")\n",
    "    stocks_df = read_csv_file(path=\"/Users/sahilnagpal/Desktop/coding/competitive-programming/Projects/SHIMANO_CASE_STUDY/dataset/stocks.csv\")\n",
    "    stores_df = read_csv_file(path=\"/Users/sahilnagpal/Desktop/coding/competitive-programming/Projects/SHIMANO_CASE_STUDY/dataset/stores.csv\")\n",
    "        \n",
    "    return brands_df,categories_df,customer_df,order_items_df,orders_df,products_df,staffs_df,stocks_df,stores_df\n"
   ],
   "id": "ed82e7b85dc8425b",
   "outputs": [],
   "execution_count": 8
  }
 ],
 "metadata": {
  "kernelspec": {
   "display_name": "Python 3",
   "language": "python",
   "name": "python3"
  },
  "language_info": {
   "codemirror_mode": {
    "name": "ipython",
    "version": 2
   },
   "file_extension": ".py",
   "mimetype": "text/x-python",
   "name": "python",
   "nbconvert_exporter": "python",
   "pygments_lexer": "ipython2",
   "version": "2.7.6"
  }
 },
 "nbformat": 4,
 "nbformat_minor": 5
}
