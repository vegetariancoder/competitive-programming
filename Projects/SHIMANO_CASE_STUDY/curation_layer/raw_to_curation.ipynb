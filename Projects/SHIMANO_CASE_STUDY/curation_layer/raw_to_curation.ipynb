{
 "cells": [
  {
   "metadata": {},
   "cell_type": "markdown",
   "source": "### Curation Layer",
   "id": "7d34029ca247785e"
  },
  {
   "metadata": {},
   "cell_type": "markdown",
   "source": "#### Importing libraries",
   "id": "f2ee6ea8baad28a"
  },
  {
   "cell_type": "code",
   "id": "initial_id",
   "metadata": {
    "collapsed": true,
    "ExecuteTime": {
     "end_time": "2024-07-09T00:42:02.973521Z",
     "start_time": "2024-07-09T00:42:02.969591Z"
    }
   },
   "source": [
    "import import_ipynb\n",
    "from pyspark.sql.functions import col"
   ],
   "outputs": [],
   "execution_count": 12
  },
  {
   "metadata": {},
   "cell_type": "markdown",
   "source": "#### Setting configs and path",
   "id": "18558d712d00a1f0"
  },
  {
   "metadata": {
    "ExecuteTime": {
     "end_time": "2024-07-09T00:42:05.203987Z",
     "start_time": "2024-07-09T00:42:05.199007Z"
    }
   },
   "cell_type": "code",
   "source": "from Projects.SHIMANO_CASE_STUDY.raw_layer.file_to_raw import read_input_datasets",
   "id": "75125a5525a876f5",
   "outputs": [],
   "execution_count": 13
  },
  {
   "metadata": {},
   "cell_type": "markdown",
   "source": "#### Importing Dataset",
   "id": "57d42201692e18cf"
  },
  {
   "metadata": {
    "ExecuteTime": {
     "end_time": "2024-07-09T00:41:10.677224Z",
     "start_time": "2024-07-09T00:41:09.136070Z"
    }
   },
   "cell_type": "code",
   "source": "brands_df,categories_df,customer_df,order_items_df,orders_df,products_df,staffs_df,stocks_df,stores_df = read_input_datasets()",
   "id": "a7146abbc2f54fe7",
   "outputs": [],
   "execution_count": 10
  },
  {
   "metadata": {},
   "cell_type": "code",
   "outputs": [],
   "execution_count": null,
   "source": "",
   "id": "fdaa9dbc330794c6"
  }
 ],
 "metadata": {
  "kernelspec": {
   "display_name": "Python 3",
   "language": "python",
   "name": "python3"
  },
  "language_info": {
   "codemirror_mode": {
    "name": "ipython",
    "version": 2
   },
   "file_extension": ".py",
   "mimetype": "text/x-python",
   "name": "python",
   "nbconvert_exporter": "python",
   "pygments_lexer": "ipython2",
   "version": "2.7.6"
  }
 },
 "nbformat": 4,
 "nbformat_minor": 5
}
