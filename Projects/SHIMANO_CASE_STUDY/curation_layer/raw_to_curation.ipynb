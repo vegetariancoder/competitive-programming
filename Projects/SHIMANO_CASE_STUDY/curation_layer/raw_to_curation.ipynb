{
 "cells": [
  {
   "metadata": {},
   "cell_type": "markdown",
   "source": "### Curation Layer",
   "id": "7d34029ca247785e"
  },
  {
   "metadata": {},
   "cell_type": "markdown",
   "source": "#### Importing libraries",
   "id": "f2ee6ea8baad28a"
  },
  {
   "cell_type": "code",
   "id": "initial_id",
   "metadata": {
    "collapsed": true,
    "ExecuteTime": {
     "end_time": "2024-07-12T01:38:40.757690Z",
     "start_time": "2024-07-12T01:38:40.354794Z"
    }
   },
   "source": [
    "import import_ipynb\n",
    "from pyspark.sql.functions import col,sum,max,min,when,dense_rank\n",
    "from pyspark.sql.window import Window"
   ],
   "outputs": [],
   "execution_count": 1
  },
  {
   "metadata": {},
   "cell_type": "markdown",
   "source": "#### Setting configs and path",
   "id": "18558d712d00a1f0"
  },
  {
   "metadata": {
    "ExecuteTime": {
     "end_time": "2024-07-12T01:38:45.428773Z",
     "start_time": "2024-07-12T01:38:40.760307Z"
    }
   },
   "cell_type": "code",
   "source": "from Projects.SHIMANO_CASE_STUDY.raw_layer.file_to_raw import read_input_datasets",
   "id": "75125a5525a876f5",
   "outputs": [
    {
     "name": "stdout",
     "output_type": "stream",
     "text": [
      "importing Jupyter notebook from /Users/sahilnagpal/Desktop/coding/competitive-programming/Projects/SHIMANO_CASE_STUDY/raw_layer/file_to_raw.ipynb\n"
     ]
    },
    {
     "name": "stderr",
     "output_type": "stream",
     "text": [
      "Setting default log level to \"WARN\".\n",
      "To adjust logging level use sc.setLogLevel(newLevel). For SparkR, use setLogLevel(newLevel).\n",
      "24/07/11 21:38:43 WARN NativeCodeLoader: Unable to load native-hadoop library for your platform... using builtin-java classes where applicable\n"
     ]
    }
   ],
   "execution_count": 2
  },
  {
   "metadata": {},
   "cell_type": "markdown",
   "source": "#### Importing Dataset",
   "id": "57d42201692e18cf"
  },
  {
   "metadata": {
    "ExecuteTime": {
     "end_time": "2024-07-12T01:38:53.718102Z",
     "start_time": "2024-07-12T01:38:45.431608Z"
    }
   },
   "cell_type": "code",
   "source": "brands_df,categories_df,customer_df,order_items_df,orders_df,products_df,staffs_df,stocks_df,stores_df = read_input_datasets()",
   "id": "a7146abbc2f54fe7",
   "outputs": [],
   "execution_count": 3
  },
  {
   "metadata": {},
   "cell_type": "markdown",
   "source": "#### Scenario Solving",
   "id": "74e93a0fa187765b"
  },
  {
   "metadata": {},
   "cell_type": "markdown",
   "source": "##### Find the customer who has placed the highest total value of orders and calculate that value.",
   "id": "fd9c61688f9ae001"
  },
  {
   "metadata": {
    "ExecuteTime": {
     "end_time": "2024-07-12T01:38:56.860340Z",
     "start_time": "2024-07-12T01:38:53.719832Z"
    }
   },
   "cell_type": "code",
   "source": [
    "orders_df = orders_df.withColumnRenamed('customer_id','ord_customer_id')\n",
    "\n",
    "customer_df\\\n",
    "    .join(orders_df,customer_df.customer_id==orders_df.ord_customer_id,how='inner')\\\n",
    "    .join(order_items_df,orders_df.order_id==order_items_df.order_id,how='inner')\\\n",
    "    .groupBy(\"customer_id\",\"first_name\",\"last_name\")\\\n",
    "    .agg(sum(\"list_price\").alias(\"total_value\"))\\\n",
    "    .withColumn(\"drnk\",dense_rank().over(Window.orderBy(col(\"total_value\").desc())))\\\n",
    "    .filter(col(\"drnk\")==1)\\\n",
    "    .show()"
   ],
   "id": "f0b79c86873beb1b",
   "outputs": [
    {
     "name": "stderr",
     "output_type": "stream",
     "text": [
      "24/07/11 21:38:54 WARN WindowExec: No Partition Defined for Window operation! Moving all data to a single partition, this can cause serious performance degradation.\n",
      "24/07/11 21:38:54 WARN WindowExec: No Partition Defined for Window operation! Moving all data to a single partition, this can cause serious performance degradation.\n",
      "24/07/11 21:38:54 WARN WindowExec: No Partition Defined for Window operation! Moving all data to a single partition, this can cause serious performance degradation.\n",
      "24/07/11 21:38:55 WARN WindowExec: No Partition Defined for Window operation! Moving all data to a single partition, this can cause serious performance degradation.\n",
      "24/07/11 21:38:55 WARN WindowExec: No Partition Defined for Window operation! Moving all data to a single partition, this can cause serious performance degradation.\n",
      "24/07/11 21:38:55 WARN WindowExec: No Partition Defined for Window operation! Moving all data to a single partition, this can cause serious performance degradation.\n",
      "24/07/11 21:38:55 WARN WindowExec: No Partition Defined for Window operation! Moving all data to a single partition, this can cause serious performance degradation.\n",
      "24/07/11 21:38:56 WARN WindowExec: No Partition Defined for Window operation! Moving all data to a single partition, this can cause serious performance degradation.\n",
      "24/07/11 21:38:56 WARN WindowExec: No Partition Defined for Window operation! Moving all data to a single partition, this can cause serious performance degradation.\n",
      "24/07/11 21:38:56 WARN WindowExec: No Partition Defined for Window operation! Moving all data to a single partition, this can cause serious performance degradation.\n",
      "24/07/11 21:38:56 WARN WindowExec: No Partition Defined for Window operation! Moving all data to a single partition, this can cause serious performance degradation.\n"
     ]
    },
    {
     "name": "stdout",
     "output_type": "stream",
     "text": [
      "+-----------+----------+---------+------------------+----+\n",
      "|customer_id|first_name|last_name|       total_value|drnk|\n",
      "+-----------+----------+---------+------------------+----+\n",
      "|          6|   Lyndsey|     Bean|24488.900000000005|   1|\n",
      "+-----------+----------+---------+------------------+----+\n",
      "\n"
     ]
    }
   ],
   "execution_count": 4
  },
  {
   "metadata": {},
   "cell_type": "markdown",
   "source": "##### List all products that have never been ordered along with their details.",
   "id": "1543a20077aa5026"
  },
  {
   "metadata": {
    "ExecuteTime": {
     "end_time": "2024-07-12T03:07:58.994713Z",
     "start_time": "2024-07-12T03:07:58.243530Z"
    }
   },
   "cell_type": "code",
   "source": [
    "order_items_df = order_items_df.withColumnRenamed('product_id','ord_it_product_id')\n",
    "products_df\\\n",
    "    .join(order_items_df,products_df.product_id==order_items_df.ord_it_product_id,\"left\")\\\n",
    "    .filter(col(\"ord_it_product_id\").isNull())\\\n",
    "    .select(\"product_id\")\\\n",
    "    .show()"
   ],
   "id": "c54ecba47ac7bd3d",
   "outputs": [
    {
     "name": "stdout",
     "output_type": "stream",
     "text": [
      "+----------+\n",
      "|product_id|\n",
      "+----------+\n",
      "|         1|\n",
      "|       121|\n",
      "|       125|\n",
      "|       154|\n",
      "|       195|\n",
      "|       267|\n",
      "|       284|\n",
      "|       291|\n",
      "|       316|\n",
      "|       317|\n",
      "|       318|\n",
      "|       319|\n",
      "|       320|\n",
      "|       321|\n",
      "+----------+\n",
      "\n"
     ]
    }
   ],
   "execution_count": 7
  },
  {
   "metadata": {},
   "cell_type": "markdown",
   "source": "##### Find the store with the highest average order value.",
   "id": "77c100875797d9f5"
  },
  {
   "metadata": {},
   "cell_type": "code",
   "outputs": [],
   "execution_count": null,
   "source": "",
   "id": "e221c34377466772"
  }
 ],
 "metadata": {
  "kernelspec": {
   "display_name": "Python 3",
   "language": "python",
   "name": "python3"
  },
  "language_info": {
   "codemirror_mode": {
    "name": "ipython",
    "version": 2
   },
   "file_extension": ".py",
   "mimetype": "text/x-python",
   "name": "python",
   "nbconvert_exporter": "python",
   "pygments_lexer": "ipython2",
   "version": "2.7.6"
  }
 },
 "nbformat": 4,
 "nbformat_minor": 5
}
