{
 "cells": [
  {
   "metadata": {},
   "cell_type": "markdown",
   "source": "### Curation Layer",
   "id": "7d34029ca247785e"
  },
  {
   "metadata": {},
   "cell_type": "markdown",
   "source": "#### Importing libraries",
   "id": "f2ee6ea8baad28a"
  },
  {
   "cell_type": "code",
   "id": "initial_id",
   "metadata": {
    "collapsed": true
   },
   "source": [
    "import import_ipynb\n",
    "from pyspark.sql.functions import col,sum,max,min,when,dense_rank,avg,count,countDistinct\n",
    "from pyspark.sql.window import Window"
   ],
   "outputs": [],
   "execution_count": null
  },
  {
   "metadata": {},
   "cell_type": "markdown",
   "source": "#### Setting configs and path",
   "id": "18558d712d00a1f0"
  },
  {
   "metadata": {},
   "cell_type": "code",
   "source": [
    "from Projects.SHIMANO_CASE_STUDY.raw_layer.file_to_raw import read_input_datasets\n",
    "from Projects.SHIMANO_CASE_STUDY.common.config import read_csv_file"
   ],
   "id": "75125a5525a876f5",
   "outputs": [],
   "execution_count": null
  },
  {
   "metadata": {},
   "cell_type": "markdown",
   "source": "#### Importing Dataset",
   "id": "57d42201692e18cf"
  },
  {
   "metadata": {},
   "cell_type": "code",
   "source": [
    "# brands_df,categories_df,customer_df,order_items_df,orders_df,products_df,staffs_df,stocks_df,stores_df = read_input_datasets()\n",
    "brands_df = read_csv_file(path=\"/Users/sahilnagpal/Desktop/coding/competitive-programming/Projects/SHIMANO_CASE_STUDY/dataset/brands.csv\")\n",
    "categories_df = read_csv_file(path=\"/Users/sahilnagpal/Desktop/coding/competitive-programming/Projects/SHIMANO_CASE_STUDY/dataset/categories.csv\")\n",
    "customer_df = read_csv_file(path=\"/Users/sahilnagpal/Desktop/coding/competitive-programming/Projects/SHIMANO_CASE_STUDY/dataset/customers.csv\")\n",
    "order_items_df = read_csv_file(path=\"/Users/sahilnagpal/Desktop/coding/competitive-programming/Projects/SHIMANO_CASE_STUDY/dataset/order_items.csv\")\n",
    "orders_df = read_csv_file(path=\"/Users/sahilnagpal/Desktop/coding/competitive-programming/Projects/SHIMANO_CASE_STUDY/dataset/orders.csv\")\n",
    "products_df = read_csv_file(path=\"/Users/sahilnagpal/Desktop/coding/competitive-programming/Projects/SHIMANO_CASE_STUDY/dataset/products.csv\")\n",
    "staffs_df = read_csv_file(path=\"/Users/sahilnagpal/Desktop/coding/competitive-programming/Projects/SHIMANO_CASE_STUDY/dataset/staffs.csv\")\n",
    "stocks_df = read_csv_file(path=\"/Users/sahilnagpal/Desktop/coding/competitive-programming/Projects/SHIMANO_CASE_STUDY/dataset/stocks.csv\")\n",
    "stores_df = read_csv_file(path=\"/Users/sahilnagpal/Desktop/coding/competitive-programming/Projects/SHIMANO_CASE_STUDY/dataset/stores.csv\")"
   ],
   "id": "a7146abbc2f54fe7",
   "outputs": [],
   "execution_count": null
  },
  {
   "metadata": {},
   "cell_type": "markdown",
   "source": "#### Scenario Solving",
   "id": "74e93a0fa187765b"
  },
  {
   "metadata": {},
   "cell_type": "markdown",
   "source": "##### Find the customer who has placed the highest total value of orders and calculate that value.",
   "id": "fd9c61688f9ae001"
  },
  {
   "metadata": {},
   "cell_type": "code",
   "source": [
    "customer_df\\\n",
    "    .join(orders_df,customer_df.customer_id==orders_df.customer_id,how='inner')\\\n",
    "    .join(order_items_df,orders_df.order_id==order_items_df.order_id,how='inner')\\\n",
    "    .select(customer_df.customer_id,customer_df.first_name,customer_df.last_name,order_items_df.list_price)\\\n",
    "    .groupBy(\"customer_id\",\"first_name\",\"last_name\")\\\n",
    "    .agg(sum(\"list_price\").alias(\"total_value\"))\\\n",
    "    .withColumn(\"drnk\",dense_rank().over(Window.orderBy(col(\"total_value\").desc())))\\\n",
    "    .filter(col(\"drnk\")==1)\\\n",
    "    .drop(\"drnk\")\\\n",
    "    .show()"
   ],
   "id": "f0b79c86873beb1b",
   "outputs": [],
   "execution_count": null
  },
  {
   "metadata": {},
   "cell_type": "markdown",
   "source": "##### List all products that have never been ordered along with their details.",
   "id": "1543a20077aa5026"
  },
  {
   "metadata": {},
   "cell_type": "code",
   "source": [
    "products_df\\\n",
    "    .join(order_items_df,products_df.product_id==order_items_df.product_id,\"left\")\\\n",
    "    .filter(order_items_df.product_id.isNull())\\\n",
    "    .select(products_df.product_id)\\\n",
    "    .show()"
   ],
   "id": "c54ecba47ac7bd3d",
   "outputs": [],
   "execution_count": null
  },
  {
   "metadata": {},
   "cell_type": "markdown",
   "source": "##### Find the store with the highest average order value.",
   "id": "77c100875797d9f5"
  },
  {
   "metadata": {},
   "cell_type": "code",
   "source": [
    "stores_df\\\n",
    "    .join(orders_df, on=stores_df.store_id == orders_df.store_id,how=\"inner\")\\\n",
    "    .join(order_items_df,on=orders_df.order_id== order_items_df.order_id,how=\"inner\")\\\n",
    "    .select(stores_df.store_id,order_items_df.list_price)\\\n",
    "    .groupby(col(\"store_id\").alias(\"store_id\"))\\\n",
    "    .agg(avg(\"list_price\").alias(\"avg_list_price\"))\\\n",
    "    .withColumn(\"drnk\",dense_rank().over(Window.orderBy(col(\"avg_list_price\").desc())))\\\n",
    "    .filter(col(\"drnk\")==1) .drop(\"drnk\")\\\n",
    "    .show()\n"
   ],
   "id": "e221c34377466772",
   "outputs": [],
   "execution_count": null
  },
  {
   "metadata": {},
   "cell_type": "markdown",
   "source": "##### Determine the total revenue generated by each store, considering the discounts applied on order items.",
   "id": "d37ff46977e964cf"
  },
  {
   "metadata": {},
   "cell_type": "code",
   "source": [
    "stores_df\\\n",
    "    .join(orders_df, on=stores_df.store_id == orders_df.store_id,how=\"inner\")\\\n",
    "    .join(order_items_df,on=orders_df.order_id== order_items_df.order_id,how=\"inner\")\\\n",
    "    .select(stores_df.store_id,stores_df.store_name,order_items_df.list_price,order_items_df.discount)\\\n",
    "    .withColumn(\"discount_price\",col(\"list_price\")*col(\"discount\"))\\\n",
    "    .withColumn(\"actual_price\",col(\"list_price\")-col(\"discount_price\"))\\\n",
    "    .groupby(col(\"store_id\"),col(\"store_name\"))\\\n",
    "    .agg(sum(\"actual_price\").alias(\"total_rev\"))\\\n",
    "    .show()"
   ],
   "id": "1139aa14967e415e",
   "outputs": [],
   "execution_count": null
  },
  {
   "metadata": {},
   "cell_type": "markdown",
   "source": " ##### Find the customer who has placed the most orders and list all the orders they have placed.",
   "id": "6b07142ba3033364"
  },
  {
   "metadata": {},
   "cell_type": "code",
   "source": [
    "top_customers = orders_df\\\n",
    "    .groupby(\"customer_id\")\\\n",
    "    .agg(countDistinct(\"order_id\").alias(\"order_count\"))\\\n",
    "    .withColumn(\"drnk\",dense_rank().over(Window.orderBy(col(\"order_count\").desc())))\\\n",
    "    .filter(col(\"drnk\")==1) .drop(\"drnk\")\n",
    "\n",
    "\n",
    "top_customers\\\n",
    "    .join(orders_df,top_customers.customer_id== orders_df.customer_id,\"inner\")\\\n",
    "    .join(order_items_df,orders_df.order_id == order_items_df.order_id,\"inner\")\\\n",
    "    .select(top_customers.customer_id,order_items_df.order_id,order_items_df.product_id)\\\n",
    "    .show()"
   ],
   "id": "90f706180fab44fa",
   "outputs": [],
   "execution_count": null
  },
  {
   "metadata": {},
   "cell_type": "code",
   "source": "",
   "id": "b9af72f09b3ad1ab",
   "outputs": [],
   "execution_count": null
  }
 ],
 "metadata": {
  "kernelspec": {
   "display_name": "Python 3",
   "language": "python",
   "name": "python3"
  },
  "language_info": {
   "codemirror_mode": {
    "name": "ipython",
    "version": 2
   },
   "file_extension": ".py",
   "mimetype": "text/x-python",
   "name": "python",
   "nbconvert_exporter": "python",
   "pygments_lexer": "ipython2",
   "version": "2.7.6"
  }
 },
 "nbformat": 4,
 "nbformat_minor": 5
}
