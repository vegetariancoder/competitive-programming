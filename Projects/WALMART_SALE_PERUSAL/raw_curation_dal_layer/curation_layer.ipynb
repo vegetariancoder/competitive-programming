{
 "cells": [
  {
   "metadata": {},
   "cell_type": "markdown",
   "source": "### Curation Layer",
   "id": "a8c9ba63e3e2e0ed"
  },
  {
   "metadata": {},
   "cell_type": "markdown",
   "source": "import libraries and functions.",
   "id": "7da6b597deea5c37"
  },
  {
   "metadata": {},
   "cell_type": "code",
   "source": [
    "from config import spark_session,read_csv_file\n",
    "from pyspark.sql.functions import col, when,avg,date_format,to_date,sum,dense_rank,round\n",
    "from pyspark.sql.window import Window"
   ],
   "id": "5ad2ab50e4802bd5",
   "outputs": [],
   "execution_count": null
  },
  {
   "metadata": {},
   "cell_type": "code",
   "source": "spark = spark_session()",
   "id": "f8cd8f46061b1ee4",
   "outputs": [],
   "execution_count": null
  },
  {
   "metadata": {},
   "cell_type": "markdown",
   "source": "read raw data",
   "id": "d876da186cf8d3d1"
  },
  {
   "metadata": {},
   "cell_type": "code",
   "source": "curated_df = read_csv_file(path=\"/Users/sahilnagpal/Desktop/coding/competitive-programming/Projects/WALMART_SALE_PERUSAL/input_data/WALMART_SALES_DATA.csv\")",
   "id": "fc4da19b27a9e2ea",
   "outputs": [],
   "execution_count": null
  },
  {
   "metadata": {},
   "cell_type": "markdown",
   "source": "### Curation Analytics",
   "id": "4eea2e6355267e4f"
  },
  {
   "metadata": {},
   "cell_type": "markdown",
   "source": "Average weekly sales for each store.",
   "id": "8e9b3a784d210781"
  },
  {
   "metadata": {},
   "cell_type": "code",
   "source": [
    "avg_weekly_sale_each_store_df = curated_df\\\n",
    "    .groupBy(col(\"Store\"))\\\n",
    "    .agg(avg(\"Weekly_Sales\").alias(\"Avg_Weekly_Sales\"))\n"
   ],
   "id": "93c1f19026869b30",
   "outputs": [],
   "execution_count": null
  },
  {
   "metadata": {},
   "cell_type": "markdown",
   "source": "Top Performing Stores",
   "id": "d32454d12a7846a7"
  },
  {
   "metadata": {},
   "cell_type": "code",
   "source": [
    "top_5_avg_weekly_sale_each_store_df = avg_weekly_sale_each_store_df\\\n",
    "    .withColumn(\"rnk\",dense_rank().over(Window.orderBy(col(\"Avg_Weekly_Sales\"))))\\\n",
    "    .filter(col(\"rnk\") <= 5)"
   ],
   "id": "780969d28dfb8da4",
   "outputs": [],
   "execution_count": null
  },
  {
   "metadata": {},
   "cell_type": "markdown",
   "source": "Sales Comparison During Holidays vs. Non-Holidays",
   "id": "849bbd50255684"
  },
  {
   "metadata": {},
   "cell_type": "code",
   "source": [
    "non_holiday_df = curated_df\\\n",
    "    .select(\"Store\",\"Weekly_Sales\",\"Holiday_Flag\")\\\n",
    "    .filter(col(\"Holiday_Flag\")==0)\\\n",
    "    .groupby(col(\"Store\").alias(\"nh_store_id\"))\\\n",
    "    .agg(avg(\"Weekly_Sales\").alias(\"sales_during_non_holiday\"))\n",
    "\n",
    "holiday_df = curated_df\\\n",
    "    .select(\"Store\",\"Weekly_Sales\",\"Holiday_Flag\")\\\n",
    "    .filter(col(\"Holiday_Flag\")==1)\\\n",
    "    .groupby(col(\"Store\").alias(\"h_store_id\"))\\\n",
    "    .agg(avg(\"Weekly_Sales\").alias(\"sales_during_holiday\"))\n",
    "\n",
    "holiday_vs_non_holiday_df = non_holiday_df\\\n",
    "    .join(holiday_df,on=non_holiday_df.nh_store_id == holiday_df.h_store_id,how=\"inner\")\\\n",
    "    .withColumn(\"sales_affect\",when(col(\"sales_during_non_holiday\")>col(\"sales_during_holiday\"),\"more_non_holiday_sale\").otherwise(\"more_holiday_sale\"))\\\n",
    "    .select(col(\"h_store_id\").alias(\"store_id\"),\"sales_during_non_holiday\",\"sales_during_holiday\",\"sales_affect\")\n",
    "\n",
    "holiday_vs_non_holiday_df.show(truncate=False)\n",
    "\n",
    "holiday_vs_non_holiday_df\\\n",
    "    .select(\"sales_affect\")\\\n",
    "    .groupby(col(\"sales_affect\"))\\\n",
    "    .count()\\\n",
    "    .show(truncate=False)\n",
    "\n"
   ],
   "id": "c6e80e4c28e46c73",
   "outputs": [],
   "execution_count": null
  },
  {
   "metadata": {},
   "cell_type": "markdown",
   "source": "Monthly Sales Trend",
   "id": "26eb4f778aef424a"
  },
  {
   "metadata": {},
   "cell_type": "code",
   "source": [
    "monthly_sales_trend_df = curated_df\\\n",
    "    .withColumn(\"Date\", to_date(col(\"Date\"), \"dd-MM-yyyy\"))\\\n",
    "    .withColumn(\"month\", date_format(col(\"Date\"), \"MM\"))\\\n",
    "    .withColumn(\"year\",date_format(col(\"Date\"),\"yyyy\"))\\\n",
    "    .groupby(col(\"Store\"),col(\"month\"),col(\"year\"))\\\n",
    "    .agg(sum(\"Weekly_Sales\").alias(\"total_sales\"))\n",
    "\n",
    "monthly_sales_trend_df.show()"
   ],
   "id": "a846adfc51dbc3b8",
   "outputs": [],
   "execution_count": null
  },
  {
   "metadata": {},
   "cell_type": "markdown",
   "source": "Impact of Temperature on Sales",
   "id": "d4ed393f32f44886"
  },
  {
   "metadata": {},
   "cell_type": "code",
   "source": [
    "curated_df\\\n",
    "    .show()"
   ],
   "id": "7ce1adb841074a2a",
   "outputs": [],
   "execution_count": null
  },
  {
   "metadata": {},
   "cell_type": "code",
   "source": [
    "curated_df\\\n",
    "    .select('Weekly_Sales','Temperature','Date')\\\n",
    "    .withColumn(\"celsius_temp\", (col(\"Temperature\") - 32) * 5 / 9)\\\n",
    "    .withColumn(\"environment_type\",when(col(\"celsius_temp\") <= 4,'Very Cold')\\\n",
    "                .when(col(\"celsius_temp\").between(4,8),'Cold')\\\n",
    "                .when(col(\"celsius_temp\").between(8,13),'Cool')\\\n",
    "                .when(col(\"celsius_temp\").between(13,23),'Comfortable')\\\n",
    "                .when(col(\"celsius_temp\").between(23,29),'Slightly Warm')\\\n",
    "                .when(col(\"celsius_temp\")>30,'Very Hot'))\\\n",
    "    .groupby(col(\"environment_type\"))\\\n",
    "    .agg(sum(\"Weekly_Sales\").alias(\"total_sales_by_environment\"))"
   ],
   "id": "515efbe9a6ea8291",
   "outputs": [],
   "execution_count": null
  },
  {
   "metadata": {},
   "cell_type": "markdown",
   "source": "Sales Performance by Season",
   "id": "362dace1c1cd3368"
  },
  {
   "metadata": {},
   "cell_type": "code",
   "source": [
    "sales_performance_by_year_df = curated_df\\\n",
    "    .withColumn(\"Date\", to_date(col(\"Date\"), \"dd-MM-yyyy\"))\\\n",
    "    .withColumn(\"month\", date_format(col(\"Date\"), \"MM\"))\\\n",
    "    .withColumn(\"season_type\",when(col(\"month\").isin('12','01','02'),'Winter')\\\n",
    "                .when(col(\"month\").isin('03','04','05'),'Spring')\\\n",
    "                .when(col(\"month\").isin('06','07','08'),'Summer')\\\n",
    "                .when(col(\"month\").isin('09','10','11'),'Fall'))\\\n",
    "    .groupby(col(\"Store\"),col(\"season_type\"))\\\n",
    "    .agg(avg(\"Weekly_Sales\").alias(\"avg_sales_season_wise\"))"
   ],
   "id": "7fea9b707c18d845",
   "outputs": [],
   "execution_count": null
  },
  {
   "metadata": {},
   "cell_type": "code",
   "source": "",
   "id": "fa87e262859cc1cd",
   "outputs": [],
   "execution_count": null
  }
 ],
 "metadata": {
  "kernelspec": {
   "display_name": "Python 3",
   "language": "python",
   "name": "python3"
  },
  "language_info": {
   "codemirror_mode": {
    "name": "ipython",
    "version": 2
   },
   "file_extension": ".py",
   "mimetype": "text/x-python",
   "name": "python",
   "nbconvert_exporter": "python",
   "pygments_lexer": "ipython2",
   "version": "2.7.6"
  }
 },
 "nbformat": 4,
 "nbformat_minor": 5
}
