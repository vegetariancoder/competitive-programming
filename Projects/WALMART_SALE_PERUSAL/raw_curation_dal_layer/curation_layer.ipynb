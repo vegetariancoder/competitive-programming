{
 "cells": [
  {
   "metadata": {},
   "cell_type": "markdown",
   "source": "### Curation Layer",
   "id": "a8c9ba63e3e2e0ed"
  },
  {
   "metadata": {},
   "cell_type": "markdown",
   "source": "import libraries and functions.",
   "id": "7da6b597deea5c37"
  },
  {
   "metadata": {
    "ExecuteTime": {
     "end_time": "2024-06-11T00:18:45.970799Z",
     "start_time": "2024-06-11T00:18:45.966746Z"
    }
   },
   "cell_type": "code",
   "source": [
    "from config import spark_session,read_csv_file\n",
    "from pyspark.sql.functions import col, when, count, isnan,avg"
   ],
   "id": "5ad2ab50e4802bd5",
   "outputs": [],
   "execution_count": 5
  },
  {
   "metadata": {
    "ExecuteTime": {
     "end_time": "2024-06-11T00:14:50.326380Z",
     "start_time": "2024-06-11T00:14:45.563123Z"
    }
   },
   "cell_type": "code",
   "source": "spark = spark_session()",
   "id": "f8cd8f46061b1ee4",
   "outputs": [
    {
     "name": "stderr",
     "output_type": "stream",
     "text": [
      "Setting default log level to \"WARN\".\n",
      "To adjust logging level use sc.setLogLevel(newLevel). For SparkR, use setLogLevel(newLevel).\n",
      "24/06/10 20:14:48 WARN NativeCodeLoader: Unable to load native-hadoop library for your platform... using builtin-java classes where applicable\n",
      "24/06/10 20:14:49 WARN Utils: Service 'SparkUI' could not bind on port 4040. Attempting port 4041.\n"
     ]
    }
   ],
   "execution_count": 2
  },
  {
   "metadata": {},
   "cell_type": "markdown",
   "source": "read raw data",
   "id": "d876da186cf8d3d1"
  },
  {
   "metadata": {
    "ExecuteTime": {
     "end_time": "2024-06-11T00:17:16.130377Z",
     "start_time": "2024-06-11T00:17:15.854463Z"
    }
   },
   "cell_type": "code",
   "source": "curated_df = read_csv_file(path=\"/Users/sahilnagpal/Desktop/coding/competitive-programming/Projects/WALMART_SALE_PERUSAL/input_data/WALMART_SALES_DATA.csv\")",
   "id": "fc4da19b27a9e2ea",
   "outputs": [],
   "execution_count": 4
  },
  {
   "metadata": {},
   "cell_type": "markdown",
   "source": "### Curation Analytics",
   "id": "4eea2e6355267e4f"
  },
  {
   "metadata": {},
   "cell_type": "markdown",
   "source": "Average weekly sales for each store.",
   "id": "8e9b3a784d210781"
  },
  {
   "metadata": {
    "ExecuteTime": {
     "end_time": "2024-06-11T00:19:57.821150Z",
     "start_time": "2024-06-11T00:19:57.507930Z"
    }
   },
   "cell_type": "code",
   "source": [
    "curated_df\\\n",
    "    .groupBy(col(\"Store\"))\\\n",
    "    .agg(avg(\"Weekly_Sales\").alias(\"Avg_Weekly_Sales\"))\\\n",
    "    .show()"
   ],
   "id": "93c1f19026869b30",
   "outputs": [
    {
     "name": "stdout",
     "output_type": "stream",
     "text": [
      "+-----+------------------+\n",
      "|Store|  Avg_Weekly_Sales|\n",
      "+-----+------------------+\n",
      "|    7| 570617.3086713287|\n",
      "|   15| 623312.4749650348|\n",
      "|   11|1356383.1244755238|\n",
      "|   29| 539451.4287412586|\n",
      "|   42| 556403.8631468529|\n",
      "|    3|402704.44104895106|\n",
      "|   30| 438579.6162237763|\n",
      "|   34| 966781.5594405596|\n",
      "|    8| 908749.5183916084|\n",
      "|   22|1028501.0389510491|\n",
      "|   28|1323522.2418181808|\n",
      "|   16| 519247.7300699302|\n",
      "|   35|  919724.979580419|\n",
      "|   43| 633324.7231468534|\n",
      "|    5| 318011.8104895105|\n",
      "|   31|1395901.4370629368|\n",
      "|   18| 1084718.421048951|\n",
      "|   27| 1775216.201958042|\n",
      "|   17|  893581.390419581|\n",
      "|   26|1002911.8446853153|\n",
      "+-----+------------------+\n",
      "only showing top 20 rows\n",
      "\n"
     ]
    }
   ],
   "execution_count": 10
  },
  {
   "metadata": {},
   "cell_type": "code",
   "outputs": [],
   "execution_count": null,
   "source": "",
   "id": "98d24e24a0061c45"
  }
 ],
 "metadata": {
  "kernelspec": {
   "display_name": "Python 3",
   "language": "python",
   "name": "python3"
  },
  "language_info": {
   "codemirror_mode": {
    "name": "ipython",
    "version": 2
   },
   "file_extension": ".py",
   "mimetype": "text/x-python",
   "name": "python",
   "nbconvert_exporter": "python",
   "pygments_lexer": "ipython2",
   "version": "2.7.6"
  }
 },
 "nbformat": 4,
 "nbformat_minor": 5
}
