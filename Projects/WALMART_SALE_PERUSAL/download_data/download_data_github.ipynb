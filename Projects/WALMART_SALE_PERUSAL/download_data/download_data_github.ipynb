{
 "cells": [
  {
   "metadata": {},
   "cell_type": "markdown",
   "source": "### Sales Data Refresh",
   "id": "ff28471562467145"
  },
  {
   "metadata": {},
   "cell_type": "markdown",
   "source": "#### Repo for target - https://raw.githubusercontent.com/Afnan-214/DSMethodology_WalmartAnalysis/main/WALMART_SALES_DATA.csv",
   "id": "69109738a5443a29"
  },
  {
   "metadata": {
    "ExecuteTime": {
     "end_time": "2024-06-07T00:51:46.438834Z",
     "start_time": "2024-06-07T00:51:39.358495Z"
    }
   },
   "cell_type": "code",
   "source": [
    "import requests\n",
    "\n",
    "url = 'https://raw.githubusercontent.com/Afnan-214/DSMethodology_WalmartAnalysis/main/WALMART_SALES_DATA.csv'\n",
    "\n",
    "response = requests.get(url)\n",
    "\n",
    "if response.status_code == 200:\n",
    "    with open('../input_data/WALMART_SALES_DATA.csv', 'wb') as file:\n",
    "        file.write(response.content)\n",
    "    print('CSV file downloaded successfully.')\n",
    "else:\n",
    "    print('Failed to download the CSV file. Status code:', response.status_code)\n"
   ],
   "id": "1ba24b0040e3595b",
   "outputs": [
    {
     "name": "stderr",
     "output_type": "stream",
     "text": [
      "/Library/Python/3.9/site-packages/urllib3/__init__.py:34: NotOpenSSLWarning: urllib3 v2 only supports OpenSSL 1.1.1+, currently the 'ssl' module is compiled with 'LibreSSL 2.8.3'. See: https://github.com/urllib3/urllib3/issues/3020\n",
      "  warnings.warn(\n"
     ]
    },
    {
     "name": "stdout",
     "output_type": "stream",
     "text": [
      "CSV file downloaded successfully.\n"
     ]
    }
   ],
   "execution_count": 2
  },
  {
   "metadata": {},
   "cell_type": "code",
   "outputs": [],
   "execution_count": null,
   "source": "",
   "id": "43351ab2f1f5029f"
  }
 ],
 "metadata": {
  "kernelspec": {
   "display_name": "Python 3",
   "language": "python",
   "name": "python3"
  },
  "language_info": {
   "codemirror_mode": {
    "name": "ipython",
    "version": 2
   },
   "file_extension": ".py",
   "mimetype": "text/x-python",
   "name": "python",
   "nbconvert_exporter": "python",
   "pygments_lexer": "ipython2",
   "version": "2.7.6"
  }
 },
 "nbformat": 4,
 "nbformat_minor": 5
}
