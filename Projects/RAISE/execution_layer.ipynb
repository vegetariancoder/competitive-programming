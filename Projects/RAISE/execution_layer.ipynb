{
 "cells": [
  {
   "metadata": {},
   "cell_type": "markdown",
   "source": "### Impporting Libs",
   "id": "e11a6b660e747258"
  },
  {
   "cell_type": "code",
   "id": "initial_id",
   "metadata": {
    "collapsed": true
   },
   "source": [
    "from pyspark.sql.session import SparkSession\n",
    "from pyspark.sql.functions import regexp_extract, col, avg,round, regexp_replace,max,min,dense_rank,col,split\n",
    "from pyspark.sql.window import Window"
   ],
   "outputs": [],
   "execution_count": null
  },
  {
   "metadata": {},
   "cell_type": "markdown",
   "source": "### Create spark session",
   "id": "184b7f6e9ea6c337"
  },
  {
   "metadata": {},
   "cell_type": "code",
   "source": [
    "spark = SparkSession\\\n",
    "    .builder\\\n",
    "    .appName(\"CompetitiveProgramming\")\\\n",
    "    .getOrCreate()"
   ],
   "id": "789e6c1159fc7772",
   "outputs": [],
   "execution_count": null
  },
  {
   "metadata": {},
   "cell_type": "markdown",
   "source": "### Read dataset",
   "id": "71aecca2436b1157"
  },
  {
   "metadata": {},
   "cell_type": "code",
   "source": [
    "data = spark\\\n",
    "    .read\\\n",
    "    .format(\"csv\")\\\n",
    "    .option(\"header\", \"true\")\\\n",
    "    .option(\"delimiter\", \",\")\\\n",
    "    .load(\"/Users/sahilnagpal/Desktop/coding/competitive-programming/Projects/RAISE/clicnical-doctors-dataset.csv\")"
   ],
   "id": "ff3c3301588db0cd",
   "outputs": [],
   "execution_count": null
  },
  {
   "metadata": {},
   "cell_type": "code",
   "source": "print(type(data))",
   "id": "24321d7d6584d853",
   "outputs": [],
   "execution_count": null
  },
  {
   "metadata": {},
   "cell_type": "markdown",
   "source": "### Data Cleansing",
   "id": "ad20ee4cccaac431"
  },
  {
   "metadata": {},
   "cell_type": "code",
   "source": [
    "from pyspark.sql import functions as F\n",
    "\n",
    "def clean_doctor_id(dataset, column_name):\n",
    "    # Check if the column exists in the dataset\n",
    "    if column_name not in dataset.columns:\n",
    "        raise ValueError(f\"Column {column_name} does not exist in the dataset\")\n",
    "\n",
    "    # Split the column and create a new column \"Doctor_Id\"\n",
    "    split_col = F.split(dataset[column_name], ' ')\n",
    "    dataset = dataset.withColumn(\"Doctor_Id\", split_col.getItem(0))\\\n",
    "                     .withColumn(\"Doctor_Id\", (F.col(\"Doctor_Id\").cast(\"int\") + 1))\n",
    "    return dataset\n",
    "\n",
    "def clean_fees(dataset, column_name):\n",
    "    # Check if the column exists in the dataset\n",
    "    if column_name not in dataset.columns:\n",
    "        raise ValueError(f\"Column {column_name} does not exist in the dataset\")\n",
    "\n",
    "    # Split the column and create a new column \"Doctor_Id\"\n",
    "    split_col = F.split(dataset[column_name], ' ')\n",
    "    dataset = dataset.withColumn(\"fees_value\", split_col.getItem(0))\n",
    "    return dataset\n",
    "\n",
    "def clean_waiting_times(dataset, column_name):\n",
    "    # Check if the column exists in the dataset\n",
    "    if column_name not in dataset.columns:\n",
    "        raise ValueError(f\"Column {column_name} does not exist in the dataset\")\n",
    "\n",
    "    # Split the column and create a new column \"Doctor_Id\"\n",
    "    split_col = F.split(dataset[column_name], ':')\n",
    "    dataset = dataset.withColumn(\"waiting_period\", split_col.getItem(1))\n",
    "    return dataset\n",
    "\n",
    "def clean_timings(dataset, column_name):\n",
    "    dataset = dataset.withColumn(\"hours\", regexp_extract(col(column_name), r'(\\d+)\\s*Hour', 1).cast(\"int\"))\\\n",
    "       .withColumn(\"minutes\", regexp_extract(col(column_name), r'(\\d+)\\s*Minute', 1).cast(\"int\"))\n",
    "    \n",
    "    dataset = dataset.fillna({\"hours\": 0, \"minutes\": 0})\n",
    "    dataset = dataset.withColumn(\"total_minutes\", col(\"hours\") * 60 + col(\"minutes\"))\n",
    "    dataset = dataset.drop(\"hours\",\"minutes\")\n",
    "    return dataset\n",
    "\n",
    "def clean_doctor_views(dataset, column_name):\n",
    "    # Check if the column exists in the dataset\n",
    "    if column_name not in dataset.columns:\n",
    "        raise ValueError(f\"Column {column_name} does not exist in the dataset\")\n",
    "\n",
    "    # Split the column and create a new column \"Doctor_Id\"\n",
    "    split_col = F.split(dataset[column_name], ' ')\n",
    "    dataset = dataset.withColumn(\"doctor_actual_views\", split_col.getItem(0))\n",
    "    dataset = dataset.withColumn(\"number_without_commas\", regexp_replace(col(\"doctor_actual_views\"), \",\", \"\").cast(\"int\"))\n",
    "    dataset = dataset.drop(\"doctor_actual_views\")\n",
    "    return dataset\n",
    "    \n",
    "    \n",
    "    \n",
    "    \n",
    "data = clean_doctor_id(dataset=data, column_name=\"Source\")\n",
    "data = clean_fees(dataset=data, column_name=\"fees\")\n",
    "data = clean_waiting_times(dataset=data, column_name=\"waiting_time\")\n",
    "data = clean_timings(dataset=data, column_name=\"waiting_period\")\n",
    "data = clean_doctor_views(dataset=data, column_name=\"doctor_views\")\n"
   ],
   "id": "f6624724d068a191",
   "outputs": [],
   "execution_count": null
  },
  {
   "metadata": {},
   "cell_type": "code",
   "source": "data.show(truncate=False)",
   "id": "e326676872d3f44c",
   "outputs": [],
   "execution_count": null
  },
  {
   "metadata": {},
   "cell_type": "markdown",
   "source": "### Analysis",
   "id": "fe6fd958fde49fb9"
  },
  {
   "metadata": {},
   "cell_type": "markdown",
   "source": "#### Deliverable: SQL query as query_1.sql and results in output_1.csv containing columns such as specialization, average_fees, average_waiting_time, and average_rating.",
   "id": "b01276302c32de80"
  },
  {
   "metadata": {},
   "cell_type": "code",
   "source": [
    "data\\\n",
    "    .filter(col(\"specialization\").isNotNull())\\\n",
    "    .groupBy(\"specialization\")\\\n",
    "    .agg(avg(\"avg_rate\").alias(\"average_rating\"),\n",
    "         avg(\"fees_value\").alias(\"average_fees\"),\n",
    "         avg(\"total_minutes\").alias(\"average_time\"))\\\n",
    "    .withColumn(\"average_rating\",round(col(\"average_rating\"),2))\\\n",
    "    .withColumn(\"average_fees\",round(col(\"average_fees\"),2))\\\n",
    "    .withColumn(\"average_time\",round(col(\"average_time\"),2))"
   ],
   "id": "e611f593e861df89",
   "outputs": [],
   "execution_count": null
  },
  {
   "metadata": {},
   "cell_type": "markdown",
   "source": "#### Deliverable: SQL query as query_2.sql and a CSV output as output_2.csv with columns doctor_id, specialization, clinic_location, doctor_views.",
   "id": "3339f194e1212cf"
  },
  {
   "metadata": {},
   "cell_type": "code",
   "source": [
    "data\\\n",
    "    .select(\"Doctor_Id\",\"fees_value\",\"specialization\",\"clinic_location\",\"number_without_commas\")\\\n",
    "    .show()"
   ],
   "id": "beeb97e757864ea2",
   "outputs": [],
   "execution_count": null
  },
  {
   "metadata": {},
   "cell_type": "markdown",
   "source": "#### Deliverable: SQL script as query_3.sql and a detailed analysis report as output_3.csv with columns clinic_location, average_fees, and average_waiting_time.",
   "id": "48f7f1532bb10b68"
  },
  {
   "metadata": {},
   "cell_type": "code",
   "source": [
    "data\\\n",
    "    .select(\"clinic_location\",\"total_minutes\",\"fees_value\")\\\n",
    "    .groupby(col(\"clinic_location\"))\\\n",
    "    .agg(max(\"total_minutes\").alias(\"max_minutes\"),\n",
    "         max(\"fees_value\").alias(\"max_fees\"))\\\n",
    "    .withColumn(\"rnk\",dense_rank().over(Window.orderBy(col(\"max_minutes\").desc(),col(\"max_fees\").desc())))\\\n",
    "    .filter(col(\"rnk\")==1)\\\n",
    "    .drop(\"rnk\")\\\n",
    "    .show()\n",
    "\n",
    "\n",
    "data\\\n",
    "    .select(\"clinic_location\",\"total_minutes\",\"fees_value\")\\\n",
    "    .groupby(col(\"clinic_location\"))\\\n",
    "    .agg(min(\"total_minutes\").alias(\"min_minutes\"),\n",
    "         min(\"fees_value\").alias(\"min_fees\"))\\\n",
    "    .withColumn(\"rnk\",dense_rank().over(Window.orderBy(col(\"min_minutes\"),col(\"min_fees\"))))\\\n",
    "    .filter(col(\"rnk\")==1)\\\n",
    "    .drop(\"rnk\")\\\n",
    "    .show()"
   ],
   "id": "667e67fc0c8d4fde",
   "outputs": [],
   "execution_count": null
  },
  {
   "metadata": {},
   "cell_type": "code",
   "source": "",
   "id": "f235d55680732eb2",
   "outputs": [],
   "execution_count": null
  }
 ],
 "metadata": {
  "kernelspec": {
   "display_name": "Python 3",
   "language": "python",
   "name": "python3"
  },
  "language_info": {
   "codemirror_mode": {
    "name": "ipython",
    "version": 2
   },
   "file_extension": ".py",
   "mimetype": "text/x-python",
   "name": "python",
   "nbconvert_exporter": "python",
   "pygments_lexer": "ipython2",
   "version": "2.7.6"
  }
 },
 "nbformat": 4,
 "nbformat_minor": 5
}
