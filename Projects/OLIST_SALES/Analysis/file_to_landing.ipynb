{
 "cells": [
  {
   "cell_type": "code",
   "id": "initial_id",
   "metadata": {
    "collapsed": true,
    "ExecuteTime": {
     "end_time": "2024-12-01T19:42:40.734986Z",
     "start_time": "2024-12-01T19:42:40.725838Z"
    }
   },
   "source": [
    "import os\n",
    "import requests\n",
    "\n",
    "def download_github_folder(repo_owner, repo_name, folder_path, branch=\"main\", save_dir=\".\"):\n",
    "    \"\"\"\n",
    "    Downloads all files in a folder from a GitHub repository.\n",
    "\n",
    "    Parameters:\n",
    "        repo_owner (str): GitHub username or organization name.\n",
    "        repo_name (str): Name of the repository.\n",
    "        folder_path (str): Path to the folder in the repository.\n",
    "        branch (str): Branch name (default: \"main\").\n",
    "        save_dir (str): Local directory to save the files (default: current directory).\n",
    "\n",
    "    Returns:\n",
    "        None\n",
    "    \"\"\"\n",
    "    # GitHub API URL to list folder contents\n",
    "    api_url = f\"https://api.github.com/repos/{repo_owner}/{repo_name}/contents/{folder_path}?ref={branch}\"\n",
    "    print(api_url)\n",
    "    \n",
    "    try:\n",
    "        # Get the folder contents\n",
    "        response = requests.get(api_url)\n",
    "        response.raise_for_status()\n",
    "        folder_contents = response.json()\n",
    "        \n",
    "        if not os.path.exists(save_dir):\n",
    "            os.makedirs(save_dir)\n",
    "        \n",
    "        for item in folder_contents:\n",
    "            if item[\"type\"] == \"file\":  # Only process files\n",
    "                file_url = item[\"download_url\"]  # Raw file URL\n",
    "                file_name = item[\"name\"]\n",
    "                file_path = os.path.join(save_dir, file_name)\n",
    "\n",
    "                # Download each file\n",
    "                file_response = requests.get(file_url)\n",
    "                file_response.raise_for_status()\n",
    "                \n",
    "                with open(file_path, \"wb\") as file:\n",
    "                    file.write(file_response.content)\n",
    "                \n",
    "                print(f\"Successfully Downloaded: {file_name}\")\n",
    "            else:\n",
    "                print(f\"Skipping folder: {item['name']} (nested folders not supported)\")\n",
    "    except requests.exceptions.RequestException as e:\n",
    "        print(f\"Error: {e}\")"
   ],
   "outputs": [],
   "execution_count": 5
  },
  {
   "metadata": {
    "ExecuteTime": {
     "end_time": "2024-12-01T19:42:44.016363Z",
     "start_time": "2024-12-01T19:42:41.805804Z"
    }
   },
   "cell_type": "code",
   "source": [
    "repo_owner = \"vegetariancoder\"  # Replace with GitHub username\n",
    "repo_name = \"competitive-programming\"  # Replace with the repository name\n",
    "folder_path = \"Projects/OLIST_SALES/dataset/\"  # Replace with the folder path in the repo\n",
    "branch = \"main\"  # Replace with the branch name if different\n",
    "save_dir = \"./downloads/\"  # Replace with the local folder to save files\n",
    "\n",
    "\n",
    "\n",
    "download_github_folder(repo_owner, repo_name, folder_path, branch, save_dir)\n"
   ],
   "id": "2d28326ca18fb414",
   "outputs": [
    {
     "name": "stdout",
     "output_type": "stream",
     "text": [
      "https://api.github.com/repos/vegetariancoder/competitive-programming/contents/Projects/OLIST_SALES/dataset/?ref=main\n",
      "Successfully Downloaded: olist_customers_dataset.csv\n",
      "Successfully Downloaded: olist_order_items_dataset.csv\n",
      "Successfully Downloaded: olist_order_payments_dataset.csv\n",
      "Successfully Downloaded: olist_order_reviews_dataset.csv\n",
      "Successfully Downloaded: olist_orders_dataset.csv\n",
      "Successfully Downloaded: olist_products_dataset.csv\n",
      "Successfully Downloaded: olist_sellers_dataset.csv\n",
      "Successfully Downloaded: product_category_name_translation.csv\n"
     ]
    }
   ],
   "execution_count": 6
  },
  {
   "metadata": {},
   "cell_type": "code",
   "outputs": [],
   "execution_count": null,
   "source": "",
   "id": "ce5073d0c0be0408"
  }
 ],
 "metadata": {
  "kernelspec": {
   "display_name": "Python 3",
   "language": "python",
   "name": "python3"
  },
  "language_info": {
   "codemirror_mode": {
    "name": "ipython",
    "version": 2
   },
   "file_extension": ".py",
   "mimetype": "text/x-python",
   "name": "python",
   "nbconvert_exporter": "python",
   "pygments_lexer": "ipython2",
   "version": "2.7.6"
  }
 },
 "nbformat": 4,
 "nbformat_minor": 5
}
